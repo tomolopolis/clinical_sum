{
 "cells": [
  {
   "cell_type": "code",
   "execution_count": null,
   "metadata": {},
   "outputs": [],
   "source": [
    "from tqdm import tqdm\n",
    "import torch\n",
    "from torch.utils.data import Dataset\n",
    "from transformers import GPT2LMHeadModel, GPT2TokenizerFast, BertLMHeadModel,\\\n",
    "    BertTokenizerFast, XLNetLMHeadModel, XLNetTokenizer, AutoTokenizer, AutoModelForCausalLM,\\\n",
    "    Trainer, TrainingArguments\n",
    "from datasets import load_dataset\n",
    "import pandas as pd\n",
    "import numpy as np\n",
    "from itertools import chain\n",
    "import spacy\n",
    "from typing import List"
   ]
  },
  {
   "cell_type": "markdown",
   "metadata": {},
   "source": [
    "# Calculating PPL in Clinical Text "
   ]
  },
  {
   "cell_type": "markdown",
   "metadata": {},
   "source": [
    "## Data Preperation"
   ]
  },
  {
   "cell_type": "code",
   "execution_count": 27,
   "metadata": {},
   "outputs": [],
   "source": [
    "# stroke only text\n",
    "df_stroke = pd.read_csv('../data/43411_notes.csv')"
   ]
  },
  {
   "cell_type": "code",
   "execution_count": 2,
   "metadata": {},
   "outputs": [
    {
     "name": "stderr",
     "output_type": "stream",
     "text": [
      "/Users/tom/anaconda3/envs/distil_bert/lib/python3.7/site-packages/IPython/core/interactiveshell.py:3063: DtypeWarning: Columns (4,5,15) have mixed types.Specify dtype option on import or set low_memory=False.\n",
      "  interactivity=interactivity, compiler=compiler, result=result)\n"
     ]
    }
   ],
   "source": [
    "# all mimic text\n",
    "df_all = pd.read_csv('../data/mimic_3_all_notes_with_20_occurrences_of_primary_condition.csv')"
   ]
  },
  {
   "cell_type": "code",
   "execution_count": 5,
   "metadata": {},
   "outputs": [],
   "source": [
    "def split_texts(df: pd.DataFrame, out_dir: str='.'):   \n",
    "    hadm_ids = df.hadm_id.unique()\n",
    "    texts = {}\n",
    "    # recs = df.sort_values(['hadm_id', 'category', 'description', 'charttime']).groupby(['hadm_id', 'category', 'description'])\n",
    "    for i, df_adm in df.groupby('hadm_id'):\n",
    "        texts[i] = df_adm.text\n",
    "    train_set_len = round(len(texts.keys()) * 0.8)\n",
    "    train_hadms = [k for i, k in enumerate(texts.keys()) if i < train_set_len]\n",
    "    othr_hadms = [k for k in texts.keys() if k not in train_hadms]\n",
    "    val_hadms = [k for k in othr_hadms[0:int(len(othr_hadms) / 2)]]\n",
    "    test_hadms = [k for k in othr_hadms if k not in val_hadms]             \n",
    "\n",
    "    train_texts = list(chain.from_iterable([texts[i] for i in train_hadms]))\n",
    "    val_texts = list(chain.from_iterable([texts[i] for i in val_hadms]))\n",
    "    test_texts = list(chain.from_iterable([texts[i] for i in test_hadms]))\n",
    "\n",
    "    with open(f'{out_dir}/train_file.txt', 'w') as f:\n",
    "        for t in train_texts:\n",
    "            f.write(t)\n",
    "    with open(f'{out_dir}/val_file.txt', 'w') as f:\n",
    "        for t in val_texts:\n",
    "            f.write(t)\n",
    "    with open(f'{out_dir}/test_file.txt', 'w') as f:\n",
    "        for t in test_texts:\n",
    "            f.write(t)"
   ]
  },
  {
   "cell_type": "code",
   "execution_count": 6,
   "metadata": {},
   "outputs": [],
   "source": [
    "split_texts(df_all, out_dir='lm_data_mimic')"
   ]
  },
  {
   "cell_type": "code",
   "execution_count": 34,
   "metadata": {},
   "outputs": [],
   "source": [
    "df['cat_desc'] = df.apply(lambda r: f'{r.category}:{r.description}', axis=1)"
   ]
  },
  {
   "cell_type": "code",
   "execution_count": 44,
   "metadata": {},
   "outputs": [
    {
     "name": "stdout",
     "output_type": "stream",
     "text": [
      "# Docs: 1172433\n",
      "# Avg Len:2201.018789133366\n",
      "# Doc Types:3127\n"
     ]
    }
   ],
   "source": [
    "print(f'# Docs: {df.shape[0]}')\n",
    "print(f'# Avg Len:{np.average(df.text.apply(len))}')\n",
    "print(f'# Doc Types:{len(df[\"cat_desc\"].unique())}')"
   ]
  },
  {
   "cell_type": "code",
   "execution_count": 45,
   "metadata": {},
   "outputs": [],
   "source": [
    "df_stroke['cat_desc'] = df_stroke.apply(lambda r: f'{r.category}:{r.description}', axis=1)"
   ]
  },
  {
   "cell_type": "code",
   "execution_count": 47,
   "metadata": {},
   "outputs": [
    {
     "name": "stdout",
     "output_type": "stream",
     "text": [
      "# Docs: 8213\n",
      "# Avg Len:2231.6700353098745\n",
      "# Doc Types:241\n"
     ]
    }
   ],
   "source": [
    "print(f'# Docs: {df_stroke.shape[0]}')\n",
    "print(f'# Avg Len:{np.average(df_stroke.text.apply(len))}')\n",
    "print(f'# Doc Types:{len(df_stroke[\"cat_desc\"].unique())}')"
   ]
  },
  {
   "cell_type": "code",
   "execution_count": null,
   "metadata": {},
   "outputs": [],
   "source": [
    "split_texts(df_stroke, out_dir='lm_data_mimic_stroke')"
   ]
  },
  {
   "cell_type": "markdown",
   "metadata": {},
   "source": [
    "## Fine-Tuning of GPT-2\n",
    "Training script run_clm.py is run via tain_lm.sh\n",
    "- loading models via final running checkpoint."
   ]
  },
  {
   "cell_type": "code",
   "execution_count": null,
   "metadata": {},
   "outputs": [],
   "source": [
    "def compute_ppl(model: str, test_data:List[str], stride_div=2):\n",
    "    device = 'cuda'\n",
    "    model = AutoModelForCausalLM.from_pretrained(model).to(device)\n",
    "    tokenizer = AutoTokenizer.from_pretrained('gpt2')\n",
    "    max_length = model.config.n_positions\n",
    "   \n",
    "    encodings = tokenizer('\\n'.join(test_data), return_tensors='pt')\n",
    "   \n",
    "    \"\"\"the amount to window the input by\"\"\"\n",
    "    stride = int(max_length / stride_div)\n",
    "    lls = []\n",
    "    for i in tqdm(range(0, encodings.input_ids.size(1), stride)):\n",
    "        begin_loc = max(i + stride - max_length, 0)\n",
    "        end_loc = min(i + stride, encodings.input_ids.size(1))\n",
    "        trg_len = end_loc - i    # may be different from stride on last loop\n",
    "        input_ids = encodings.input_ids[:,begin_loc:end_loc].to(device)\n",
    "        target_ids = input_ids.clone()\n",
    "        target_ids[:,:-trg_len] = -100\n",
    "\n",
    "        with torch.no_grad():\n",
    "            outputs = model(input_ids, labels=target_ids)\n",
    "            log_likelihood = outputs[0] * trg_len\n",
    "\n",
    "        lls.append(log_likelihood)\n",
    "    ppl = torch.exp(torch.stack(lls).sum() / end_loc)\n",
    "    return ppl"
   ]
  },
  {
   "cell_type": "code",
   "execution_count": null,
   "metadata": {},
   "outputs": [],
   "source": [
    "test = load_dataset('wikitext', 'wikitext-2-raw-v1', split='test')\n",
    "test_data = test['text']"
   ]
  },
  {
   "cell_type": "code",
   "execution_count": null,
   "metadata": {},
   "outputs": [],
   "source": [
    "compute_ppl('gpt2', test_data)"
   ]
  },
  {
   "cell_type": "code",
   "execution_count": null,
   "metadata": {},
   "outputs": [],
   "source": [
    "compute_ppl('lm_outputs_mimic_stroke', test_data)"
   ]
  },
  {
   "cell_type": "code",
   "execution_count": null,
   "metadata": {},
   "outputs": [],
   "source": [
    "compute_ppl('lm_outputs_mimic', test_data)"
   ]
  },
  {
   "cell_type": "code",
   "execution_count": 27,
   "metadata": {},
   "outputs": [],
   "source": [
    "def compute_ppl(encodings, stride_div=1):\n",
    "    \"\"\"the amount to window the input by\"\"\"\n",
    "    stride = int(max_length / stride_div) \n",
    "    lls = []\n",
    "    for i in tqdm(range(0, encodings.input_ids.size(1), stride)):\n",
    "        begin_loc = max(i + stride - max_length, 0)\n",
    "        end_loc = min(i + stride, encodings.input_ids.size(1))\n",
    "        trg_len = end_loc - i    # may be different from stride on last loop\n",
    "        input_ids = encodings.input_ids[:,begin_loc:end_loc].to(device)\n",
    "        target_ids = input_ids.clone()\n",
    "        target_ids[:,:-trg_len] = -100\n",
    "\n",
    "        with torch.no_grad():\n",
    "            outputs = model(input_ids, labels=target_ids)\n",
    "            log_likelihood = outputs[0] * trg_len\n",
    "\n",
    "        lls.append(log_likelihood)\n",
    "    ppl = torch.exp(torch.stack(lls).sum() / end_loc)\n",
    "    return ppl"
   ]
  },
  {
   "cell_type": "code",
   "execution_count": 28,
   "metadata": {},
   "outputs": [
    {
     "name": "stderr",
     "output_type": "stream",
     "text": [
      "100%|██████████| 281/281 [00:10<00:00, 27.41it/s]\n"
     ]
    }
   ],
   "source": [
    "ppl = compute_ppl(encodings)"
   ]
  },
  {
   "cell_type": "code",
   "execution_count": 46,
   "metadata": {},
   "outputs": [
    {
     "data": {
      "text/plain": [
       "124439808"
      ]
     },
     "execution_count": 46,
     "metadata": {},
     "output_type": "execute_result"
    }
   ],
   "source": [
    "sum(p.numel() for p in model.parameters() if p.requires_grad)"
   ]
  },
  {
   "cell_type": "code",
   "execution_count": 29,
   "metadata": {},
   "outputs": [
    {
     "data": {
      "text/plain": [
       "6.760457"
      ]
     },
     "execution_count": 29,
     "metadata": {},
     "output_type": "execute_result"
    }
   ],
   "source": [
    "cross_entropy = np.log2(ppl.detach().cpu().numpy())\n",
    "cross_entropy"
   ]
  },
  {
   "cell_type": "code",
   "execution_count": 34,
   "metadata": {},
   "outputs": [
    {
     "name": "stderr",
     "output_type": "stream",
     "text": [
      "Token indices sequence length is longer than the specified maximum sequence length for this model (789575 > 1024). Running this sequence through the model will result in indexing errors\n",
      "100%|██████████| 772/772 [00:28<00:00, 27.43it/s]\n"
     ]
    },
    {
     "data": {
      "text/plain": [
       "4.5310745"
      ]
     },
     "execution_count": 34,
     "metadata": {},
     "output_type": "execute_result"
    }
   ],
   "source": [
    "encodings = tokenizer('\\n\\n'.join(open('lm_data/test_file.txt')), return_tensors='pt')\n",
    "ppl = compute_ppl(encodings)\n",
    "cross_entropy = np.log2(ppl.detach().cpu().numpy())\n",
    "cross_entropy"
   ]
  },
  {
   "cell_type": "code",
   "execution_count": 16,
   "metadata": {},
   "outputs": [],
   "source": [
    "# GPT-2-large: ppl: 16.44\n",
    "# model card on huggingface: huggingface.co/gpt2"
   ]
  },
  {
   "cell_type": "code",
   "execution_count": 79,
   "metadata": {},
   "outputs": [
    {
     "data": {
      "text/plain": [
       "15.617036934287741"
      ]
     },
     "execution_count": 79,
     "metadata": {},
     "output_type": "execute_result"
    }
   ],
   "source": [
    "# shannon bound - sub(word) level entropy / theoretical maximum entropy. i.e. H(P)\n",
    "np.log2(model.config.vocab_size)"
   ]
  },
  {
   "cell_type": "code",
   "execution_count": null,
   "metadata": {},
   "outputs": [],
   "source": [
    "# cross-entropy loss, i.e. H(P, Q) = H(P) + D_{KL}(P||Q), divergence >= 0, so H(P, Q) >= H(P)\n",
    "# PPL ==2^{H(P,Q)}"
   ]
  },
  {
   "cell_type": "code",
   "execution_count": null,
   "metadata": {},
   "outputs": [],
   "source": [
    "# gpt perplexity on clinical text, non-fine-tuned"
   ]
  },
  {
   "cell_type": "code",
   "execution_count": 73,
   "metadata": {},
   "outputs": [
    {
     "name": "stderr",
     "output_type": "stream",
     "text": [
      "Token indices sequence length is longer than the specified maximum sequence length for this model (1224234 > 1024). Running this sequence through the model will result in indexing errors\n"
     ]
    }
   ],
   "source": [
    "encodings = tokenizer('\\n\\n'.join(test_texts), return_tensors='pt')"
   ]
  },
  {
   "cell_type": "code",
   "execution_count": 76,
   "metadata": {},
   "outputs": [
    {
     "name": "stderr",
     "output_type": "stream",
     "text": [
      "100%|██████████| 1196/1196 [03:55<00:00,  5.07it/s]\n"
     ]
    }
   ],
   "source": [
    "ppl = compute_ppl(encodings)"
   ]
  }
 ],
 "metadata": {
  "kernelspec": {
   "display_name": "Python [conda env:distil_bert]",
   "language": "python",
   "name": "conda-env-distil_bert-py"
  },
  "language_info": {
   "codemirror_mode": {
    "name": "ipython",
    "version": 3
   },
   "file_extension": ".py",
   "mimetype": "text/x-python",
   "name": "python",
   "nbconvert_exporter": "python",
   "pygments_lexer": "ipython3",
   "version": "3.7.7"
  }
 },
 "nbformat": 4,
 "nbformat_minor": 4
}
