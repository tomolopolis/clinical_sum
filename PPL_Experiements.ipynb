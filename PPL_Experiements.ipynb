{
 "cells": [
  {
   "cell_type": "markdown",
   "metadata": {},
   "source": [
    "### Calculating PPL in Clinical Text "
   ]
  },
  {
   "cell_type": "code",
   "execution_count": 113,
   "metadata": {},
   "outputs": [],
   "source": [
    "from tqdm import tqdm\n",
    "import torch\n",
    "from torch.utils.data import Dataset\n",
    "from transformers import GPT2LMHeadModel, GPT2TokenizerFast, BertLMHeadModel,\\\n",
    "    BertTokenizerFast, XLNetLMHeadModel, XLNetTokenizer, AutoTokenizer, AutoModelForCausalLM,\\\n",
    "    Trainer, TrainingArguments\n",
    "from datasets import load_dataset\n",
    "import pandas as pd\n",
    "import numpy as np\n",
    "from itertools import chain\n",
    "import spacy\n",
    "from typing import List\n",
    "import pickle \n",
    "import os"
   ]
  },
  {
   "cell_type": "code",
   "execution_count": 48,
   "metadata": {},
   "outputs": [],
   "source": [
    "device = 'cuda'"
   ]
  },
  {
   "cell_type": "code",
   "execution_count": 22,
   "metadata": {},
   "outputs": [],
   "source": [
    "loaded_open_web_text = load_dataset('openwebtext')['train']"
   ]
  },
  {
   "cell_type": "code",
   "execution_count": null,
   "metadata": {},
   "outputs": [],
   "source": [
    "ds = load_dataset('wikitext', 'wikitext-2-raw-v1')\n",
    "test_data = ds['test']['text']"
   ]
  },
  {
   "cell_type": "code",
   "execution_count": 22,
   "metadata": {},
   "outputs": [],
   "source": [
    "def compute_ppl(model: str, test_data:List[str], stride_div=2):\n",
    "    model = AutoModelForCausalLM.from_pretrained(model).to(device)\n",
    "    tokenizer = AutoTokenizer.from_pretrained('gpt2')\n",
    "    max_length = model.config.n_positions\n",
    "    \n",
    "    encodings = tokenizer('\\n'.join(test_data), return_tensors='pt')\n",
    "    \n",
    "    \"\"\"the amount to window the input by\"\"\"\n",
    "    stride = int(max_length / stride_div) \n",
    "    lls = []\n",
    "    for i in tqdm(range(0, encodings.input_ids.size(1), stride)):\n",
    "        begin_loc = max(i + stride - max_length, 0)\n",
    "        end_loc = min(i + stride, encodings.input_ids.size(1))\n",
    "        trg_len = end_loc - i    # may be different from stride on last loop\n",
    "        input_ids = encodings.input_ids[:,begin_loc:end_loc].to(device)\n",
    "        target_ids = input_ids.clone()\n",
    "        target_ids[:,:-trg_len] = -100\n",
    "\n",
    "        with torch.no_grad():\n",
    "            outputs = model(input_ids, labels=target_ids)\n",
    "            log_likelihood = outputs[0] * trg_len\n",
    "\n",
    "        lls.append(log_likelihood)\n",
    "    ppl = torch.exp(torch.stack(lls).sum() / end_loc)\n",
    "    return ppl"
   ]
  },
  {
   "cell_type": "code",
   "execution_count": 8,
   "metadata": {},
   "outputs": [
    {
     "name": "stderr",
     "output_type": "stream",
     "text": [
      "Token indices sequence length is longer than the specified maximum sequence length for this model (287644 > 1024). Running this sequence through the model will result in indexing errors\n",
      "100%|██████████| 562/562 [00:20<00:00, 27.65it/s]\n"
     ]
    },
    {
     "data": {
      "text/plain": [
       "tensor(25.1705, device='cuda:0')"
      ]
     },
     "execution_count": 8,
     "metadata": {},
     "output_type": "execute_result"
    }
   ],
   "source": [
    "compute_ppl('gpt2', test_data)"
   ]
  },
  {
   "cell_type": "code",
   "execution_count": 2,
   "metadata": {},
   "outputs": [],
   "source": [
    "# wikiText2 downloaded via huggingface datasets \n",
    "# downloaded to disk, as GPU box didn't have access to certain (i.e. github) URLs."
   ]
  },
  {
   "cell_type": "code",
   "execution_count": 26,
   "metadata": {},
   "outputs": [],
   "source": [
    "wiki_text = pickle.load(open('wikiText2-test.pickle', 'rb'))"
   ]
  },
  {
   "cell_type": "code",
   "execution_count": null,
   "metadata": {},
   "outputs": [],
   "source": [
    "open_web_text = load_dataset('openwebtext')['train']"
   ]
  },
  {
   "cell_type": "code",
   "execution_count": 4,
   "metadata": {},
   "outputs": [],
   "source": [
    "open_web_text_val = open_web_text[np.random.randint(0, len(open_web_text), size=5000)]"
   ]
  },
  {
   "cell_type": "code",
   "execution_count": 92,
   "metadata": {},
   "outputs": [],
   "source": [
    "with (open('open_web_text_val.txt', 'w')) as f:\n",
    "      f.writelines(open_web_text_val['text'])"
   ]
  },
  {
   "cell_type": "code",
   "execution_count": 7,
   "metadata": {},
   "outputs": [
    {
     "name": "stderr",
     "output_type": "stream",
     "text": [
      "Token indices sequence length is longer than the specified maximum sequence length for this model (5602680 > 1024). Running this sequence through the model will result in indexing errors\n",
      "100%|██████████| 10943/10943 [06:39<00:00, 27.39it/s]\n"
     ]
    },
    {
     "data": {
      "text/plain": [
       "tensor(21.1045, device='cuda:0')"
      ]
     },
     "execution_count": 7,
     "metadata": {},
     "output_type": "execute_result"
    }
   ],
   "source": [
    "compute_ppl('gpt2', open_web_text_val['text'])"
   ]
  },
  {
   "cell_type": "code",
   "execution_count": 96,
   "metadata": {},
   "outputs": [],
   "source": [
    "with open('wikieText2-test.txt', 'w') as f:\n",
    "    f.writelines(wiki_text)"
   ]
  },
  {
   "cell_type": "code",
   "execution_count": 14,
   "metadata": {},
   "outputs": [
    {
     "name": "stderr",
     "output_type": "stream",
     "text": [
      "Token indices sequence length is longer than the specified maximum sequence length for this model (251048 > 1024). Running this sequence through the model will result in indexing errors\n",
      "100%|██████████| 491/491 [00:17<00:00, 27.69it/s]\n"
     ]
    },
    {
     "data": {
      "text/plain": [
       "tensor(26.3928, device='cuda:0')"
      ]
     },
     "execution_count": 14,
     "metadata": {},
     "output_type": "execute_result"
    }
   ],
   "source": [
    "compute_ppl('gpt2', ds['validation']['text'])"
   ]
  },
  {
   "cell_type": "code",
   "execution_count": 34,
   "metadata": {},
   "outputs": [],
   "source": [
    "wiki_text = pickle.load(open('wikiText2-test.pickle', 'rb'))"
   ]
  },
  {
   "cell_type": "code",
   "execution_count": 35,
   "metadata": {},
   "outputs": [
    {
     "name": "stderr",
     "output_type": "stream",
     "text": [
      "Token indices sequence length is longer than the specified maximum sequence length for this model (287644 > 1024). Running this sequence through the model will result in indexing errors\n",
      "100%|██████████| 562/562 [00:20<00:00, 27.76it/s]\n"
     ]
    },
    {
     "data": {
      "text/plain": [
       "tensor(25.1705, device='cuda:0')"
      ]
     },
     "execution_count": 35,
     "metadata": {},
     "output_type": "execute_result"
    }
   ],
   "source": [
    "compute_ppl('gpt2', wiki_text)"
   ]
  },
  {
   "cell_type": "code",
   "execution_count": 36,
   "metadata": {},
   "outputs": [
    {
     "name": "stderr",
     "output_type": "stream",
     "text": [
      "Token indices sequence length is longer than the specified maximum sequence length for this model (287644 > 1024). Running this sequence through the model will result in indexing errors\n",
      "100%|██████████| 562/562 [00:20<00:00, 27.69it/s]\n"
     ]
    },
    {
     "data": {
      "text/plain": [
       "tensor(126.3712, device='cuda:0')"
      ]
     },
     "execution_count": 36,
     "metadata": {},
     "output_type": "execute_result"
    }
   ],
   "source": [
    "compute_ppl('lm_outputs_mimic_stroke', wiki_text)"
   ]
  },
  {
   "cell_type": "code",
   "execution_count": 37,
   "metadata": {},
   "outputs": [
    {
     "name": "stderr",
     "output_type": "stream",
     "text": [
      "Token indices sequence length is longer than the specified maximum sequence length for this model (287644 > 1024). Running this sequence through the model will result in indexing errors\n",
      "100%|██████████| 562/562 [00:20<00:00, 27.61it/s]\n"
     ]
    },
    {
     "data": {
      "text/plain": [
       "tensor(427.2962, device='cuda:0')"
      ]
     },
     "execution_count": 37,
     "metadata": {},
     "output_type": "execute_result"
    }
   ],
   "source": [
    "compute_ppl('lm_outputs_mimic', wiki_text)"
   ]
  },
  {
   "cell_type": "code",
   "execution_count": 84,
   "metadata": {},
   "outputs": [
    {
     "name": "stderr",
     "output_type": "stream",
     "text": [
      "Using custom data configuration default\n",
      "Reusing dataset text (/home/thomass/.cache/huggingface/datasets/text/default-2f2b11b60e8f6607/0.0.0/71d5fe73c3304ac69797de827d0332aab54788917557b56f6e36824791677ac5)\n"
     ]
    }
   ],
   "source": [
    "val_ds = load_dataset('text.py', data_files={'validation': 'lm_data_mimic/val_file.txt'})"
   ]
  },
  {
   "cell_type": "code",
   "execution_count": null,
   "metadata": {},
   "outputs": [],
   "source": [
    "print(compute_ppl('lm_outputs_mimic_stroke', mimic_stroke_val))"
   ]
  },
  {
   "cell_type": "code",
   "execution_count": null,
   "metadata": {},
   "outputs": [
    {
     "name": "stderr",
     "output_type": "stream",
     "text": [
      "Token indices sequence length is longer than the specified maximum sequence length for this model (99884736 > 1024). Running this sequence through the model will result in indexing errors\n",
      " 58%|█████▊    | 112372/195088 [1:08:42<50:21, 27.37it/s]  "
     ]
    }
   ],
   "source": [
    "print(compute_ppl('lm_outputs_mimic', mimic_val))"
   ]
  },
  {
   "cell_type": "code",
   "execution_count": 79,
   "metadata": {},
   "outputs": [
    {
     "data": {
      "text/plain": [
       "15.617036934287741"
      ]
     },
     "execution_count": 79,
     "metadata": {},
     "output_type": "execute_result"
    }
   ],
   "source": [
    "# shannon bound - sub(word) level entropy / theoretical maximum entropy. i.e. H(P)\n",
    "np.log2(model.config.vocab_size)"
   ]
  },
  {
   "cell_type": "markdown",
   "metadata": {},
   "source": [
    "## Train / Val / Test Splits "
   ]
  },
  {
   "cell_type": "code",
   "execution_count": 98,
   "metadata": {},
   "outputs": [],
   "source": [
    "df = pd.read_csv('../data/43411_notes.csv')"
   ]
  },
  {
   "cell_type": "code",
   "execution_count": 100,
   "metadata": {},
   "outputs": [
    {
     "name": "stderr",
     "output_type": "stream",
     "text": [
      "/home/thomass/anaconda3/envs/transformers/lib/python3.7/site-packages/IPython/core/interactiveshell.py:3072: DtypeWarning: Columns (5,6) have mixed types.Specify dtype option on import or set low_memory=False.\n",
      "  interactivity=interactivity, compiler=compiler, result=result)\n"
     ]
    }
   ],
   "source": [
    "df = pd.read_csv('../data/mimic_3_all_notes_with_20_occurrences_of_primary_condition.csv')"
   ]
  },
  {
   "cell_type": "code",
   "execution_count": 105,
   "metadata": {},
   "outputs": [],
   "source": [
    "df = pd.read_pickle('stroke_notes.pickle')"
   ]
  },
  {
   "cell_type": "code",
   "execution_count": 117,
   "metadata": {},
   "outputs": [],
   "source": [
    "df['text'] = df.body_analysed"
   ]
  },
  {
   "cell_type": "code",
   "execution_count": 115,
   "metadata": {},
   "outputs": [],
   "source": [
    "def split_texts(df: pd.DataFrame, out_dir: str='.', hadm_id_col='hadm_id'):   \n",
    "    hadm_ids = df[hadm_id_col].unique()\n",
    "    texts = {}\n",
    "    for i, df_adm in df.groupby(hadm_id_col):\n",
    "        texts[i] = df_adm.text\n",
    "    train_set_len = round(len(texts.keys()) * 0.8)\n",
    "    train_hadms = [k for i, k in enumerate(texts.keys()) if i < train_set_len]\n",
    "    othr_hadms = [k for k in texts.keys() if k not in train_hadms]\n",
    "    val_hadms = [k for k in othr_hadms[0:int(len(othr_hadms) / 2)]]\n",
    "    test_hadms = [k for k in othr_hadms if k not in val_hadms]             \n",
    "\n",
    "    train_texts = list(chain.from_iterable([texts[i] for i in train_hadms]))\n",
    "    val_texts = list(chain.from_iterable([texts[i] for i in val_hadms]))\n",
    "    test_texts = list(chain.from_iterable([texts[i] for i in test_hadms]))\n",
    "\n",
    "    os.makedirs(out_dir, exist_ok=True)\n",
    "    with open(f'{out_dir}/train_file.txt', 'w') as f:\n",
    "        for t in train_texts:\n",
    "            f.write(t)\n",
    "    with open(f'{out_dir}/val_file.txt', 'w') as f:\n",
    "        for t in val_texts:\n",
    "            f.write(t)\n",
    "    with open(f'{out_dir}/test_file.txt', 'w') as f:\n",
    "        for t in test_texts:\n",
    "            f.write(t)"
   ]
  },
  {
   "cell_type": "code",
   "execution_count": 116,
   "metadata": {},
   "outputs": [],
   "source": [
    "split_texts(df, out_dir='kch_stroke_data', hadm_id_col='clientvisit_guid')"
   ]
  },
  {
   "cell_type": "code",
   "execution_count": null,
   "metadata": {},
   "outputs": [],
   "source": [
    "# gpt perplexity on clinical text, non-fine-tuned"
   ]
  },
  {
   "cell_type": "code",
   "execution_count": 73,
   "metadata": {},
   "outputs": [
    {
     "name": "stderr",
     "output_type": "stream",
     "text": [
      "Token indices sequence length is longer than the specified maximum sequence length for this model (1224234 > 1024). Running this sequence through the model will result in indexing errors\n"
     ]
    }
   ],
   "source": [
    "encodings = tokenizer('\\n\\n'.join(test_texts), return_tensors='pt')"
   ]
  },
  {
   "cell_type": "code",
   "execution_count": 76,
   "metadata": {},
   "outputs": [
    {
     "name": "stderr",
     "output_type": "stream",
     "text": [
      "100%|██████████| 1196/1196 [03:55<00:00,  5.07it/s]\n"
     ]
    }
   ],
   "source": [
    "ppl = compute_ppl(encodings)"
   ]
  },
  {
   "cell_type": "code",
   "execution_count": 81,
   "metadata": {},
   "outputs": [
    {
     "data": {
      "text/plain": [
       "tensor(4.2651)"
      ]
     },
     "execution_count": 81,
     "metadata": {},
     "output_type": "execute_result"
    }
   ],
   "source": [
    "np.log2(ppl.detach().cpu())"
   ]
  }
 ],
 "metadata": {
  "kernelspec": {
   "display_name": "Python [conda env:cattrainer]",
   "language": "python",
   "name": "conda-env-cattrainer-py"
  },
  "language_info": {
   "codemirror_mode": {
    "name": "ipython",
    "version": 3
   },
   "file_extension": ".py",
   "mimetype": "text/x-python",
   "name": "python",
   "nbconvert_exporter": "python",
   "pygments_lexer": "ipython3",
   "version": "3.7.0"
  }
 },
 "nbformat": 4,
 "nbformat_minor": 4
}
