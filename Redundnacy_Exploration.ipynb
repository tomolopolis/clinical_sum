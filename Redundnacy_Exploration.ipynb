{
 "cells": [
  {
   "cell_type": "code",
   "execution_count": 1,
   "metadata": {},
   "outputs": [],
   "source": [
    "%load_ext autoreload"
   ]
  },
  {
   "cell_type": "code",
   "execution_count": 2,
   "metadata": {},
   "outputs": [],
   "source": [
    "%autoreload 2"
   ]
  },
  {
   "cell_type": "code",
   "execution_count": 3,
   "metadata": {},
   "outputs": [],
   "source": [
    "from icd9cms import search\n",
    "import os\n",
    "import pandas as pd\n",
    "from collections import defaultdict\n",
    "import json\n",
    "from itertools import chain\n",
    "import ipywidgets as widgets\n",
    "from IPython.display import display\n",
    "import re\n",
    "from collections import Counter\n",
    "from collections import defaultdict\n",
    "import difflib\n",
    "from differ import html_diffs, align_seqs, sentencize, diff_ratio, diff_quick_ratio, show_diffs"
   ]
  },
  {
   "cell_type": "code",
   "execution_count": 6,
   "metadata": {},
   "outputs": [],
   "source": [
    "codes = pd.read_csv('/Users/tom/phd/summariser/primary_codes.csv')\n",
    "sorted_primary_codes_df =codes['icd9_code'].value_counts().rename_axis('code').reset_index()\n",
    "sorted_primary_codes_df['long_title'] = sorted_primary_codes_df['code'].apply(lambda c: search(c).long_desc or search(c).short_desc)\n",
    "sorted_primary_codes_df.columns = ['code', 'count', 'long_title']\n",
    "sorted_primary_codes_df = sorted_primary_codes_df[~sorted_primary_codes_df.code.str.startswith('V3')]"
   ]
  },
  {
   "cell_type": "code",
   "execution_count": 7,
   "metadata": {},
   "outputs": [
    {
     "data": {
      "text/html": [
       "<div>\n",
       "<style scoped>\n",
       "    .dataframe tbody tr th:only-of-type {\n",
       "        vertical-align: middle;\n",
       "    }\n",
       "\n",
       "    .dataframe tbody tr th {\n",
       "        vertical-align: top;\n",
       "    }\n",
       "\n",
       "    .dataframe thead th {\n",
       "        text-align: right;\n",
       "    }\n",
       "</style>\n",
       "<table border=\"1\" class=\"dataframe\">\n",
       "  <thead>\n",
       "    <tr style=\"text-align: right;\">\n",
       "      <th></th>\n",
       "      <th>code</th>\n",
       "      <th>count</th>\n",
       "      <th>long_title</th>\n",
       "    </tr>\n",
       "  </thead>\n",
       "  <tbody>\n",
       "    <tr>\n",
       "      <th>1</th>\n",
       "      <td>41401</td>\n",
       "      <td>3498</td>\n",
       "      <td>Coronary atherosclerosis of native coronary ar...</td>\n",
       "    </tr>\n",
       "  </tbody>\n",
       "</table>\n",
       "</div>"
      ],
      "text/plain": [
       "    code  count                                         long_title\n",
       "1  41401   3498  Coronary atherosclerosis of native coronary ar..."
      ]
     },
     "execution_count": 7,
     "metadata": {},
     "output_type": "execute_result"
    }
   ],
   "source": [
    "sorted_primary_codes_df[sorted_primary_codes_df.code.str.startswith('41401')]"
   ]
  },
  {
   "cell_type": "code",
   "execution_count": 8,
   "metadata": {},
   "outputs": [
    {
     "data": {
      "text/html": [
       "<div>\n",
       "<style scoped>\n",
       "    .dataframe tbody tr th:only-of-type {\n",
       "        vertical-align: middle;\n",
       "    }\n",
       "\n",
       "    .dataframe tbody tr th {\n",
       "        vertical-align: top;\n",
       "    }\n",
       "\n",
       "    .dataframe thead th {\n",
       "        text-align: right;\n",
       "    }\n",
       "</style>\n",
       "<table border=\"1\" class=\"dataframe\">\n",
       "  <thead>\n",
       "    <tr style=\"text-align: right;\">\n",
       "      <th></th>\n",
       "      <th>code</th>\n",
       "      <th>count</th>\n",
       "      <th>long_title</th>\n",
       "    </tr>\n",
       "  </thead>\n",
       "  <tbody>\n",
       "    <tr>\n",
       "      <th>1</th>\n",
       "      <td>41401</td>\n",
       "      <td>3498</td>\n",
       "      <td>Coronary atherosclerosis of native coronary ar...</td>\n",
       "    </tr>\n",
       "    <tr>\n",
       "      <th>4</th>\n",
       "      <td>41071</td>\n",
       "      <td>1751</td>\n",
       "      <td>Subendocardial infarction, initial episode of ...</td>\n",
       "    </tr>\n",
       "    <tr>\n",
       "      <th>15</th>\n",
       "      <td>41041</td>\n",
       "      <td>482</td>\n",
       "      <td>Acute myocardial infarction of other inferior ...</td>\n",
       "    </tr>\n",
       "    <tr>\n",
       "      <th>16</th>\n",
       "      <td>41011</td>\n",
       "      <td>482</td>\n",
       "      <td>Acute myocardial infarction of other anterior ...</td>\n",
       "    </tr>\n",
       "    <tr>\n",
       "      <th>20</th>\n",
       "      <td>41519</td>\n",
       "      <td>343</td>\n",
       "      <td>Other pulmonary embolism and infarction</td>\n",
       "    </tr>\n",
       "  </tbody>\n",
       "</table>\n",
       "</div>"
      ],
      "text/plain": [
       "     code  count                                         long_title\n",
       "1   41401   3498  Coronary atherosclerosis of native coronary ar...\n",
       "4   41071   1751  Subendocardial infarction, initial episode of ...\n",
       "15  41041    482  Acute myocardial infarction of other inferior ...\n",
       "16  41011    482  Acute myocardial infarction of other anterior ...\n",
       "20  41519    343            Other pulmonary embolism and infarction"
      ]
     },
     "execution_count": 8,
     "metadata": {},
     "output_type": "execute_result"
    }
   ],
   "source": [
    "sorted_primary_codes_df[sorted_primary_codes_df.code.str.startswith('41')].head(5)"
   ]
  },
  {
   "cell_type": "code",
   "execution_count": 424,
   "metadata": {},
   "outputs": [
    {
     "data": {
      "text/plain": [
       "['Cerebral embolism with cerebral infarction',\n",
       " 'Cerebral artery occlusion, unspecified with cerebral infarction',\n",
       " 'Cerebral thrombosis with cerebral infarction',\n",
       " 'Cerebral artery occlusion, unspecified without mention of cerebral infarction',\n",
       " 'Cerebral embolism without mention of cerebral infarction']"
      ]
     },
     "execution_count": 424,
     "metadata": {},
     "output_type": "execute_result"
    }
   ],
   "source": [
    "sorted_primary_codes_df[sorted_primary_codes_df.code.str.startswith('434')].long_title.tolist()"
   ]
  },
  {
   "cell_type": "markdown",
   "metadata": {},
   "source": [
    "### 41401 Notes"
   ]
  },
  {
   "cell_type": "code",
   "execution_count": 11,
   "metadata": {},
   "outputs": [],
   "source": [
    "notes = pd.read_csv('/Users/tom/phd/summariser/data/41401_notes.csv')"
   ]
  },
  {
   "cell_type": "code",
   "execution_count": 12,
   "metadata": {},
   "outputs": [],
   "source": [
    "discharge_notes = notes[(notes.category == 'Discharge summary') & (notes.description != 'Addendum')]"
   ]
  },
  {
   "cell_type": "code",
   "execution_count": 14,
   "metadata": {},
   "outputs": [],
   "source": [
    "splitter = '------\\n------\\n------\\n'\n",
    "def split_notes(notes):\n",
    "    care_notes = defaultdict(list)\n",
    "    discharge_notes = defaultdict(list)\n",
    "    for adm, df in notes.sort_values(['hadm_id', 'chartdate', 'charttime']).groupby('hadm_id'):\n",
    "        dis_notes = df[(df.category == 'Discharge summary') & (df.description != 'Addendum')].text.tolist()\n",
    "        care_df = df[df.category != 'Discharge summary']\n",
    "        if len(dis_notes) == 0 or care_df.shape[0] == 0:\n",
    "            continue\n",
    "\n",
    "        hadm_id = care_df.hadm_id.iloc[0]\n",
    "        # pick first as there are rarely 2 summaries??\n",
    "\n",
    "        discharge_notes['hadm_id'].append(hadm_id)\n",
    "        discharge_notes['text'].append(dis_notes[0])\n",
    "        # ignore addendums - as not sure what section they are in.\n",
    "\n",
    "        care_notes['hadm_id'].append(hadm_id)\n",
    "        care_notes['text'].append(care_df.text.str.cat(sep=splitter))\n",
    "        care_notes['first_time'].append(care_df.iloc[0].charttime or care_df.iloc[0].chartdate)\n",
    "        care_notes['last_time'].append(care_df.iloc[-1].charttime or care_df.iloc[-1].chartdate)\n",
    "        care_notes['categories'].append(care_df.category.tolist())\n",
    "        care_notes['descriptions'].append(care_df.description.tolist())\n",
    "        care_notes['icd_code'].append(care_df.icd9_code.iloc[0])\n",
    "    care_notes_df = pd.DataFrame(care_notes)\n",
    "    discharge_notes_df = pd.DataFrame(discharge_notes)\n",
    "    return care_notes_df, discharge_notes_df"
   ]
  },
  {
   "cell_type": "code",
   "execution_count": 18,
   "metadata": {},
   "outputs": [],
   "source": [
    "care_notes_df, discharge_notes_df = split_notes(notes)"
   ]
  },
  {
   "cell_type": "code",
   "execution_count": null,
   "metadata": {},
   "outputs": [],
   "source": [
    "## note types\n",
    "set(chain.from_iterable([set(c) for c in care_notes_df.categories if 'Physician ' not in c]))"
   ]
  },
  {
   "cell_type": "code",
   "execution_count": 34,
   "metadata": {},
   "outputs": [],
   "source": [
    "care_notes_df['cat_descs'] = care_notes_df.apply(lambda r: [(f'{c.strip()}:{d}') for c,d in zip(r.categories, r.descriptions)], axis=1)"
   ]
  },
  {
   "cell_type": "code",
   "execution_count": 99,
   "metadata": {},
   "outputs": [],
   "source": [
    "def compute_diff(notes: pd.DataFrame) -> pd.DataFrame:\n",
    "    internote_sort_cols = ['hadm_id', 'chartdate', 'charttime', 'category', 'description']\n",
    "    internote_group_keys = ['hadm_id', 'category', 'description']\n",
    "    groups_gen = notes.sort_values(internote_sort_cols).groupby(internote_group_keys)\n",
    "    results = defaultdict(list)\n",
    "    for k, g in groups_gen:\n",
    "        if g.shape[0] > 1:\n",
    "            ratios, std_devs, max_ratios, min_ratios, redundant_toks, total_tokens = [], [], [], [], [], []\n",
    "            for i in range(len(g.text.tolist()) - 1):\n",
    "                ratio, std_dev, max_ratio, min_ratio, redundant_toks_len, total_toks = \\\n",
    "                    diff_ratio(g.text.iloc[i], g.text.iloc[i+1])\n",
    "                ratios.append(ratio)\n",
    "                std_devs.append(std_dev)\n",
    "                max_ratios.append(max_ratio)\n",
    "                min_ratios.append(min_ratio)\n",
    "                redundant_toks.append(redundant_toks_len)\n",
    "                total_tokens.append(total_toks)\n",
    "            results['diff_ratios'].append(ratios)\n",
    "            results['max_ratios'].append(max(max_ratios))\n",
    "            results['min_ratios'].append(min(min_ratios))\n",
    "            results['redundant_toks'].append(sum(redundant_toks))\n",
    "            results['total_tokens'].append(sum(total_tokens))\n",
    "            results['avg_diff_ratio'].append(sum(ratios) / len(ratios))\n",
    "            txt_lens = g.text.apply(len)\n",
    "            results['avg_txt_len'].append(sum(txt_lens) / len(txt_lens))\n",
    "            results['hadm_id'].append(k[0])\n",
    "            results['category'].append(k[1])\n",
    "            results['description'].append(k[2])\n",
    "    return pd.DataFrame(results)"
   ]
  },
  {
   "cell_type": "code",
   "execution_count": 108,
   "metadata": {},
   "outputs": [],
   "source": [
    "def compute_avgs(results_df: pd.DataFrame) -> pd.DataFrame:\n",
    "    cat_desc_avg = defaultdict(list)\n",
    "    for k, df in results_df.groupby(['category', 'description']):\n",
    "        cat_desc_avg['cat_desc'].append(f'{k[0]}:{k[1]}')\n",
    "        cat_desc_avg['redundant_toks'].append(sum(df.redundant_toks))\n",
    "        cat_desc_avg['total_toks'].append(sum(df.total_tokens))\n",
    "        cat_desc_avg['avg_txt_len'].append(sum(df.avg_txt_len) / len(df.avg_txt_len))\n",
    "        cat_desc_avg['macro_avg'].append(sum(df.avg_diff_ratio) / df.avg_diff_ratio.shape[0])\n",
    "        d_r = list(chain.from_iterable(df.diff_ratios))\n",
    "        cat_desc_avg['micro_avg'].append(sum(d_r) / len(d_r))\n",
    "        cat_desc_avg['num_instances'].append(len(d_r))\n",
    "    group_avgs = pd.DataFrame(cat_desc_avg)\n",
    "    group_avgs = group_avgs[~group_avgs.cat_desc.str.contains('Discharge summary')]\n",
    "    group_avgs = group_avgs[group_avgs['num_instances'] > 5]\n",
    "    group_avgs = group_avgs.sort_values('num_instances', ascending=False).reset_index(drop=True).head(20)\n",
    "    return group_avgs"
   ]
  },
  {
   "cell_type": "code",
   "execution_count": 88,
   "metadata": {},
   "outputs": [
    {
     "name": "stdout",
     "output_type": "stream",
     "text": [
      "Token level / global note redundancy with concurrent notes:\n",
      "Overall Average Internote type redundnacy:0.25971102225247733\n"
     ]
    }
   ],
   "source": [
    "print('Token level / global note redundancy with concurrent notes:')\n",
    "print(f'Overall Average Internote type redundnacy:{results_df.avg_diff_ratio.sum() / results_df.avg_diff_ratio.shape[0]}')"
   ]
  },
  {
   "cell_type": "markdown",
   "metadata": {},
   "source": [
    "### 43411 Note Analysis"
   ]
  },
  {
   "cell_type": "code",
   "execution_count": 83,
   "metadata": {},
   "outputs": [],
   "source": [
    "stroke_notes = pd.read_csv('/Users/tom/phd/summariser/data/43411_notes.csv')"
   ]
  },
  {
   "cell_type": "code",
   "execution_count": 101,
   "metadata": {},
   "outputs": [],
   "source": [
    "results_df = compute_diff(stroke_notes)"
   ]
  },
  {
   "cell_type": "code",
   "execution_count": 109,
   "metadata": {},
   "outputs": [],
   "source": [
    "group_avgs = compute_avgs(results_df)"
   ]
  },
  {
   "cell_type": "code",
   "execution_count": 113,
   "metadata": {},
   "outputs": [],
   "source": [
    "group_avgs['redundant_ratio'] = group_avgs['redundant_toks'] / group_avgs.total_toks"
   ]
  },
  {
   "cell_type": "code",
   "execution_count": 115,
   "metadata": {},
   "outputs": [
    {
     "data": {
      "text/html": [
       "<div>\n",
       "<style scoped>\n",
       "    .dataframe tbody tr th:only-of-type {\n",
       "        vertical-align: middle;\n",
       "    }\n",
       "\n",
       "    .dataframe tbody tr th {\n",
       "        vertical-align: top;\n",
       "    }\n",
       "\n",
       "    .dataframe thead th {\n",
       "        text-align: right;\n",
       "    }\n",
       "</style>\n",
       "<table border=\"1\" class=\"dataframe\">\n",
       "  <thead>\n",
       "    <tr style=\"text-align: right;\">\n",
       "      <th></th>\n",
       "      <th>cat_desc</th>\n",
       "      <th>redundant_toks</th>\n",
       "      <th>total_toks</th>\n",
       "      <th>avg_txt_len</th>\n",
       "      <th>macro_avg</th>\n",
       "      <th>micro_avg</th>\n",
       "      <th>num_instances</th>\n",
       "      <th>redundant_ratio</th>\n",
       "    </tr>\n",
       "  </thead>\n",
       "  <tbody>\n",
       "    <tr>\n",
       "      <th>0</th>\n",
       "      <td>Physician :Physician Resident Admission Note</td>\n",
       "      <td>28842.0</td>\n",
       "      <td>33109</td>\n",
       "      <td>12525.819048</td>\n",
       "      <td>0.856518</td>\n",
       "      <td>0.809448</td>\n",
       "      <td>19</td>\n",
       "      <td>0.871123</td>\n",
       "    </tr>\n",
       "    <tr>\n",
       "      <th>1</th>\n",
       "      <td>Physician :Physician Surgical Progress Note</td>\n",
       "      <td>3181.0</td>\n",
       "      <td>4347</td>\n",
       "      <td>5587.000000</td>\n",
       "      <td>0.809635</td>\n",
       "      <td>0.764214</td>\n",
       "      <td>7</td>\n",
       "      <td>0.731769</td>\n",
       "    </tr>\n",
       "    <tr>\n",
       "      <th>2</th>\n",
       "      <td>Physician :Physician Attending Progress Note</td>\n",
       "      <td>14380.0</td>\n",
       "      <td>21148</td>\n",
       "      <td>5941.186706</td>\n",
       "      <td>0.532457</td>\n",
       "      <td>0.536417</td>\n",
       "      <td>31</td>\n",
       "      <td>0.679970</td>\n",
       "    </tr>\n",
       "    <tr>\n",
       "      <th>3</th>\n",
       "      <td>Physician :Intensivist Note</td>\n",
       "      <td>100737.0</td>\n",
       "      <td>159909</td>\n",
       "      <td>5958.690231</td>\n",
       "      <td>0.691003</td>\n",
       "      <td>0.639584</td>\n",
       "      <td>211</td>\n",
       "      <td>0.629965</td>\n",
       "    </tr>\n",
       "    <tr>\n",
       "      <th>4</th>\n",
       "      <td>Respiratory :Respiratory Care Shift Note</td>\n",
       "      <td>7263.0</td>\n",
       "      <td>12124</td>\n",
       "      <td>1230.545915</td>\n",
       "      <td>0.404803</td>\n",
       "      <td>0.443782</td>\n",
       "      <td>79</td>\n",
       "      <td>0.599060</td>\n",
       "    </tr>\n",
       "    <tr>\n",
       "      <th>5</th>\n",
       "      <td>Nursing:Nursing Transfer Note</td>\n",
       "      <td>30799.0</td>\n",
       "      <td>53260</td>\n",
       "      <td>2230.841242</td>\n",
       "      <td>0.598621</td>\n",
       "      <td>0.550831</td>\n",
       "      <td>159</td>\n",
       "      <td>0.578276</td>\n",
       "    </tr>\n",
       "    <tr>\n",
       "      <th>6</th>\n",
       "      <td>Physician :Physician Resident Progress Note</td>\n",
       "      <td>40675.0</td>\n",
       "      <td>73517</td>\n",
       "      <td>6890.886364</td>\n",
       "      <td>0.551072</td>\n",
       "      <td>0.467104</td>\n",
       "      <td>94</td>\n",
       "      <td>0.553273</td>\n",
       "    </tr>\n",
       "    <tr>\n",
       "      <th>7</th>\n",
       "      <td>Nursing:Nursing Progress Note</td>\n",
       "      <td>64447.0</td>\n",
       "      <td>136297</td>\n",
       "      <td>1291.039215</td>\n",
       "      <td>0.442277</td>\n",
       "      <td>0.419754</td>\n",
       "      <td>620</td>\n",
       "      <td>0.472842</td>\n",
       "    </tr>\n",
       "    <tr>\n",
       "      <th>8</th>\n",
       "      <td>Radiology:PORTABLE ABDOMEN</td>\n",
       "      <td>923.0</td>\n",
       "      <td>2992</td>\n",
       "      <td>1084.420513</td>\n",
       "      <td>0.274080</td>\n",
       "      <td>0.259291</td>\n",
       "      <td>23</td>\n",
       "      <td>0.308489</td>\n",
       "    </tr>\n",
       "    <tr>\n",
       "      <th>9</th>\n",
       "      <td>Radiology:CHEST PORT. LINE PLACEMENT</td>\n",
       "      <td>1237.0</td>\n",
       "      <td>4903</td>\n",
       "      <td>1240.143860</td>\n",
       "      <td>0.203611</td>\n",
       "      <td>0.219498</td>\n",
       "      <td>34</td>\n",
       "      <td>0.252295</td>\n",
       "    </tr>\n",
       "    <tr>\n",
       "      <th>10</th>\n",
       "      <td>Nutrition:Clinical Nutrition Note</td>\n",
       "      <td>1907.0</td>\n",
       "      <td>7893</td>\n",
       "      <td>2573.938462</td>\n",
       "      <td>0.135038</td>\n",
       "      <td>0.150969</td>\n",
       "      <td>23</td>\n",
       "      <td>0.241606</td>\n",
       "    </tr>\n",
       "    <tr>\n",
       "      <th>11</th>\n",
       "      <td>Radiology:CHEST (PA &amp; LAT)</td>\n",
       "      <td>356.0</td>\n",
       "      <td>1512</td>\n",
       "      <td>1208.121212</td>\n",
       "      <td>0.151395</td>\n",
       "      <td>0.147700</td>\n",
       "      <td>12</td>\n",
       "      <td>0.235450</td>\n",
       "    </tr>\n",
       "    <tr>\n",
       "      <th>12</th>\n",
       "      <td>Radiology:CHEST (PORTABLE AP)</td>\n",
       "      <td>26063.0</td>\n",
       "      <td>113265</td>\n",
       "      <td>1171.532585</td>\n",
       "      <td>0.185413</td>\n",
       "      <td>0.188866</td>\n",
       "      <td>837</td>\n",
       "      <td>0.230106</td>\n",
       "    </tr>\n",
       "    <tr>\n",
       "      <th>13</th>\n",
       "      <td>ECG:Report</td>\n",
       "      <td>3664.0</td>\n",
       "      <td>16233</td>\n",
       "      <td>223.494057</td>\n",
       "      <td>0.321421</td>\n",
       "      <td>0.319381</td>\n",
       "      <td>512</td>\n",
       "      <td>0.225713</td>\n",
       "    </tr>\n",
       "    <tr>\n",
       "      <th>14</th>\n",
       "      <td>Echo:Report</td>\n",
       "      <td>5402.0</td>\n",
       "      <td>26459</td>\n",
       "      <td>2524.776515</td>\n",
       "      <td>0.202008</td>\n",
       "      <td>0.197195</td>\n",
       "      <td>77</td>\n",
       "      <td>0.204165</td>\n",
       "    </tr>\n",
       "    <tr>\n",
       "      <th>15</th>\n",
       "      <td>Radiology:MR HEAD W/O CONTRAST</td>\n",
       "      <td>3433.0</td>\n",
       "      <td>18228</td>\n",
       "      <td>2300.468085</td>\n",
       "      <td>0.177119</td>\n",
       "      <td>0.178997</td>\n",
       "      <td>48</td>\n",
       "      <td>0.188337</td>\n",
       "    </tr>\n",
       "    <tr>\n",
       "      <th>16</th>\n",
       "      <td>Radiology:CT HEAD W/O CONTRAST</td>\n",
       "      <td>14838.0</td>\n",
       "      <td>90085</td>\n",
       "      <td>1918.349546</td>\n",
       "      <td>0.148847</td>\n",
       "      <td>0.149810</td>\n",
       "      <td>373</td>\n",
       "      <td>0.164711</td>\n",
       "    </tr>\n",
       "    <tr>\n",
       "      <th>17</th>\n",
       "      <td>Radiology:MR HEAD W &amp; W/O CONTRAST</td>\n",
       "      <td>494.0</td>\n",
       "      <td>3188</td>\n",
       "      <td>2696.861111</td>\n",
       "      <td>0.161859</td>\n",
       "      <td>0.158945</td>\n",
       "      <td>7</td>\n",
       "      <td>0.154956</td>\n",
       "    </tr>\n",
       "    <tr>\n",
       "      <th>18</th>\n",
       "      <td>Radiology:BY DIFFERENT PHYSICIAN</td>\n",
       "      <td>218.0</td>\n",
       "      <td>1542</td>\n",
       "      <td>1365.694444</td>\n",
       "      <td>0.138657</td>\n",
       "      <td>0.131175</td>\n",
       "      <td>9</td>\n",
       "      <td>0.141375</td>\n",
       "    </tr>\n",
       "    <tr>\n",
       "      <th>19</th>\n",
       "      <td>Nursing/other:Report</td>\n",
       "      <td>6334.0</td>\n",
       "      <td>298384</td>\n",
       "      <td>1011.361172</td>\n",
       "      <td>0.061062</td>\n",
       "      <td>0.068108</td>\n",
       "      <td>1889</td>\n",
       "      <td>0.021228</td>\n",
       "    </tr>\n",
       "  </tbody>\n",
       "</table>\n",
       "</div>"
      ],
      "text/plain": [
       "                                        cat_desc  redundant_toks  total_toks  \\\n",
       "0   Physician :Physician Resident Admission Note         28842.0       33109   \n",
       "1    Physician :Physician Surgical Progress Note          3181.0        4347   \n",
       "2   Physician :Physician Attending Progress Note         14380.0       21148   \n",
       "3                    Physician :Intensivist Note        100737.0      159909   \n",
       "4       Respiratory :Respiratory Care Shift Note          7263.0       12124   \n",
       "5                  Nursing:Nursing Transfer Note         30799.0       53260   \n",
       "6    Physician :Physician Resident Progress Note         40675.0       73517   \n",
       "7                  Nursing:Nursing Progress Note         64447.0      136297   \n",
       "8                     Radiology:PORTABLE ABDOMEN           923.0        2992   \n",
       "9           Radiology:CHEST PORT. LINE PLACEMENT          1237.0        4903   \n",
       "10             Nutrition:Clinical Nutrition Note          1907.0        7893   \n",
       "11                    Radiology:CHEST (PA & LAT)           356.0        1512   \n",
       "12                 Radiology:CHEST (PORTABLE AP)         26063.0      113265   \n",
       "13                                    ECG:Report          3664.0       16233   \n",
       "14                                   Echo:Report          5402.0       26459   \n",
       "15                Radiology:MR HEAD W/O CONTRAST          3433.0       18228   \n",
       "16                Radiology:CT HEAD W/O CONTRAST         14838.0       90085   \n",
       "17            Radiology:MR HEAD W & W/O CONTRAST           494.0        3188   \n",
       "18              Radiology:BY DIFFERENT PHYSICIAN           218.0        1542   \n",
       "19                          Nursing/other:Report          6334.0      298384   \n",
       "\n",
       "     avg_txt_len  macro_avg  micro_avg  num_instances  redundant_ratio  \n",
       "0   12525.819048   0.856518   0.809448             19         0.871123  \n",
       "1    5587.000000   0.809635   0.764214              7         0.731769  \n",
       "2    5941.186706   0.532457   0.536417             31         0.679970  \n",
       "3    5958.690231   0.691003   0.639584            211         0.629965  \n",
       "4    1230.545915   0.404803   0.443782             79         0.599060  \n",
       "5    2230.841242   0.598621   0.550831            159         0.578276  \n",
       "6    6890.886364   0.551072   0.467104             94         0.553273  \n",
       "7    1291.039215   0.442277   0.419754            620         0.472842  \n",
       "8    1084.420513   0.274080   0.259291             23         0.308489  \n",
       "9    1240.143860   0.203611   0.219498             34         0.252295  \n",
       "10   2573.938462   0.135038   0.150969             23         0.241606  \n",
       "11   1208.121212   0.151395   0.147700             12         0.235450  \n",
       "12   1171.532585   0.185413   0.188866            837         0.230106  \n",
       "13    223.494057   0.321421   0.319381            512         0.225713  \n",
       "14   2524.776515   0.202008   0.197195             77         0.204165  \n",
       "15   2300.468085   0.177119   0.178997             48         0.188337  \n",
       "16   1918.349546   0.148847   0.149810            373         0.164711  \n",
       "17   2696.861111   0.161859   0.158945              7         0.154956  \n",
       "18   1365.694444   0.138657   0.131175              9         0.141375  \n",
       "19   1011.361172   0.061062   0.068108           1889         0.021228  "
      ]
     },
     "execution_count": 115,
     "metadata": {},
     "output_type": "execute_result"
    }
   ],
   "source": [
    "group_avgs.sort_values('redundant_ratio', ascending=False).reset_index(drop=True).head(20)"
   ]
  },
  {
   "cell_type": "code",
   "execution_count": null,
   "metadata": {},
   "outputs": [],
   "source": [
    "ptn = re.compile(r'(?<=brief\\shospital\\scourse\\:)(?:.*\\n)+?(?=\\n\\n)', flags=re.I)\n",
    "m = re.search(ptn, discharge_notes_df.iloc[idx].text)\n",
    "hosp_course = re.split(r'(\\n\\n.*\\:\\n?)', discharge_notes_df.iloc[idx].text[m.start():m.end()])[0]\n",
    "print(hosp_course)"
   ]
  },
  {
   "cell_type": "code",
   "execution_count": 68,
   "metadata": {},
   "outputs": [],
   "source": [
    "sent_a = \"this is some sentence, it's the same. As the other sentence. how about some more stuff\"\n",
    "sent_b = \"this is some sentence, it's the same. As the other sentence. \""
   ]
  },
  {
   "cell_type": "code",
   "execution_count": 69,
   "metadata": {},
   "outputs": [
    {
     "name": "stdout",
     "output_type": "stream",
     "text": [
      "[7.0, 4.0, 0.0]\n"
     ]
    },
    {
     "data": {
      "text/plain": [
       "(0.6666666666666666, 0.4714045207910317, 1.0, 0.0, 11.0)"
      ]
     },
     "execution_count": 69,
     "metadata": {},
     "output_type": "execute_result"
    }
   ],
   "source": [
    "diff_ratio(sent_a, sent_b)"
   ]
  },
  {
   "cell_type": "code",
   "execution_count": 57,
   "metadata": {},
   "outputs": [
    {
     "data": {
      "text/html": [
       "<div><div style=\"display: inline-block; width: calc(50% - 10px)\">this is some sentence, it&#x27;s the same</div><div style=\"width: 20px; display: inline-block\"></div><div style=\"display: inline-block; width: calc(50% - 10px)\">this is some sentence, it&#x27;s the same</div><div style=\"display: inline-block; width: calc(50% - 10px)\">As the other sentence</div><div style=\"width: 20px; display: inline-block\"></div><div style=\"display: inline-block; width: calc(50% - 10px)\">As the other sentence</div><div style=\"display: inline-block; width: calc(50% - 10px)\"><span style=\"background: #69E2FB;\">how about some more stuff</span></div><div style=\"width: 20px; display: inline-block\"></div><div style=\"display: inline-block; width: calc(50% - 10px)\"><span style=\"background: #69E2FB;\"></span></div></div>"
      ],
      "text/plain": [
       "<IPython.core.display.HTML object>"
      ]
     },
     "metadata": {},
     "output_type": "display_data"
    }
   ],
   "source": [
    "show_diffs(sent_a, sent_b)"
   ]
  }
 ],
 "metadata": {
  "kernelspec": {
   "display_name": "Python [conda env:mimc3_dd]",
   "language": "python",
   "name": "conda-env-mimc3_dd-py"
  },
  "language_info": {
   "codemirror_mode": {
    "name": "ipython",
    "version": 3
   },
   "file_extension": ".py",
   "mimetype": "text/x-python",
   "name": "python",
   "nbconvert_exporter": "python",
   "pygments_lexer": "ipython3",
   "version": "3.8.1"
  }
 },
 "nbformat": 4,
 "nbformat_minor": 4
}
