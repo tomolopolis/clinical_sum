{
 "cells": [
  {
   "cell_type": "code",
   "execution_count": 1,
   "metadata": {},
   "outputs": [],
   "source": [
    "%load_ext autoreload\n",
    "\n",
    "%autoreload 2\n",
    "\n",
    "from icd9cms import search\n",
    "import os\n",
    "import numpy as np\n",
    "import pandas as pd\n",
    "from collections import defaultdict\n",
    "import json\n",
    "from itertools import chain\n",
    "import ipywidgets as widgets\n",
    "from IPython.display import display\n",
    "import re\n",
    "from collections import Counter\n",
    "from collections import defaultdict\n",
    "import difflib\n",
    "from differ import html_diffs, align_seqs, sentencize, diff_ratio, show_diffs\n",
    "from datasets import list_metrics, load_metric"
   ]
  },
  {
   "cell_type": "code",
   "execution_count": 7,
   "metadata": {},
   "outputs": [],
   "source": [
    "codes = pd.read_csv('../data/primary_codes.csv')\n",
    "sorted_primary_codes_df =codes['icd9_code'].value_counts().rename_axis('code').reset_index()\n",
    "sorted_primary_codes_df['long_title'] = sorted_primary_codes_df['code'].apply(lambda c: search(c).long_desc or search(c).short_desc)\n",
    "sorted_primary_codes_df.columns = ['code', 'count', 'long_title']\n",
    "sorted_primary_codes_df = sorted_primary_codes_df[~sorted_primary_codes_df.code.str.startswith('V3')]"
   ]
  },
  {
   "cell_type": "code",
   "execution_count": 8,
   "metadata": {},
   "outputs": [
    {
     "data": {
      "text/html": [
       "<div>\n",
       "<style scoped>\n",
       "    .dataframe tbody tr th:only-of-type {\n",
       "        vertical-align: middle;\n",
       "    }\n",
       "\n",
       "    .dataframe tbody tr th {\n",
       "        vertical-align: top;\n",
       "    }\n",
       "\n",
       "    .dataframe thead th {\n",
       "        text-align: right;\n",
       "    }\n",
       "</style>\n",
       "<table border=\"1\" class=\"dataframe\">\n",
       "  <thead>\n",
       "    <tr style=\"text-align: right;\">\n",
       "      <th></th>\n",
       "      <th>code</th>\n",
       "      <th>count</th>\n",
       "      <th>long_title</th>\n",
       "    </tr>\n",
       "  </thead>\n",
       "  <tbody>\n",
       "    <tr>\n",
       "      <th>1</th>\n",
       "      <td>41401</td>\n",
       "      <td>3498</td>\n",
       "      <td>Coronary atherosclerosis of native coronary ar...</td>\n",
       "    </tr>\n",
       "  </tbody>\n",
       "</table>\n",
       "</div>"
      ],
      "text/plain": [
       "    code  count                                         long_title\n",
       "1  41401   3498  Coronary atherosclerosis of native coronary ar..."
      ]
     },
     "execution_count": 8,
     "metadata": {},
     "output_type": "execute_result"
    }
   ],
   "source": [
    "sorted_primary_codes_df[sorted_primary_codes_df.code.str.startswith('41401')]"
   ]
  },
  {
   "cell_type": "code",
   "execution_count": 9,
   "metadata": {},
   "outputs": [
    {
     "data": {
      "text/html": [
       "<div>\n",
       "<style scoped>\n",
       "    .dataframe tbody tr th:only-of-type {\n",
       "        vertical-align: middle;\n",
       "    }\n",
       "\n",
       "    .dataframe tbody tr th {\n",
       "        vertical-align: top;\n",
       "    }\n",
       "\n",
       "    .dataframe thead th {\n",
       "        text-align: right;\n",
       "    }\n",
       "</style>\n",
       "<table border=\"1\" class=\"dataframe\">\n",
       "  <thead>\n",
       "    <tr style=\"text-align: right;\">\n",
       "      <th></th>\n",
       "      <th>code</th>\n",
       "      <th>count</th>\n",
       "      <th>long_title</th>\n",
       "    </tr>\n",
       "  </thead>\n",
       "  <tbody>\n",
       "    <tr>\n",
       "      <th>1</th>\n",
       "      <td>41401</td>\n",
       "      <td>3498</td>\n",
       "      <td>Coronary atherosclerosis of native coronary ar...</td>\n",
       "    </tr>\n",
       "    <tr>\n",
       "      <th>4</th>\n",
       "      <td>41071</td>\n",
       "      <td>1751</td>\n",
       "      <td>Subendocardial infarction, initial episode of ...</td>\n",
       "    </tr>\n",
       "    <tr>\n",
       "      <th>15</th>\n",
       "      <td>41041</td>\n",
       "      <td>482</td>\n",
       "      <td>Acute myocardial infarction of other inferior ...</td>\n",
       "    </tr>\n",
       "    <tr>\n",
       "      <th>16</th>\n",
       "      <td>41011</td>\n",
       "      <td>482</td>\n",
       "      <td>Acute myocardial infarction of other anterior ...</td>\n",
       "    </tr>\n",
       "    <tr>\n",
       "      <th>20</th>\n",
       "      <td>41519</td>\n",
       "      <td>343</td>\n",
       "      <td>Other pulmonary embolism and infarction</td>\n",
       "    </tr>\n",
       "  </tbody>\n",
       "</table>\n",
       "</div>"
      ],
      "text/plain": [
       "     code  count                                         long_title\n",
       "1   41401   3498  Coronary atherosclerosis of native coronary ar...\n",
       "4   41071   1751  Subendocardial infarction, initial episode of ...\n",
       "15  41041    482  Acute myocardial infarction of other inferior ...\n",
       "16  41011    482  Acute myocardial infarction of other anterior ...\n",
       "20  41519    343            Other pulmonary embolism and infarction"
      ]
     },
     "execution_count": 9,
     "metadata": {},
     "output_type": "execute_result"
    }
   ],
   "source": [
    "sorted_primary_codes_df[sorted_primary_codes_df.code.str.startswith('41')].head(5)"
   ]
  },
  {
   "cell_type": "code",
   "execution_count": 10,
   "metadata": {},
   "outputs": [
    {
     "data": {
      "text/plain": [
       "['Cerebral embolism with cerebral infarction',\n",
       " 'Cerebral artery occlusion, unspecified with cerebral infarction',\n",
       " 'Cerebral thrombosis with cerebral infarction',\n",
       " 'Cerebral artery occlusion, unspecified without mention of cerebral infarction',\n",
       " 'Cerebral embolism without mention of cerebral infarction']"
      ]
     },
     "execution_count": 10,
     "metadata": {},
     "output_type": "execute_result"
    }
   ],
   "source": [
    "sorted_primary_codes_df[sorted_primary_codes_df.code.str.startswith('434')].long_title.tolist()"
   ]
  },
  {
   "cell_type": "markdown",
   "metadata": {},
   "source": [
    "### 41401 Notes"
   ]
  },
  {
   "cell_type": "code",
   "execution_count": 30,
   "metadata": {},
   "outputs": [],
   "source": [
    "notes = pd.read_csv('../data/41401_notes.csv')"
   ]
  },
  {
   "cell_type": "code",
   "execution_count": 31,
   "metadata": {},
   "outputs": [],
   "source": [
    "discharge_notes = notes[(notes.category == 'Discharge summary') & (notes.description != 'Addendum')]"
   ]
  },
  {
   "cell_type": "code",
   "execution_count": 11,
   "metadata": {},
   "outputs": [],
   "source": [
    "splitter = '------\\n------\\n------\\n'\n",
    "def split_notes(notes):\n",
    "    care_notes = defaultdict(list)\n",
    "    discharge_notes = defaultdict(list)\n",
    "    for adm, df in notes.sort_values(['hadm_id', 'chartdate', 'charttime']).groupby('hadm_id'):\n",
    "        dis_notes = df[(df.category == 'Discharge summary') & (df.description != 'Addendum')].text.tolist()\n",
    "        care_df = df[df.category != 'Discharge summary']\n",
    "        if len(dis_notes) == 0 or care_df.shape[0] == 0:\n",
    "            continue\n",
    "\n",
    "        hadm_id = care_df.hadm_id.iloc[0]\n",
    "        # pick first as there are rarely 2 summaries??\n",
    "\n",
    "        discharge_notes['hadm_id'].append(hadm_id)\n",
    "        discharge_notes['text'].append(dis_notes[0])\n",
    "        # ignore addendums - as not sure what section they are in.\n",
    "\n",
    "        care_notes['hadm_id'].append(hadm_id)\n",
    "        care_notes['text'].append(care_df.text.str.cat(sep=splitter))\n",
    "        care_notes['first_time'].append(care_df.iloc[0].charttime or care_df.iloc[0].chartdate)\n",
    "        care_notes['last_time'].append(care_df.iloc[-1].charttime or care_df.iloc[-1].chartdate)\n",
    "        care_notes['categories'].append(care_df.category.tolist())\n",
    "        care_notes['descriptions'].append(care_df.description.tolist())\n",
    "        care_notes['icd_code'].append(care_df.icd9_code.iloc[0])\n",
    "    care_notes_df = pd.DataFrame(care_notes)\n",
    "    discharge_notes_df = pd.DataFrame(discharge_notes)\n",
    "    return care_notes_df, discharge_notes_df"
   ]
  },
  {
   "cell_type": "code",
   "execution_count": 33,
   "metadata": {},
   "outputs": [],
   "source": [
    "care_notes_df, discharge_notes_df = split_notes(notes)"
   ]
  },
  {
   "cell_type": "code",
   "execution_count": 34,
   "metadata": {},
   "outputs": [],
   "source": [
    "care_notes_df['cat_descs'] = care_notes_df.apply(lambda r: [(f'{c.strip()}:{d}') for c,d in zip(r.categories, r.descriptions)], axis=1)"
   ]
  },
  {
   "cell_type": "code",
   "execution_count": 464,
   "metadata": {},
   "outputs": [],
   "source": [
    "def compute_diff(notes: pd.DataFrame) -> pd.DataFrame:\n",
    "    internote_sort_cols = ['hadm_id', 'chartdate', 'charttime', 'category', 'description']\n",
    "    internote_group_cols = ['hadm_id', 'category', 'description']\n",
    "    results = defaultdict(list)\n",
    "    rouge_metric = load_metric('rouge')\n",
    "    bert_metric = load_metric('bertscore')\n",
    "    for k, g in notes.groupby(internote_group_cols):\n",
    "        if g.shape[0] > 1:\n",
    "            ratios, std_devs, max_ratios, min_ratios, redundant_toks, total_tokens = [], [], [], [], [], []\n",
    "            for i in range(len(g.text.tolist()) - 1):\n",
    "                ratio, std_dev, max_ratio, min_ratio, redundant_toks_len, total_toks = \\\n",
    "                    diff_ratio(g.text.iloc[i], g.text.iloc[i+1])\n",
    "                rouge_metric.add(prediction=g.text.iloc[i+1], reference=g.text.iloc[i])\n",
    "                bert_metric.add(prediction=g.text.iloc[i+1], reference=g.text.iloc[i])\n",
    "                ratios.append(ratio)\n",
    "                std_devs.append(std_dev)\n",
    "                max_ratios.append(max_ratio)\n",
    "                min_ratios.append(min_ratio)\n",
    "                redundant_toks.append(redundant_toks_len)\n",
    "                total_tokens.append(total_toks)\n",
    "            results['diff_ratios'].append(ratios)\n",
    "            results['max_ratios'].append(max(max_ratios))\n",
    "            results['min_ratios'].append(min(min_ratios))\n",
    "            results['redundant_toks'].append(sum(redundant_toks))\n",
    "            results['total_tokens'].append(sum(total_tokens))\n",
    "            results['avg_diff_ratio'].append(sum(ratios) / len(ratios))\n",
    "            txt_lens = g.text.apply(len)\n",
    "            results['avg_txt_len'].append(sum(txt_lens) / len(txt_lens))\n",
    "            results['hadm_id'].append(k[0])\n",
    "            results['category'].append(k[1])\n",
    "            results['description'].append(k[2])\n",
    "            # compute batched summarisation metrics\n",
    "            bert_scores = bert_metric.compute(lang='en', rescale_with_baseline=True, model_type='xlnet-base-cased')\n",
    "            rougeL = rouge_metric.compute(rouge_types=['rougeL'], use_agregator=False)['rougeL']\n",
    "            _compute_rouge_stats(rougeL, 'recall', results)\n",
    "            _compute_rouge_stats(rougeL, 'precision', results)\n",
    "            _compute_bert_score_stats(bert_scores, 'recall', results)\n",
    "            _compute_bert_score_stats(bert_scores, 'precision', results)\n",
    "        \n",
    "    return pd.DataFrame(results)\n",
    "\n",
    "def _compute_rouge_stats(scores: list, prop: str, results: dict):\n",
    "    measure = [getattr(l, prop) for l in scores]\n",
    "    results[f'rg_{prop}'].append(measure)\n",
    "    results[f'rg_{prop}_avg'].append(np.average(measure))\n",
    "    results[f'rg_{prop}_med'].append(np.median(measure))\n",
    "    results[f'rg_{prop}_iqr'].append(np.subtract(*np.percentile(measure, [75, 25])))\n",
    "\n",
    "def _compute_bert_score_stats(scores: list, prop: str, results):\n",
    "    results[f'bs_{prop}'].append(scores[prop])\n",
    "    results[f'bs_{prop}_avg'].append(np.average(scores[prop]))\n",
    "    results[f'bs_{prop}_med'].append(np.median(scores[prop]))\n",
    "    results[f'bs_{prop}_iqr'].append(np.subtract(*np.percentile(scores[prop], [75, 25])))"
   ]
  },
  {
   "cell_type": "code",
   "execution_count": 375,
   "metadata": {},
   "outputs": [
    {
     "name": "stdout",
     "output_type": "stream",
     "text": [
      "2021-01-14 15:04:44,948: Removing /Users/tom/.cache/huggingface/metrics/rouge/default/default_experiment-a839b99b-ad50-4d10-a8b1-63d145f84ea3-1-0.arrow\n",
      "2021-01-14 15:04:46,719: Removing /Users/tom/.cache/huggingface/metrics/rouge/default/default_experiment-55ceaab2-48fa-417f-8d2b-a18a718820e6-1-0.arrow\n",
      "2021-01-14 15:04:47,876: Removing /Users/tom/.cache/huggingface/metrics/rouge/default/default_experiment-bc20af4b-cec7-48eb-9299-629cce5d949d-1-0.arrow\n",
      "2021-01-14 15:04:48,996: Removing /Users/tom/.cache/huggingface/metrics/rouge/default/default_experiment-36af7843-e5bb-4bfd-b85c-805316fbd13a-1-0.arrow\n",
      "2021-01-14 15:04:51,947: Removing /Users/tom/.cache/huggingface/metrics/rouge/default/default_experiment-128a36c6-5907-4e4d-a455-ff146f203507-1-0.arrow\n",
      "2021-01-14 15:04:52,986: Removing /Users/tom/.cache/huggingface/metrics/rouge/default/default_experiment-377dc43b-559f-4677-b8ce-1087238020fc-1-0.arrow\n",
      "2021-01-14 15:04:54,083: Removing /Users/tom/.cache/huggingface/metrics/rouge/default/default_experiment-43bbd0a6-a970-45d9-bd01-999feef3f04d-1-0.arrow\n",
      "2021-01-14 15:04:55,184: Removing /Users/tom/.cache/huggingface/metrics/rouge/default/default_experiment-c8ee4352-9f00-4cd2-b738-87079245b9a2-1-0.arrow\n"
     ]
    }
   ],
   "source": [
    "results_df = compute_diff(stroke_notes_subset)"
   ]
  },
  {
   "cell_type": "code",
   "execution_count": 386,
   "metadata": {},
   "outputs": [],
   "source": [
    "results_df = pd.concat([rougeL, results_df.loc[:, [c for c in results_df.columns if 'rougeL' in c]]], axis=1)"
   ]
  },
  {
   "cell_type": "code",
   "execution_count": 399,
   "metadata": {},
   "outputs": [],
   "source": [
    "scores = results_df.loc[:, ['category', 'description', 'avg_diff_ratio', 'rougeL_recall_med', 'rougeL_recall_iqr', 'rougeL_precision_med', 'rougeL_precision_iqr', \n",
    "                            'bert-score_recall_med', 'bert-score_recall_iqr', 'bert-score_precision_med', 'bert-score_precision_iqr']]"
   ]
  },
  {
   "cell_type": "code",
   "execution_count": 400,
   "metadata": {},
   "outputs": [
    {
     "data": {
      "text/html": [
       "<div>\n",
       "<style scoped>\n",
       "    .dataframe tbody tr th:only-of-type {\n",
       "        vertical-align: middle;\n",
       "    }\n",
       "\n",
       "    .dataframe tbody tr th {\n",
       "        vertical-align: top;\n",
       "    }\n",
       "\n",
       "    .dataframe thead th {\n",
       "        text-align: right;\n",
       "    }\n",
       "</style>\n",
       "<table border=\"1\" class=\"dataframe\">\n",
       "  <thead>\n",
       "    <tr style=\"text-align: right;\">\n",
       "      <th></th>\n",
       "      <th>category</th>\n",
       "      <th>description</th>\n",
       "      <th>avg_diff_ratio</th>\n",
       "      <th>rougeL_recall_med</th>\n",
       "      <th>rougeL_recall_iqr</th>\n",
       "      <th>rougeL_precision_med</th>\n",
       "      <th>rougeL_precision_iqr</th>\n",
       "      <th>bert-score_recall_med</th>\n",
       "      <th>bert-score_recall_iqr</th>\n",
       "      <th>bert-score_precision_med</th>\n",
       "      <th>bert-score_precision_iqr</th>\n",
       "    </tr>\n",
       "  </thead>\n",
       "  <tbody>\n",
       "    <tr>\n",
       "      <th>2</th>\n",
       "      <td>Nursing</td>\n",
       "      <td>Nursing Transfer Note</td>\n",
       "      <td>0.872569</td>\n",
       "      <td>0.997854</td>\n",
       "      <td>0.000000</td>\n",
       "      <td>0.621658</td>\n",
       "      <td>0.000000</td>\n",
       "      <td>0.982755</td>\n",
       "      <td>0.000000</td>\n",
       "      <td>0.744808</td>\n",
       "      <td>0.000000</td>\n",
       "    </tr>\n",
       "    <tr>\n",
       "      <th>3</th>\n",
       "      <td>Nutrition</td>\n",
       "      <td>Clinical Nutrition Note</td>\n",
       "      <td>0.154612</td>\n",
       "      <td>0.921967</td>\n",
       "      <td>0.323136</td>\n",
       "      <td>0.523822</td>\n",
       "      <td>0.138380</td>\n",
       "      <td>0.916548</td>\n",
       "      <td>0.203272</td>\n",
       "      <td>0.601892</td>\n",
       "      <td>0.248073</td>\n",
       "    </tr>\n",
       "    <tr>\n",
       "      <th>4</th>\n",
       "      <td>Physician</td>\n",
       "      <td>Intensivist Note</td>\n",
       "      <td>0.234087</td>\n",
       "      <td>0.651907</td>\n",
       "      <td>0.127212</td>\n",
       "      <td>0.692593</td>\n",
       "      <td>0.118770</td>\n",
       "      <td>0.857477</td>\n",
       "      <td>0.060351</td>\n",
       "      <td>0.853575</td>\n",
       "      <td>0.046447</td>\n",
       "    </tr>\n",
       "    <tr>\n",
       "      <th>1</th>\n",
       "      <td>Nursing</td>\n",
       "      <td>Nursing Progress Note</td>\n",
       "      <td>0.440298</td>\n",
       "      <td>0.632599</td>\n",
       "      <td>0.675619</td>\n",
       "      <td>0.666618</td>\n",
       "      <td>0.682953</td>\n",
       "      <td>0.701072</td>\n",
       "      <td>0.424521</td>\n",
       "      <td>0.730515</td>\n",
       "      <td>0.501814</td>\n",
       "    </tr>\n",
       "    <tr>\n",
       "      <th>5</th>\n",
       "      <td>Radiology</td>\n",
       "      <td>CHEST (PORTABLE AP)</td>\n",
       "      <td>0.088830</td>\n",
       "      <td>0.417902</td>\n",
       "      <td>0.021350</td>\n",
       "      <td>0.540940</td>\n",
       "      <td>0.270825</td>\n",
       "      <td>0.791767</td>\n",
       "      <td>0.009032</td>\n",
       "      <td>0.827279</td>\n",
       "      <td>0.074302</td>\n",
       "    </tr>\n",
       "    <tr>\n",
       "      <th>6</th>\n",
       "      <td>Radiology</td>\n",
       "      <td>CT HEAD W/O CONTRAST</td>\n",
       "      <td>0.088893</td>\n",
       "      <td>0.411212</td>\n",
       "      <td>0.231364</td>\n",
       "      <td>0.399956</td>\n",
       "      <td>0.201956</td>\n",
       "      <td>0.755250</td>\n",
       "      <td>0.107351</td>\n",
       "      <td>0.772630</td>\n",
       "      <td>0.083226</td>\n",
       "    </tr>\n",
       "    <tr>\n",
       "      <th>7</th>\n",
       "      <td>Social Work</td>\n",
       "      <td>Social Work Progress Note</td>\n",
       "      <td>0.073434</td>\n",
       "      <td>0.383871</td>\n",
       "      <td>0.000000</td>\n",
       "      <td>0.162568</td>\n",
       "      <td>0.000000</td>\n",
       "      <td>0.702947</td>\n",
       "      <td>0.000000</td>\n",
       "      <td>0.552549</td>\n",
       "      <td>0.000000</td>\n",
       "    </tr>\n",
       "    <tr>\n",
       "      <th>0</th>\n",
       "      <td>ECG</td>\n",
       "      <td>Report</td>\n",
       "      <td>0.186325</td>\n",
       "      <td>0.331579</td>\n",
       "      <td>0.167044</td>\n",
       "      <td>0.231640</td>\n",
       "      <td>0.159380</td>\n",
       "      <td>0.569639</td>\n",
       "      <td>0.144755</td>\n",
       "      <td>0.428310</td>\n",
       "      <td>0.057963</td>\n",
       "    </tr>\n",
       "  </tbody>\n",
       "</table>\n",
       "</div>"
      ],
      "text/plain": [
       "      category                description  avg_diff_ratio  rougeL_recall_med  \\\n",
       "2      Nursing      Nursing Transfer Note        0.872569           0.997854   \n",
       "3    Nutrition    Clinical Nutrition Note        0.154612           0.921967   \n",
       "4   Physician            Intensivist Note        0.234087           0.651907   \n",
       "1      Nursing      Nursing Progress Note        0.440298           0.632599   \n",
       "5    Radiology        CHEST (PORTABLE AP)        0.088830           0.417902   \n",
       "6    Radiology       CT HEAD W/O CONTRAST        0.088893           0.411212   \n",
       "7  Social Work  Social Work Progress Note        0.073434           0.383871   \n",
       "0          ECG                     Report        0.186325           0.331579   \n",
       "\n",
       "   rougeL_recall_iqr  rougeL_precision_med  rougeL_precision_iqr  \\\n",
       "2           0.000000              0.621658              0.000000   \n",
       "3           0.323136              0.523822              0.138380   \n",
       "4           0.127212              0.692593              0.118770   \n",
       "1           0.675619              0.666618              0.682953   \n",
       "5           0.021350              0.540940              0.270825   \n",
       "6           0.231364              0.399956              0.201956   \n",
       "7           0.000000              0.162568              0.000000   \n",
       "0           0.167044              0.231640              0.159380   \n",
       "\n",
       "   bert-score_recall_med  bert-score_recall_iqr  bert-score_precision_med  \\\n",
       "2               0.982755               0.000000                  0.744808   \n",
       "3               0.916548               0.203272                  0.601892   \n",
       "4               0.857477               0.060351                  0.853575   \n",
       "1               0.701072               0.424521                  0.730515   \n",
       "5               0.791767               0.009032                  0.827279   \n",
       "6               0.755250               0.107351                  0.772630   \n",
       "7               0.702947               0.000000                  0.552549   \n",
       "0               0.569639               0.144755                  0.428310   \n",
       "\n",
       "   bert-score_precision_iqr  \n",
       "2                  0.000000  \n",
       "3                  0.248073  \n",
       "4                  0.046447  \n",
       "1                  0.501814  \n",
       "5                  0.074302  \n",
       "6                  0.083226  \n",
       "7                  0.000000  \n",
       "0                  0.057963  "
      ]
     },
     "execution_count": 400,
     "metadata": {},
     "output_type": "execute_result"
    }
   ],
   "source": [
    "scores.sort_values(['rougeL_recall_med', 'rougeL_precision_med'], ascending=[False, True])"
   ]
  },
  {
   "cell_type": "code",
   "execution_count": 402,
   "metadata": {},
   "outputs": [
    {
     "data": {
      "text/html": [
       "<div>\n",
       "<style scoped>\n",
       "    .dataframe tbody tr th:only-of-type {\n",
       "        vertical-align: middle;\n",
       "    }\n",
       "\n",
       "    .dataframe tbody tr th {\n",
       "        vertical-align: top;\n",
       "    }\n",
       "\n",
       "    .dataframe thead th {\n",
       "        text-align: right;\n",
       "    }\n",
       "</style>\n",
       "<table border=\"1\" class=\"dataframe\">\n",
       "  <thead>\n",
       "    <tr style=\"text-align: right;\">\n",
       "      <th></th>\n",
       "      <th>category</th>\n",
       "      <th>description</th>\n",
       "      <th>avg_diff_ratio</th>\n",
       "      <th>rougeL_recall_med</th>\n",
       "      <th>rougeL_recall_iqr</th>\n",
       "      <th>rougeL_precision_med</th>\n",
       "      <th>rougeL_precision_iqr</th>\n",
       "      <th>bert-score_recall_med</th>\n",
       "      <th>bert-score_recall_iqr</th>\n",
       "      <th>bert-score_precision_med</th>\n",
       "      <th>bert-score_precision_iqr</th>\n",
       "    </tr>\n",
       "  </thead>\n",
       "  <tbody>\n",
       "    <tr>\n",
       "      <th>2</th>\n",
       "      <td>Nursing</td>\n",
       "      <td>Nursing Transfer Note</td>\n",
       "      <td>0.872569</td>\n",
       "      <td>0.997854</td>\n",
       "      <td>0.000000</td>\n",
       "      <td>0.621658</td>\n",
       "      <td>0.000000</td>\n",
       "      <td>0.982755</td>\n",
       "      <td>0.000000</td>\n",
       "      <td>0.744808</td>\n",
       "      <td>0.000000</td>\n",
       "    </tr>\n",
       "    <tr>\n",
       "      <th>3</th>\n",
       "      <td>Nutrition</td>\n",
       "      <td>Clinical Nutrition Note</td>\n",
       "      <td>0.154612</td>\n",
       "      <td>0.921967</td>\n",
       "      <td>0.323136</td>\n",
       "      <td>0.523822</td>\n",
       "      <td>0.138380</td>\n",
       "      <td>0.916548</td>\n",
       "      <td>0.203272</td>\n",
       "      <td>0.601892</td>\n",
       "      <td>0.248073</td>\n",
       "    </tr>\n",
       "    <tr>\n",
       "      <th>4</th>\n",
       "      <td>Physician</td>\n",
       "      <td>Intensivist Note</td>\n",
       "      <td>0.234087</td>\n",
       "      <td>0.651907</td>\n",
       "      <td>0.127212</td>\n",
       "      <td>0.692593</td>\n",
       "      <td>0.118770</td>\n",
       "      <td>0.857477</td>\n",
       "      <td>0.060351</td>\n",
       "      <td>0.853575</td>\n",
       "      <td>0.046447</td>\n",
       "    </tr>\n",
       "    <tr>\n",
       "      <th>5</th>\n",
       "      <td>Radiology</td>\n",
       "      <td>CHEST (PORTABLE AP)</td>\n",
       "      <td>0.088830</td>\n",
       "      <td>0.417902</td>\n",
       "      <td>0.021350</td>\n",
       "      <td>0.540940</td>\n",
       "      <td>0.270825</td>\n",
       "      <td>0.791767</td>\n",
       "      <td>0.009032</td>\n",
       "      <td>0.827279</td>\n",
       "      <td>0.074302</td>\n",
       "    </tr>\n",
       "    <tr>\n",
       "      <th>6</th>\n",
       "      <td>Radiology</td>\n",
       "      <td>CT HEAD W/O CONTRAST</td>\n",
       "      <td>0.088893</td>\n",
       "      <td>0.411212</td>\n",
       "      <td>0.231364</td>\n",
       "      <td>0.399956</td>\n",
       "      <td>0.201956</td>\n",
       "      <td>0.755250</td>\n",
       "      <td>0.107351</td>\n",
       "      <td>0.772630</td>\n",
       "      <td>0.083226</td>\n",
       "    </tr>\n",
       "    <tr>\n",
       "      <th>7</th>\n",
       "      <td>Social Work</td>\n",
       "      <td>Social Work Progress Note</td>\n",
       "      <td>0.073434</td>\n",
       "      <td>0.383871</td>\n",
       "      <td>0.000000</td>\n",
       "      <td>0.162568</td>\n",
       "      <td>0.000000</td>\n",
       "      <td>0.702947</td>\n",
       "      <td>0.000000</td>\n",
       "      <td>0.552549</td>\n",
       "      <td>0.000000</td>\n",
       "    </tr>\n",
       "    <tr>\n",
       "      <th>1</th>\n",
       "      <td>Nursing</td>\n",
       "      <td>Nursing Progress Note</td>\n",
       "      <td>0.440298</td>\n",
       "      <td>0.632599</td>\n",
       "      <td>0.675619</td>\n",
       "      <td>0.666618</td>\n",
       "      <td>0.682953</td>\n",
       "      <td>0.701072</td>\n",
       "      <td>0.424521</td>\n",
       "      <td>0.730515</td>\n",
       "      <td>0.501814</td>\n",
       "    </tr>\n",
       "    <tr>\n",
       "      <th>0</th>\n",
       "      <td>ECG</td>\n",
       "      <td>Report</td>\n",
       "      <td>0.186325</td>\n",
       "      <td>0.331579</td>\n",
       "      <td>0.167044</td>\n",
       "      <td>0.231640</td>\n",
       "      <td>0.159380</td>\n",
       "      <td>0.569639</td>\n",
       "      <td>0.144755</td>\n",
       "      <td>0.428310</td>\n",
       "      <td>0.057963</td>\n",
       "    </tr>\n",
       "  </tbody>\n",
       "</table>\n",
       "</div>"
      ],
      "text/plain": [
       "      category                description  avg_diff_ratio  rougeL_recall_med  \\\n",
       "2      Nursing      Nursing Transfer Note        0.872569           0.997854   \n",
       "3    Nutrition    Clinical Nutrition Note        0.154612           0.921967   \n",
       "4   Physician            Intensivist Note        0.234087           0.651907   \n",
       "5    Radiology        CHEST (PORTABLE AP)        0.088830           0.417902   \n",
       "6    Radiology       CT HEAD W/O CONTRAST        0.088893           0.411212   \n",
       "7  Social Work  Social Work Progress Note        0.073434           0.383871   \n",
       "1      Nursing      Nursing Progress Note        0.440298           0.632599   \n",
       "0          ECG                     Report        0.186325           0.331579   \n",
       "\n",
       "   rougeL_recall_iqr  rougeL_precision_med  rougeL_precision_iqr  \\\n",
       "2           0.000000              0.621658              0.000000   \n",
       "3           0.323136              0.523822              0.138380   \n",
       "4           0.127212              0.692593              0.118770   \n",
       "5           0.021350              0.540940              0.270825   \n",
       "6           0.231364              0.399956              0.201956   \n",
       "7           0.000000              0.162568              0.000000   \n",
       "1           0.675619              0.666618              0.682953   \n",
       "0           0.167044              0.231640              0.159380   \n",
       "\n",
       "   bert-score_recall_med  bert-score_recall_iqr  bert-score_precision_med  \\\n",
       "2               0.982755               0.000000                  0.744808   \n",
       "3               0.916548               0.203272                  0.601892   \n",
       "4               0.857477               0.060351                  0.853575   \n",
       "5               0.791767               0.009032                  0.827279   \n",
       "6               0.755250               0.107351                  0.772630   \n",
       "7               0.702947               0.000000                  0.552549   \n",
       "1               0.701072               0.424521                  0.730515   \n",
       "0               0.569639               0.144755                  0.428310   \n",
       "\n",
       "   bert-score_precision_iqr  \n",
       "2                  0.000000  \n",
       "3                  0.248073  \n",
       "4                  0.046447  \n",
       "5                  0.074302  \n",
       "6                  0.083226  \n",
       "7                  0.000000  \n",
       "1                  0.501814  \n",
       "0                  0.057963  "
      ]
     },
     "execution_count": 402,
     "metadata": {},
     "output_type": "execute_result"
    }
   ],
   "source": [
    "scores.sort_values(['bert-score_recall_med', 'bert-score_precision_med'], ascending=[False, True])"
   ]
  },
  {
   "cell_type": "code",
   "execution_count": 424,
   "metadata": {},
   "outputs": [],
   "source": [
    "category = 'Radiology'\n",
    "description = 'CT HEAD W/O CONTRAST'\n",
    "idx = 0"
   ]
  },
  {
   "cell_type": "code",
   "execution_count": 425,
   "metadata": {},
   "outputs": [
    {
     "data": {
      "text/html": [
       "<div><div style=\"display: inline-block; width: calc(50% - 10px)\"><span style=\"background: #69E2FB;\">[**2197-7-9**] 1:10 AM</span> CT HEAD W/O CONTRAST Clip # [**Clip Number (Radiology) <span style=\"background: #69E2FB;\">41118**]</span> Reason: <span style=\"background: #69E2FB;\">r/o emboli</span> Admitting Diagnosis: CONGESTIVE HEART FAILURE ______________________________________________________________________________ [**Hospital 3**] MEDICAL CONDITION: 84 year old woman with <span style=\"background: #69E2FB;\">afib not on coumadin</span> REASON FOR THIS EXAMINATION: <span style=\"background: #69E2FB;\">r/o emboli</span> No contraindications for IV contrast ______________________________________________________________________________ PROVISIONAL FINDINGS IMPRESSION (PFI): <span style=\"background: #69E2FB;\">SBNa SUN [**2197-7-9**] 6:39 AM PFI: New right</span> cerebellar <span style=\"background: #69E2FB;\">hemisphere hypodensity (2,5) which likely represents prior infarct, indeterminate age</span></div><div style=\"width: 20px; display: inline-block\"></div><div style=\"display: inline-block; width: calc(50% - 10px)\"><span style=\"background: #69E2FB;\">[**2197-7-10**] 4:05 PM</span> CT HEAD W/O CONTRAST Clip # [**Clip Number (Radiology) <span style=\"background: #69E2FB;\">41123**]</span> Reason: <span style=\"background: #69E2FB;\">interval change</span> Admitting Diagnosis: CONGESTIVE HEART FAILURE ______________________________________________________________________________ [**Hospital 3**] MEDICAL CONDITION: 84 year old woman with <span style=\"background: #69E2FB;\">multiple strokes</span> REASON FOR THIS EXAMINATION: <span style=\"background: #69E2FB;\">interval change</span> No contraindications for IV contrast ______________________________________________________________________________ PROVISIONAL FINDINGS IMPRESSION (PFI): <span style=\"background: #69E2FB;\">JMGw MON [**2197-7-10**] 7:40 PM Unchanged hypodensities in bilateral</span> cerebellar <span style=\"background: #69E2FB;\">hemispheres</span></div><div style=\"display: inline-block; width: calc(50% - 10px)\"><span style=\"background: #69E2FB;\">Extensive chronic small vessel ischemic changes and prior infarcts are again identified</span></div><div style=\"width: 20px; display: inline-block\"></div><div style=\"display: inline-block; width: calc(50% - 10px)\"><span style=\"background: #69E2FB;\">______________________________________________________________________________ FINAL REPORT HISTORY: 84-year-old woman with multiple strokes, evaluate for interval change</span></div><div style=\"display: inline-block; width: calc(50% - 10px)\"><span style=\"background: #69E2FB;\">No shift in structures</span></div><div style=\"width: 20px; display: inline-block\"></div><div style=\"display: inline-block; width: calc(50% - 10px)\"><span style=\"background: #69E2FB;\">HEAD CT: Axial imaging was performed through the brain without IV contrast administration</span></div><div style=\"display: inline-block; width: calc(50% - 10px)\"><span style=\"background: #69E2FB;\">Cisterns are patent</span></div><div style=\"width: 20px; display: inline-block\"></div><div style=\"display: inline-block; width: calc(50% - 10px)\"><span style=\"background: #69E2FB;\">COMPARISON: CT head [**2197-7-9**]</span></div><div style=\"display: inline-block; width: calc(50% - 10px)\"><span style=\"background: #69E2FB;\">No evidence of acute hemorrhage</span></div><div style=\"width: 20px; display: inline-block\"></div><div style=\"display: inline-block; width: calc(50% - 10px)\"><span style=\"background: #69E2FB;\">FINDINGS: There is a 3.5 x 4.3 cm hypodensity in the right cerebellar hemisphere</span></div><div style=\"display: inline-block; width: calc(50% - 10px)\"><span style=\"background: #69E2FB;\">______________________________________________________________________________ FINAL REPORT CT HEAD WITHOUT CONTRAST</span></div><div style=\"width: 20px; display: inline-block\"></div><div style=\"display: inline-block; width: calc(50% - 10px)\"><span style=\"background: #69E2FB;\">There is additional hypodensity in the left cerebellar hemisphere</span></div><div style=\"display: inline-block; width: calc(50% - 10px)\"><span style=\"background: #69E2FB;\">COMPARISON: [**2191-12-9**]</span></div><div style=\"width: 20px; display: inline-block\"></div><div style=\"display: inline-block; width: calc(50% - 10px)\"><span style=\"background: #69E2FB;\">Allowing for differences in head position, the size of these hypodensities appears unchanged</span></div><div style=\"display: inline-block; width: calc(50% - 10px)\"><span style=\"background: #69E2FB;\">HISTORY: Afib, not</span> on <span style=\"background: #69E2FB;\">Coumadin, evaluate for emboli</span></div><div style=\"width: 20px; display: inline-block\"></div><div style=\"display: inline-block; width: calc(50% - 10px)\"><span style=\"background: #69E2FB;\">There is unchanged hypodensity in the right vertebral artery, which may represent intraluminal thrombus seen</span> on <span style=\"background: #69E2FB;\">prior CTA examination</span></div><div style=\"display: inline-block; width: calc(50% - 10px)\"><span style=\"background: #69E2FB;\">TECHNIQUE: MDCT axially acquired images</span> of <span style=\"background: #69E2FB;\">the brain were obtained</span></div><div style=\"width: 20px; display: inline-block\"></div><div style=\"display: inline-block; width: calc(50% - 10px)\"><span style=\"background: #69E2FB;\">There is no shift</span> of <span style=\"background: #69E2FB;\">normally midline structures and there is no evidence for herniation</span></div><div style=\"display: inline-block; width: calc(50% - 10px)\"><span style=\"background: #69E2FB;\">No IV contrast was administered</span></div><div style=\"width: 20px; display: inline-block\"></div><div style=\"display: inline-block; width: calc(50% - 10px)\"><span style=\"background: #69E2FB;\">There is hypodensity in the region of the left basal ganglia likely representing a lacunar infarct</span></div><div style=\"display: inline-block; width: calc(50% - 10px)\"><span style=\"background: #69E2FB;\">Coronal and sagittal reformats were performed</span></div><div style=\"width: 20px; display: inline-block\"></div><div style=\"display: inline-block; width: calc(50% - 10px)\"><span style=\"background: #69E2FB;\">There is periventricular white matter hypodensity likely the sequela of small infarction</span></div><div style=\"display: inline-block; width: calc(50% - 10px)\"><span style=\"background: #69E2FB;\">FINDINGS: The ventricles and sulci are prominent, consistent with age-related atrophy</span></div><div style=\"width: 20px; display: inline-block\"></div><div style=\"display: inline-block; width: calc(50% - 10px)\"><span style=\"background: #69E2FB;\">There is no evidence for acute hemorrhage</span></div><div style=\"display: inline-block; width: calc(50% - 10px)\"><span style=\"background: #69E2FB;\">There are several low density areas within the white matter of both cerebral hemispheres, largest in the right occipital lobe (2,11), which is not significantly changed when compared to prior exam</span></div><div style=\"width: 20px; display: inline-block\"></div><div style=\"display: inline-block; width: calc(50% - 10px)\"><span style=\"background: #69E2FB;\">The osseous structures appear intact</span></div><div style=\"display: inline-block; width: calc(50% - 10px)\"><span style=\"background: #69E2FB;\">There is no overt mass effect</span></div><div style=\"width: 20px; display: inline-block\"></div><div style=\"display: inline-block; width: calc(50% - 10px)\"><span style=\"background: #69E2FB;\">The paranasal sinuses, ethmoid and mastoid air cells are well aerated</span></div><div style=\"display: inline-block; width: calc(50% - 10px)\"><span style=\"background: #69E2FB;\">There is increased periventricular white matter hypodensities consistent with chronic</span> small <span style=\"background: #69E2FB;\">vessel ischemic changes</span></div><div style=\"width: 20px; display: inline-block\"></div><div style=\"display: inline-block; width: calc(50% - 10px)\"><span style=\"background: #69E2FB;\">Hypodensities seen in the right masticator space likely represent air and</span> small <span style=\"background: #69E2FB;\">venules</span></div><div style=\"display: inline-block; width: calc(50% - 10px)\">There is <span style=\"background: #69E2FB;\">no evidence</span> of <span style=\"background: #69E2FB;\">acute hemorrhage or shift</span> of <span style=\"background: #69E2FB;\">normally midline structures</span></div><div style=\"width: 20px; display: inline-block\"></div><div style=\"display: inline-block; width: calc(50% - 10px)\">There is <span style=\"background: #69E2FB;\">slight prominence</span> of <span style=\"background: #69E2FB;\">the ventricles and sulci likely the sequela</span> of <span style=\"background: #69E2FB;\">age-related parenchymal atrophy</span></div><div style=\"display: inline-block; width: calc(50% - 10px)\"><span style=\"background: #69E2FB;\">In</span> the <span style=\"background: #69E2FB;\">right cerebellar hemisphere, (2,5) there is a new hypodensity when compared to prior exam from [**2191**]</span></div><div style=\"width: 20px; display: inline-block\"></div><div style=\"display: inline-block; width: calc(50% - 10px)\"><span style=\"background: #69E2FB;\">There is no dilation of</span> the <span style=\"background: #69E2FB;\">fourth ventricle</span></div><div style=\"display: inline-block; width: calc(50% - 10px)\"><span style=\"background: #69E2FB;\">This likely represents an infarct, subacute to chronic in age</span></div><div style=\"width: 20px; display: inline-block\"></div><div style=\"display: inline-block; width: calc(50% - 10px)\"><span style=\"background: #69E2FB;\">IMPRESSION: 1</span></div><div style=\"display: inline-block; width: calc(50% - 10px)\"><span style=\"background: #69E2FB;\">Considering</span> the <span style=\"background: #69E2FB;\">infarct&#x27;s size, there is relatively little mass effect</span></div><div style=\"width: 20px; display: inline-block\"></div><div style=\"display: inline-block; width: calc(50% - 10px)\"><span style=\"background: #69E2FB;\">Stable appearance to hypodensities representing areas of infarction in bilateral cerebellar hemispheres with greater involvement of</span> the <span style=\"background: #69E2FB;\">right cerebellar hemisphere</span></div><div style=\"display: inline-block; width: calc(50% - 10px)\"><span style=\"background: #69E2FB;\">Atherosclerotic calcifications of the cavernous portions of both internal carotids are again identified, unchanged</span></div><div style=\"width: 20px; display: inline-block\"></div><div style=\"display: inline-block; width: calc(50% - 10px)\"><span style=\"background: #69E2FB;\">2</span></div><div style=\"display: inline-block; width: calc(50% - 10px)\"><span style=\"background: #69E2FB;\">There is</span> no evidence <span style=\"background: #69E2FB;\">of acute fracture</span></div><div style=\"width: 20px; display: inline-block\"></div><div style=\"display: inline-block; width: calc(50% - 10px)\"><span style=\"background: #69E2FB;\">No evidence for hemorrhagic transformation,</span> no evidence <span style=\"background: #69E2FB;\">for herniation</span></div><div style=\"display: inline-block; width: calc(50% - 10px)\"><span style=\"background: #69E2FB;\">The visualized paranasal sinuses are clear except to note mild mucosal thickening of the right posterior ethmoidal cells</span></div><div style=\"width: 20px; display: inline-block\"></div><div style=\"display: inline-block; width: calc(50% - 10px)\"><span style=\"background: #69E2FB;\">4</span></div><div style=\"display: inline-block; width: calc(50% - 10px)\"><span style=\"background: #69E2FB;\">IMPRESSION: New hypodensity in the right cerebellar hemisphere, suggestive of infarction, subacute to to chronic in age</span></div><div style=\"width: 20px; display: inline-block\"></div><div style=\"display: inline-block; width: calc(50% - 10px)\"><span style=\"background: #69E2FB;\">Stable small vessel microvascular disease and left basal ganglia lacunar infarct</span></div><div style=\"display: inline-block; width: calc(50% - 10px)\"><span style=\"background: #69E2FB;\">Multiple prior infarcts throughout the cerebral hemispheres, largely unchanged</span></div><div style=\"width: 20px; display: inline-block\"></div><div style=\"display: inline-block; width: calc(50% - 10px)\"><span style=\"background: #69E2FB;\">(Over) [**2197-7-10**] 4:05 PM CT HEAD W/O CONTRAST Clip # [**Clip Number (Radiology) 41123**] Reason: interval change Admitting Diagnosis: CONGESTIVE HEART FAILURE ______________________________________________________________________________ FINAL REPORT (Cont) </span></div><div style=\"display: inline-block; width: calc(50% - 10px)\"><span style=\"background: #69E2FB;\">No evidence of acute hemorrhage or shift of normally midline structures</span></div><div style=\"width: 20px; display: inline-block\"></div><div style=\"display: inline-block; width: calc(50% - 10px)\"><span style=\"background: #69E2FB;\"></span></div><div style=\"display: inline-block; width: calc(50% - 10px)\"><span style=\"background: #69E2FB;\">Mild brain atrophy</span></div><div style=\"width: 20px; display: inline-block\"></div><div style=\"display: inline-block; width: calc(50% - 10px)\"><span style=\"background: #69E2FB;\"></span></div><div style=\"display: inline-block; width: calc(50% - 10px)\"><span style=\"background: #69E2FB;\">(Over) [**2197-7-9**] 1:10 AM CT HEAD W/O CONTRAST Clip # [**Clip Number (Radiology) 41118**] Reason: r/o emboli Admitting Diagnosis: CONGESTIVE HEART FAILURE ______________________________________________________________________________ FINAL REPORT (Cont)</span> </div><div style=\"width: 20px; display: inline-block\"></div><div style=\"display: inline-block; width: calc(50% - 10px)\"></div></div>"
      ],
      "text/plain": [
       "<IPython.core.display.HTML object>"
      ]
     },
     "metadata": {},
     "output_type": "display_data"
    }
   ],
   "source": [
    "texts = stroke_notes_subset[(stroke_notes_subset.category == category) & (stroke_notes_subset.description == description)].text.tolist()\n",
    "show_diffs(texts[idx], texts[idx+1])"
   ]
  },
  {
   "cell_type": "code",
   "execution_count": 465,
   "metadata": {},
   "outputs": [
    {
     "name": "stdout",
     "output_type": "stream",
     "text": [
      "2021-01-14 17:31:27,389: Removing /Users/tom/.cache/huggingface/metrics/bert_score/default/default_experiment-4a37d248-f29f-4b4b-90b8-2e8f61749670-1-0.arrow\n",
      "2021-01-14 17:31:27,786: Removing /Users/tom/.cache/huggingface/metrics/rouge/default/default_experiment-5e39592f-84e2-4b87-8095-aacd8efe0b83-1-0.arrow\n",
      "2021-01-14 17:32:18,938: Removing /Users/tom/.cache/huggingface/metrics/bert_score/default/default_experiment-64161000-833a-4b38-b4e1-12e8a8ac58d9-1-0.arrow\n",
      "2021-01-14 17:32:19,383: Removing /Users/tom/.cache/huggingface/metrics/rouge/default/default_experiment-0dbbd235-4e69-4d2e-ac82-a88e7b474083-1-0.arrow\n",
      "2021-01-14 17:32:27,764: Removing /Users/tom/.cache/huggingface/metrics/bert_score/default/default_experiment-c052fe8e-ca0d-4640-93d3-394a83f72a73-1-0.arrow\n",
      "2021-01-14 17:32:27,965: Removing /Users/tom/.cache/huggingface/metrics/rouge/default/default_experiment-3d921f76-5fdd-4cc1-ba43-dc45e9dc591c-1-0.arrow\n",
      "2021-01-14 17:50:44,340: Removing /Users/tom/.cache/huggingface/metrics/bert_score/default/default_experiment-c2467142-346a-48b3-a692-3916bebe8626-1-0.arrow\n",
      "2021-01-14 17:50:51,034: Removing /Users/tom/.cache/huggingface/metrics/rouge/default/default_experiment-be48462e-5d24-4d02-8a69-5dbedcd42c5d-1-0.arrow\n",
      "2021-01-14 17:50:56,436: Removing /Users/tom/.cache/huggingface/metrics/bert_score/default/default_experiment-ab604dc1-e1b5-4d4a-a5e6-bc55166fc297-1-0.arrow\n",
      "2021-01-14 17:50:56,464: Removing /Users/tom/.cache/huggingface/metrics/rouge/default/default_experiment-a5932c95-3a4d-40c7-bc7b-69ec3320814f-1-0.arrow\n",
      "2021-01-14 17:51:00,644: Removing /Users/tom/.cache/huggingface/metrics/bert_score/default/default_experiment-24a28eb7-16fa-44a1-bab5-3e131f70deba-1-0.arrow\n",
      "2021-01-14 17:51:00,680: Removing /Users/tom/.cache/huggingface/metrics/rouge/default/default_experiment-74fc074d-d196-4db3-a3ad-9c1df06335ef-1-0.arrow\n",
      "2021-01-14 17:51:42,023: Removing /Users/tom/.cache/huggingface/metrics/bert_score/default/default_experiment-28273cfe-8985-4967-9dbb-4bc6d0526ca8-1-0.arrow\n",
      "2021-01-14 17:51:42,612: Removing /Users/tom/.cache/huggingface/metrics/rouge/default/default_experiment-9756a401-f1d4-4433-a854-67e31dbb5de5-1-0.arrow\n",
      "2021-01-14 17:52:13,184: Removing /Users/tom/.cache/huggingface/metrics/bert_score/default/default_experiment-bf2b5496-2ad6-4ad4-980a-d3b38e990f22-1-0.arrow\n",
      "2021-01-14 17:52:14,222: Removing /Users/tom/.cache/huggingface/metrics/rouge/default/default_experiment-c85a5452-1578-4d2b-8376-6cd6a29a1c8c-1-0.arrow\n",
      "2021-01-14 17:52:19,391: Removing /Users/tom/.cache/huggingface/metrics/bert_score/default/default_experiment-a1a3e5bd-a6eb-43a9-b28f-7fb8965c6be5-1-0.arrow\n",
      "2021-01-14 17:52:19,525: Removing /Users/tom/.cache/huggingface/metrics/rouge/default/default_experiment-391c04b3-630b-4c1f-a1ce-55ce4cc91ab2-1-0.arrow\n",
      "2021-01-14 17:52:22,376: Removing /Users/tom/.cache/huggingface/metrics/bert_score/default/default_experiment-2035df29-ccbd-43bc-b651-3c4cb5945c94-1-0.arrow\n",
      "2021-01-14 17:52:22,401: Removing /Users/tom/.cache/huggingface/metrics/rouge/default/default_experiment-5c7a1623-35c0-4f9c-bbed-160037ca7cfa-1-0.arrow\n",
      "2021-01-14 17:53:49,712: Removing /Users/tom/.cache/huggingface/metrics/bert_score/default/default_experiment-8407484d-2826-4251-b631-36b51f9d8d61-1-0.arrow\n",
      "2021-01-14 17:53:52,098: Removing /Users/tom/.cache/huggingface/metrics/rouge/default/default_experiment-17e7c9cd-df0d-457d-b206-e32314800cca-1-0.arrow\n",
      "2021-01-14 17:54:11,708: Removing /Users/tom/.cache/huggingface/metrics/bert_score/default/default_experiment-f4c3187f-1787-44a4-8e5b-6adb47de5d92-1-0.arrow\n",
      "2021-01-14 17:54:12,162: Removing /Users/tom/.cache/huggingface/metrics/rouge/default/default_experiment-67603d83-5039-4f65-beac-5c7ac3c4bfe7-1-0.arrow\n",
      "2021-01-14 17:54:36,539: Removing /Users/tom/.cache/huggingface/metrics/bert_score/default/default_experiment-9d57472b-80ab-4087-9c1a-c0ce0418ca95-1-0.arrow\n",
      "2021-01-14 17:54:36,805: Removing /Users/tom/.cache/huggingface/metrics/rouge/default/default_experiment-2e7c192a-e74e-4c4b-8d08-e9aca50e9bf2-1-0.arrow\n",
      "2021-01-14 17:58:07,208: Removing /Users/tom/.cache/huggingface/metrics/bert_score/default/default_experiment-857f4950-7533-4078-a9ca-9cb6d04d918f-1-0.arrow\n",
      "2021-01-14 17:58:12,533: Removing /Users/tom/.cache/huggingface/metrics/rouge/default/default_experiment-8f3851d2-be34-456f-acb8-3a9880fe5a51-1-0.arrow\n",
      "2021-01-14 17:58:18,401: Removing /Users/tom/.cache/huggingface/metrics/bert_score/default/default_experiment-97fc7942-2309-477e-9f31-49d703b1dabf-1-0.arrow\n",
      "2021-01-14 17:58:18,452: Removing /Users/tom/.cache/huggingface/metrics/rouge/default/default_experiment-905b8a32-c216-4cc5-803f-85726cf8a652-1-0.arrow\n",
      "2021-01-14 17:58:47,419: Removing /Users/tom/.cache/huggingface/metrics/bert_score/default/default_experiment-3f43b33a-31e1-4df9-8be6-075823e4b85f-1-0.arrow\n",
      "2021-01-14 17:58:47,627: Removing /Users/tom/.cache/huggingface/metrics/rouge/default/default_experiment-914093c0-4d72-4546-9ba5-7f9bc9afc5b8-1-0.arrow\n",
      "2021-01-14 17:59:01,754: Removing /Users/tom/.cache/huggingface/metrics/bert_score/default/default_experiment-ca7d6c5b-2402-4984-a4c8-55da9ce6c11d-1-0.arrow\n",
      "2021-01-14 17:59:01,993: Removing /Users/tom/.cache/huggingface/metrics/rouge/default/default_experiment-5bd5483b-859c-4db9-9e1d-107adfcdf577-1-0.arrow\n"
     ]
    }
   ],
   "source": [
    "more_notes_results_df = compute_diff(stroke_notes[stroke_notes.hadm_id.isin([195402, 152943])])"
   ]
  },
  {
   "cell_type": "code",
   "execution_count": null,
   "metadata": {},
   "outputs": [],
   "source": [
    "more_notes_results_df"
   ]
  },
  {
   "cell_type": "code",
   "execution_count": null,
   "metadata": {
    "jupyter": {
     "source_hidden": true
    }
   },
   "outputs": [],
   "source": [
    "# sort and re-rank, set of documents, extract phenotypes to test how excluding \n",
    "# the set of redundant document effects phenotype extraction??"
   ]
  },
  {
   "cell_type": "code",
   "execution_count": 154,
   "metadata": {},
   "outputs": [],
   "source": [
    "stroke_notes_subset = stroke_notes[stroke_notes.hadm_id == 195402]"
   ]
  },
  {
   "cell_type": "code",
   "execution_count": 221,
   "metadata": {},
   "outputs": [
    {
     "data": {
      "text/plain": [
       "7139    Atrial fibrillation.  Predominantly ventricula...\n",
       "7140    Atrial fibrillation with a rapid ventricular r...\n",
       "7141    Atrial fibrillation with variable ventricular ...\n",
       "7142    Compared to the previous tracing ventricular f...\n",
       "7143    Probable atrial fibrillation with semi-regular...\n",
       "Name: text, dtype: object"
      ]
     },
     "execution_count": 221,
     "metadata": {},
     "output_type": "execute_result"
    }
   ],
   "source": [
    "list(stroke_notes_subset.groupby(['hadm_id', 'category', 'description']))[2][1].text"
   ]
  },
  {
   "cell_type": "code",
   "execution_count": 251,
   "metadata": {},
   "outputs": [
    {
     "name": "stdout",
     "output_type": "stream",
     "text": [
      "2021-01-14 11:32:18,040: Removing /Users/tom/.cache/huggingface/metrics/bert_score/default/default_experiment-1-0.arrow\n",
      "2021-01-14 11:32:18,047: Removing /Users/tom/.cache/huggingface/metrics/rouge/default/default_experiment-1-0.arrow\n",
      "2021-01-14 11:33:13,206: Removing /Users/tom/.cache/huggingface/metrics/bert_score/default/default_experiment-1-0.arrow\n",
      "2021-01-14 11:33:13,970: Removing /Users/tom/.cache/huggingface/metrics/rouge/default/default_experiment-1-0.arrow\n",
      "2021-01-14 11:33:21,868: Removing /Users/tom/.cache/huggingface/metrics/bert_score/default/default_experiment-1-0.arrow\n",
      "2021-01-14 11:33:22,022: Removing /Users/tom/.cache/huggingface/metrics/rouge/default/default_experiment-1-0.arrow\n",
      "2021-01-14 11:33:34,371: Removing /Users/tom/.cache/huggingface/metrics/bert_score/default/default_experiment-1-0.arrow\n",
      "2021-01-14 11:33:34,490: Removing /Users/tom/.cache/huggingface/metrics/rouge/default/default_experiment-1-0.arrow\n",
      "2021-01-14 11:36:11,716: Removing /Users/tom/.cache/huggingface/metrics/bert_score/default/default_experiment-1-0.arrow\n",
      "2021-01-14 11:36:14,255: Removing /Users/tom/.cache/huggingface/metrics/rouge/default/default_experiment-1-0.arrow\n",
      "2021-01-14 11:36:16,466: Removing /Users/tom/.cache/huggingface/metrics/bert_score/default/default_experiment-1-0.arrow\n",
      "2021-01-14 11:36:16,485: Removing /Users/tom/.cache/huggingface/metrics/rouge/default/default_experiment-1-0.arrow\n",
      "2021-01-14 11:36:33,145: Removing /Users/tom/.cache/huggingface/metrics/bert_score/default/default_experiment-1-0.arrow\n",
      "2021-01-14 11:36:33,328: Removing /Users/tom/.cache/huggingface/metrics/rouge/default/default_experiment-1-0.arrow\n",
      "2021-01-14 11:36:41,209: Removing /Users/tom/.cache/huggingface/metrics/bert_score/default/default_experiment-1-0.arrow\n",
      "2021-01-14 11:36:41,404: Removing /Users/tom/.cache/huggingface/metrics/rouge/default/default_experiment-1-0.arrow\n"
     ]
    }
   ],
   "source": [
    "sample_diffs = compute_diff(stroke_notes_subset)"
   ]
  },
  {
   "cell_type": "code",
   "execution_count": null,
   "metadata": {},
   "outputs": [],
   "source": [
    "# plots between max / min... as things progress... - heavy bias between how the clinician records the notes..\n",
    "# "
   ]
  },
  {
   "cell_type": "code",
   "execution_count": 439,
   "metadata": {},
   "outputs": [
    {
     "data": {
      "text/plain": [
       "Index(['diff_ratios', 'max_ratios', 'min_ratios', 'redundant_toks',\n",
       "       'total_tokens', 'avg_diff_ratio', 'avg_txt_len', 'hadm_id', 'category',\n",
       "       'description', 'rg_recall', 'rg_recall_avg', 'rg_recall_med',\n",
       "       'rg_recall_iqr', 'rg_precision', 'rg_precision_avg', 'rg_precision_med',\n",
       "       'rg_precision_iqr'],\n",
       "      dtype='object')"
      ]
     },
     "execution_count": 439,
     "metadata": {},
     "output_type": "execute_result"
    }
   ],
   "source": [
    "more_notes_results_df.columns"
   ]
  },
  {
   "cell_type": "code",
   "execution_count": null,
   "metadata": {},
   "outputs": [],
   "source": [
    "list(chain.from_iterable(more_notes_results_df.rg_recall))"
   ]
  },
  {
   "cell_type": "code",
   "execution_count": 478,
   "metadata": {},
   "outputs": [],
   "source": [
    "def compute_avgs(results_df: pd.DataFrame) -> pd.DataFrame:\n",
    "    cat_desc_avg = defaultdict(list)\n",
    "    for k, df in results_df.groupby(['category', 'description']):\n",
    "        cat_desc_avg['cat_desc'].append(f'{k[0]}:{k[1]}')\n",
    "        cat_desc_avg['redundant_toks'].append(sum(df.redundant_toks))\n",
    "        cat_desc_avg['total_toks'].append(sum(df.total_tokens))\n",
    "        cat_desc_avg['avg_txt_len'].append(np.average(df.avg_txt_len))\n",
    "        cat_desc_avg['macro_avg'].append(np.average(df.avg_diff_ratio))\n",
    "        \n",
    "        d_r = list(chain.from_iterable(df.diff_ratios))\n",
    "        cat_desc_avg['micro_avg'].append(np.average(d_r))\n",
    "        cat_desc_avg['num_instances'].append(len(d_r))\n",
    "        # micro avgs of median / iqr\n",
    "        rg_rec = list(chain.from_iterable(df.rg_recall))\n",
    "        rg_prec = list(chain.from_iterable(df.rg_precision))\n",
    "        cat_desc_avg['rg_rec_avg'].append(np.average(rg_rec))\n",
    "        cat_desc_avg['rg_rec_med'].append(np.median(rg_rec))\n",
    "        cat_desc_avg['rg_rec_iqr'].append(np.subtract(*np.percentile(rg_rec, [75, 25])))\n",
    "        cat_desc_avg['rg_prec_avg'].append(np.average(rg_prec))\n",
    "        cat_desc_avg['rg_prec_med'].append(np.median(rg_prec))\n",
    "        cat_desc_avg['rg_prec_iqr'].append(np.subtract(*np.percentile(rg_prec, [75, 25])))\n",
    "        \n",
    "        bs_rec = list(chain.from_iterable(df.bs_recall))\n",
    "        bs_prec = list(chain.from_iterable(df.bs_precision))\n",
    "        cat_desc_avg['bs_rec_avg'].append(np.average(bs_rec))\n",
    "        cat_desc_avg['bs_rec_med'].append(np.median(bs_rec))\n",
    "        cat_desc_avg['bs_rec_iqr'].append(np.subtract(*np.percentile(bs_rec, [75, 25])))\n",
    "        cat_desc_avg['bs_prec_avg'].append(np.average(bs_prec))\n",
    "        cat_desc_avg['bs_prec_med'].append(np.median(bs_prec))\n",
    "        cat_desc_avg['bs_prec_iqr'].append(np.subtract(*np.percentile(bs_prec, [75, 25])))\n",
    "    group_avgs = pd.DataFrame(cat_desc_avg)\n",
    "    group_avgs = group_avgs[~group_avgs.cat_desc.str.contains('Discharge summary')]\n",
    "    group_avgs = group_avgs[group_avgs['num_instances'] > 5]\n",
    "    group_avgs = group_avgs.sort_values('num_instances', ascending=False).reset_index(drop=True).head(20)\n",
    "    return group_avgs"
   ]
  },
  {
   "cell_type": "code",
   "execution_count": 479,
   "metadata": {},
   "outputs": [],
   "source": [
    "avgs = compute_avgs(more_notes_results_df)"
   ]
  },
  {
   "cell_type": "raw",
   "metadata": {},
   "source": [
    "more_notes_results_df"
   ]
  },
  {
   "cell_type": "code",
   "execution_count": 482,
   "metadata": {},
   "outputs": [
    {
     "data": {
      "text/html": [
       "<div>\n",
       "<style scoped>\n",
       "    .dataframe tbody tr th:only-of-type {\n",
       "        vertical-align: middle;\n",
       "    }\n",
       "\n",
       "    .dataframe tbody tr th {\n",
       "        vertical-align: top;\n",
       "    }\n",
       "\n",
       "    .dataframe thead th {\n",
       "        text-align: right;\n",
       "    }\n",
       "</style>\n",
       "<table border=\"1\" class=\"dataframe\">\n",
       "  <thead>\n",
       "    <tr style=\"text-align: right;\">\n",
       "      <th></th>\n",
       "      <th>cat_desc</th>\n",
       "      <th>redundant_toks</th>\n",
       "      <th>total_toks</th>\n",
       "      <th>avg_txt_len</th>\n",
       "      <th>macro_avg</th>\n",
       "      <th>micro_avg</th>\n",
       "      <th>num_instances</th>\n",
       "      <th>rg_rec_avg</th>\n",
       "      <th>rg_rec_med</th>\n",
       "      <th>rg_rec_iqr</th>\n",
       "      <th>rg_prec_avg</th>\n",
       "      <th>rg_prec_med</th>\n",
       "      <th>rg_prec_iqr</th>\n",
       "      <th>bs_rec_avg</th>\n",
       "      <th>bs_rec_med</th>\n",
       "      <th>bs_rec_iqr</th>\n",
       "      <th>bs_prec_avg</th>\n",
       "      <th>bs_prec_med</th>\n",
       "      <th>bs_prec_iqr</th>\n",
       "    </tr>\n",
       "  </thead>\n",
       "  <tbody>\n",
       "    <tr>\n",
       "      <th>0</th>\n",
       "      <td>Nursing:Nursing Progress Note</td>\n",
       "      <td>3083.0</td>\n",
       "      <td>10644</td>\n",
       "      <td>1532.342857</td>\n",
       "      <td>0.260937</td>\n",
       "      <td>0.227994</td>\n",
       "      <td>49</td>\n",
       "      <td>0.345551</td>\n",
       "      <td>0.183099</td>\n",
       "      <td>0.453135</td>\n",
       "      <td>0.348121</td>\n",
       "      <td>0.187500</td>\n",
       "      <td>0.543152</td>\n",
       "      <td>0.496873</td>\n",
       "      <td>0.415269</td>\n",
       "      <td>0.325653</td>\n",
       "      <td>0.494258</td>\n",
       "      <td>0.407386</td>\n",
       "      <td>0.300740</td>\n",
       "    </tr>\n",
       "    <tr>\n",
       "      <th>1</th>\n",
       "      <td>Physician :Intensivist Note</td>\n",
       "      <td>2268.0</td>\n",
       "      <td>19917</td>\n",
       "      <td>6768.888889</td>\n",
       "      <td>0.188330</td>\n",
       "      <td>0.169265</td>\n",
       "      <td>24</td>\n",
       "      <td>0.594225</td>\n",
       "      <td>0.593260</td>\n",
       "      <td>0.101830</td>\n",
       "      <td>0.597550</td>\n",
       "      <td>0.601893</td>\n",
       "      <td>0.106160</td>\n",
       "      <td>0.856726</td>\n",
       "      <td>0.865678</td>\n",
       "      <td>0.039429</td>\n",
       "      <td>0.858064</td>\n",
       "      <td>0.862904</td>\n",
       "      <td>0.042023</td>\n",
       "    </tr>\n",
       "    <tr>\n",
       "      <th>2</th>\n",
       "      <td>Radiology:CT HEAD W/O CONTRAST</td>\n",
       "      <td>202.0</td>\n",
       "      <td>3299</td>\n",
       "      <td>1934.000000</td>\n",
       "      <td>0.085815</td>\n",
       "      <td>0.084276</td>\n",
       "      <td>16</td>\n",
       "      <td>0.400569</td>\n",
       "      <td>0.367340</td>\n",
       "      <td>0.179989</td>\n",
       "      <td>0.471806</td>\n",
       "      <td>0.399956</td>\n",
       "      <td>0.531606</td>\n",
       "      <td>0.732597</td>\n",
       "      <td>0.752343</td>\n",
       "      <td>0.096644</td>\n",
       "      <td>0.739952</td>\n",
       "      <td>0.768990</td>\n",
       "      <td>0.193871</td>\n",
       "    </tr>\n",
       "    <tr>\n",
       "      <th>3</th>\n",
       "      <td>Nursing:Nursing Transfer Note</td>\n",
       "      <td>1780.0</td>\n",
       "      <td>3085</td>\n",
       "      <td>3215.500000</td>\n",
       "      <td>0.618746</td>\n",
       "      <td>0.421328</td>\n",
       "      <td>9</td>\n",
       "      <td>0.725352</td>\n",
       "      <td>0.997854</td>\n",
       "      <td>0.470588</td>\n",
       "      <td>0.545839</td>\n",
       "      <td>0.612613</td>\n",
       "      <td>0.374493</td>\n",
       "      <td>0.701177</td>\n",
       "      <td>0.963624</td>\n",
       "      <td>0.418861</td>\n",
       "      <td>0.572983</td>\n",
       "      <td>0.604204</td>\n",
       "      <td>0.203790</td>\n",
       "    </tr>\n",
       "    <tr>\n",
       "      <th>4</th>\n",
       "      <td>Nutrition:Clinical Nutrition Note</td>\n",
       "      <td>504.0</td>\n",
       "      <td>1656</td>\n",
       "      <td>2180.266667</td>\n",
       "      <td>0.340495</td>\n",
       "      <td>0.278534</td>\n",
       "      <td>6</td>\n",
       "      <td>0.723751</td>\n",
       "      <td>0.921967</td>\n",
       "      <td>0.430212</td>\n",
       "      <td>0.591569</td>\n",
       "      <td>0.553689</td>\n",
       "      <td>0.121907</td>\n",
       "      <td>0.789677</td>\n",
       "      <td>0.916548</td>\n",
       "      <td>0.145370</td>\n",
       "      <td>0.708747</td>\n",
       "      <td>0.741177</td>\n",
       "      <td>0.260565</td>\n",
       "    </tr>\n",
       "  </tbody>\n",
       "</table>\n",
       "</div>"
      ],
      "text/plain": [
       "                            cat_desc  redundant_toks  total_toks  avg_txt_len  \\\n",
       "0      Nursing:Nursing Progress Note          3083.0       10644  1532.342857   \n",
       "1        Physician :Intensivist Note          2268.0       19917  6768.888889   \n",
       "2     Radiology:CT HEAD W/O CONTRAST           202.0        3299  1934.000000   \n",
       "3      Nursing:Nursing Transfer Note          1780.0        3085  3215.500000   \n",
       "4  Nutrition:Clinical Nutrition Note           504.0        1656  2180.266667   \n",
       "\n",
       "   macro_avg  micro_avg  num_instances  rg_rec_avg  rg_rec_med  rg_rec_iqr  \\\n",
       "0   0.260937   0.227994             49    0.345551    0.183099    0.453135   \n",
       "1   0.188330   0.169265             24    0.594225    0.593260    0.101830   \n",
       "2   0.085815   0.084276             16    0.400569    0.367340    0.179989   \n",
       "3   0.618746   0.421328              9    0.725352    0.997854    0.470588   \n",
       "4   0.340495   0.278534              6    0.723751    0.921967    0.430212   \n",
       "\n",
       "   rg_prec_avg  rg_prec_med  rg_prec_iqr  bs_rec_avg  bs_rec_med  bs_rec_iqr  \\\n",
       "0     0.348121     0.187500     0.543152    0.496873    0.415269    0.325653   \n",
       "1     0.597550     0.601893     0.106160    0.856726    0.865678    0.039429   \n",
       "2     0.471806     0.399956     0.531606    0.732597    0.752343    0.096644   \n",
       "3     0.545839     0.612613     0.374493    0.701177    0.963624    0.418861   \n",
       "4     0.591569     0.553689     0.121907    0.789677    0.916548    0.145370   \n",
       "\n",
       "   bs_prec_avg  bs_prec_med  bs_prec_iqr  \n",
       "0     0.494258     0.407386     0.300740  \n",
       "1     0.858064     0.862904     0.042023  \n",
       "2     0.739952     0.768990     0.193871  \n",
       "3     0.572983     0.604204     0.203790  \n",
       "4     0.708747     0.741177     0.260565  "
      ]
     },
     "execution_count": 482,
     "metadata": {},
     "output_type": "execute_result"
    }
   ],
   "source": [
    "avgs"
   ]
  },
  {
   "cell_type": "code",
   "execution_count": 495,
   "metadata": {},
   "outputs": [
    {
     "data": {
      "text/html": [
       "<div>\n",
       "<style scoped>\n",
       "    .dataframe tbody tr th:only-of-type {\n",
       "        vertical-align: middle;\n",
       "    }\n",
       "\n",
       "    .dataframe tbody tr th {\n",
       "        vertical-align: top;\n",
       "    }\n",
       "\n",
       "    .dataframe thead th {\n",
       "        text-align: right;\n",
       "    }\n",
       "</style>\n",
       "<table border=\"1\" class=\"dataframe\">\n",
       "  <thead>\n",
       "    <tr style=\"text-align: right;\">\n",
       "      <th></th>\n",
       "      <th>cat_desc</th>\n",
       "      <th>micro_avg</th>\n",
       "      <th>rg_rec_avg</th>\n",
       "      <th>rg_prec_avg</th>\n",
       "      <th>bs_rec_avg</th>\n",
       "      <th>bs_prec_avg</th>\n",
       "    </tr>\n",
       "  </thead>\n",
       "  <tbody>\n",
       "    <tr>\n",
       "      <th>0</th>\n",
       "      <td>Nursing:Nursing Progress Note</td>\n",
       "      <td>0.227994</td>\n",
       "      <td>0.345551</td>\n",
       "      <td>0.348121</td>\n",
       "      <td>0.496873</td>\n",
       "      <td>0.494258</td>\n",
       "    </tr>\n",
       "    <tr>\n",
       "      <th>1</th>\n",
       "      <td>Physician :Intensivist Note</td>\n",
       "      <td>0.169265</td>\n",
       "      <td>0.594225</td>\n",
       "      <td>0.597550</td>\n",
       "      <td>0.856726</td>\n",
       "      <td>0.858064</td>\n",
       "    </tr>\n",
       "    <tr>\n",
       "      <th>2</th>\n",
       "      <td>Radiology:CT HEAD W/O CONTRAST</td>\n",
       "      <td>0.084276</td>\n",
       "      <td>0.400569</td>\n",
       "      <td>0.471806</td>\n",
       "      <td>0.732597</td>\n",
       "      <td>0.739952</td>\n",
       "    </tr>\n",
       "    <tr>\n",
       "      <th>3</th>\n",
       "      <td>Nursing:Nursing Transfer Note</td>\n",
       "      <td>0.421328</td>\n",
       "      <td>0.725352</td>\n",
       "      <td>0.545839</td>\n",
       "      <td>0.701177</td>\n",
       "      <td>0.572983</td>\n",
       "    </tr>\n",
       "    <tr>\n",
       "      <th>4</th>\n",
       "      <td>Nutrition:Clinical Nutrition Note</td>\n",
       "      <td>0.278534</td>\n",
       "      <td>0.723751</td>\n",
       "      <td>0.591569</td>\n",
       "      <td>0.789677</td>\n",
       "      <td>0.708747</td>\n",
       "    </tr>\n",
       "  </tbody>\n",
       "</table>\n",
       "</div>"
      ],
      "text/plain": [
       "                            cat_desc  micro_avg  rg_rec_avg  rg_prec_avg  \\\n",
       "0      Nursing:Nursing Progress Note   0.227994    0.345551     0.348121   \n",
       "1        Physician :Intensivist Note   0.169265    0.594225     0.597550   \n",
       "2     Radiology:CT HEAD W/O CONTRAST   0.084276    0.400569     0.471806   \n",
       "3      Nursing:Nursing Transfer Note   0.421328    0.725352     0.545839   \n",
       "4  Nutrition:Clinical Nutrition Note   0.278534    0.723751     0.591569   \n",
       "\n",
       "   bs_rec_avg  bs_prec_avg  \n",
       "0    0.496873     0.494258  \n",
       "1    0.856726     0.858064  \n",
       "2    0.732597     0.739952  \n",
       "3    0.701177     0.572983  \n",
       "4    0.789677     0.708747  "
      ]
     },
     "execution_count": 495,
     "metadata": {},
     "output_type": "execute_result"
    }
   ],
   "source": [
    "avgs.loc[:, ['cat_desc', 'micro_avg', 'rg_rec_avg', 'rg_prec_avg', 'bs_rec_avg', 'bs_prec_avg']]"
   ]
  },
  {
   "cell_type": "code",
   "execution_count": null,
   "metadata": {},
   "outputs": [],
   "source": []
  },
  {
   "cell_type": "code",
   "execution_count": null,
   "metadata": {},
   "outputs": [],
   "source": []
  },
  {
   "cell_type": "markdown",
   "metadata": {},
   "source": [
    "### Compare Discharge Summary to last note types via Summarisation Metrics\n",
    "- recall will likely be low, but any non-zero ness is potentially interesting\n",
    "- do neural methods work at all here??"
   ]
  },
  {
   "cell_type": "code",
   "execution_count": null,
   "metadata": {},
   "outputs": [],
   "source": [
    "# only take last note...? Or take all notes of each category\n",
    "#"
   ]
  },
  {
   "cell_type": "code",
   "execution_count": 500,
   "metadata": {},
   "outputs": [],
   "source": [
    "rouge_metric.add(prediction='foo bar baz', reference='foo')"
   ]
  },
  {
   "cell_type": "code",
   "execution_count": 501,
   "metadata": {},
   "outputs": [],
   "source": [
    "rouge_metric.add(prediction='foo bar baz', reference='foo')"
   ]
  },
  {
   "cell_type": "code",
   "execution_count": 502,
   "metadata": {},
   "outputs": [
    {
     "name": "stdout",
     "output_type": "stream",
     "text": [
      "2021-01-15 00:19:26,721: Removing /Users/tom/.cache/huggingface/metrics/rouge/default/default_experiment-1-0.arrow\n"
     ]
    },
    {
     "data": {
      "text/plain": [
       "[Score(precision=0.3333333333333333, recall=1.0, fmeasure=0.5),\n",
       " Score(precision=0.3333333333333333, recall=1.0, fmeasure=0.5)]"
      ]
     },
     "execution_count": 502,
     "metadata": {},
     "output_type": "execute_result"
    }
   ],
   "source": [
    "rouge_metric.compute(rouge_types=['rougeL'], use_agregator=False)['rougeL']"
   ]
  },
  {
   "cell_type": "code",
   "execution_count": 519,
   "metadata": {},
   "outputs": [],
   "source": [
    "def calc_diff_metrics(ds: str, prev_notes: dict):\n",
    "    # calc diff between \n",
    "    rouge_metric = load_metric('rouge')\n",
    "    bert_metric = load_metric('bertscore')\n",
    "    output = defaultdict(list)\n",
    "    for k, note_text in prev_notes.items():\n",
    "        ratio, std_dev, max_ratio, min_ratio, redundant_toks_len, total_toks = diff_ratio(ds, note_text)\n",
    "        output['ratio'].append(ratio)\n",
    "        output['cat_desc'].append(':'.join(k))\n",
    "        rouge_metric.add(prediction=ds, reference=note_text)\n",
    "        bert_metric.add(prediction=ds, reference=note_text)\n",
    "#     bert_scores = bert_metric.compute(lang='en', rescale_with_baseline=True, model_type='xlnet-base-cased')\n",
    "#     output['bs_prec'].extend(bert_scores.precision)\n",
    "#     output['bs_rec'].extend(bert_scores.recall)\n",
    "    rougeL = rouge_metric.compute(rouge_types=['rougeL'], use_agregator=False)['rougeL']\n",
    "    output['rg_prec'].extend([s.precision for s in rougeL])\n",
    "    output['rg_rec'].extend([s.recall for s in rougeL])\n",
    "    return pd.DataFrame(output)\n",
    "    \n",
    "def calc_discharge_summary_redundancy(notes: pd.DataFrame):\n",
    "    summaries = notes[notes.category == 'Discharge summary'].loc[:, ['hadm_id', 'text']]\n",
    "    ds_diffs = []\n",
    "    for r in summaries.itertuples():\n",
    "        hadm_notes = notes[(notes.hadm_id == r.hadm_id) & (notes.category != 'Discharge summary')]\n",
    "        last_notes_per_type = {}\n",
    "        for k, df_g in hadm_notes.groupby(['category', 'description']):\n",
    "            last_notes_per_type[':'.join(k)] = df_g.text.iloc[-1]\n",
    "        ds_diffs.append(calc_diff_metrics(r.text, last_notes_per_type))\n",
    "    return pd.concat(ds_diffs)"
   ]
  },
  {
   "cell_type": "code",
   "execution_count": 518,
   "metadata": {},
   "outputs": [
    {
     "name": "stdout",
     "output_type": "stream",
     "text": [
      "2021-01-15 00:24:18,249: Removing /Users/tom/.cache/huggingface/metrics/rouge/default/default_experiment-1-0.arrow\n",
      "2021-01-15 00:24:21,168: Removing /Users/tom/.cache/huggingface/metrics/rouge/default/default_experiment-1-0.arrow\n"
     ]
    }
   ],
   "source": [
    "calc_discharge_summary_redundancy(stroke_notes_subset)"
   ]
  },
  {
   "cell_type": "code",
   "execution_count": 488,
   "metadata": {},
   "outputs": [
    {
     "data": {
      "text/html": [
       "<div>\n",
       "<style scoped>\n",
       "    .dataframe tbody tr th:only-of-type {\n",
       "        vertical-align: middle;\n",
       "    }\n",
       "\n",
       "    .dataframe tbody tr th {\n",
       "        vertical-align: top;\n",
       "    }\n",
       "\n",
       "    .dataframe thead th {\n",
       "        text-align: right;\n",
       "    }\n",
       "</style>\n",
       "<table border=\"1\" class=\"dataframe\">\n",
       "  <thead>\n",
       "    <tr style=\"text-align: right;\">\n",
       "      <th></th>\n",
       "      <th>row_id</th>\n",
       "      <th>subject_id</th>\n",
       "      <th>hadm_id</th>\n",
       "      <th>chartdate</th>\n",
       "      <th>charttime</th>\n",
       "      <th>storetime</th>\n",
       "      <th>category</th>\n",
       "      <th>description</th>\n",
       "      <th>cgid</th>\n",
       "      <th>iserror</th>\n",
       "      <th>text</th>\n",
       "      <th>row_id.1</th>\n",
       "      <th>subject_id.1</th>\n",
       "      <th>hadm_id.1</th>\n",
       "      <th>seq_num</th>\n",
       "      <th>icd9_code</th>\n",
       "    </tr>\n",
       "  </thead>\n",
       "  <tbody>\n",
       "    <tr>\n",
       "      <th>6306</th>\n",
       "      <td>754</td>\n",
       "      <td>62884</td>\n",
       "      <td>112885</td>\n",
       "      <td>2100-08-12 00:00:00</td>\n",
       "      <td>NaN</td>\n",
       "      <td>NaN</td>\n",
       "      <td>Discharge summary</td>\n",
       "      <td>Report</td>\n",
       "      <td>NaN</td>\n",
       "      <td>NaN</td>\n",
       "      <td>Admission Date:  [**2100-7-16**]              ...</td>\n",
       "      <td>484345</td>\n",
       "      <td>62884</td>\n",
       "      <td>112885</td>\n",
       "      <td>1</td>\n",
       "      <td>43411</td>\n",
       "    </tr>\n",
       "    <tr>\n",
       "      <th>6307</th>\n",
       "      <td>493</td>\n",
       "      <td>24650</td>\n",
       "      <td>134784</td>\n",
       "      <td>2149-11-20 00:00:00</td>\n",
       "      <td>NaN</td>\n",
       "      <td>NaN</td>\n",
       "      <td>Discharge summary</td>\n",
       "      <td>Report</td>\n",
       "      <td>NaN</td>\n",
       "      <td>NaN</td>\n",
       "      <td>Admission Date:  [**2149-11-5**]              ...</td>\n",
       "      <td>275122</td>\n",
       "      <td>24650</td>\n",
       "      <td>134784</td>\n",
       "      <td>1</td>\n",
       "      <td>43411</td>\n",
       "    </tr>\n",
       "    <tr>\n",
       "      <th>6308</th>\n",
       "      <td>262</td>\n",
       "      <td>53876</td>\n",
       "      <td>180979</td>\n",
       "      <td>2164-03-27 00:00:00</td>\n",
       "      <td>NaN</td>\n",
       "      <td>NaN</td>\n",
       "      <td>Discharge summary</td>\n",
       "      <td>Report</td>\n",
       "      <td>NaN</td>\n",
       "      <td>NaN</td>\n",
       "      <td>Admission Date:  [**2164-3-19**]              ...</td>\n",
       "      <td>442902</td>\n",
       "      <td>53876</td>\n",
       "      <td>180979</td>\n",
       "      <td>1</td>\n",
       "      <td>43411</td>\n",
       "    </tr>\n",
       "    <tr>\n",
       "      <th>6309</th>\n",
       "      <td>602</td>\n",
       "      <td>25433</td>\n",
       "      <td>144885</td>\n",
       "      <td>2186-01-04 00:00:00</td>\n",
       "      <td>NaN</td>\n",
       "      <td>NaN</td>\n",
       "      <td>Discharge summary</td>\n",
       "      <td>Report</td>\n",
       "      <td>NaN</td>\n",
       "      <td>NaN</td>\n",
       "      <td>Admission Date:  [**2185-12-22**]       Discha...</td>\n",
       "      <td>285019</td>\n",
       "      <td>25433</td>\n",
       "      <td>144885</td>\n",
       "      <td>1</td>\n",
       "      <td>43411</td>\n",
       "    </tr>\n",
       "    <tr>\n",
       "      <th>6310</th>\n",
       "      <td>657</td>\n",
       "      <td>26203</td>\n",
       "      <td>186592</td>\n",
       "      <td>2152-12-02 00:00:00</td>\n",
       "      <td>NaN</td>\n",
       "      <td>NaN</td>\n",
       "      <td>Discharge summary</td>\n",
       "      <td>Report</td>\n",
       "      <td>NaN</td>\n",
       "      <td>NaN</td>\n",
       "      <td>Admission Date:  [**2152-11-25**]             ...</td>\n",
       "      <td>293426</td>\n",
       "      <td>26203</td>\n",
       "      <td>186592</td>\n",
       "      <td>1</td>\n",
       "      <td>43411</td>\n",
       "    </tr>\n",
       "    <tr>\n",
       "      <th>...</th>\n",
       "      <td>...</td>\n",
       "      <td>...</td>\n",
       "      <td>...</td>\n",
       "      <td>...</td>\n",
       "      <td>...</td>\n",
       "      <td>...</td>\n",
       "      <td>...</td>\n",
       "      <td>...</td>\n",
       "      <td>...</td>\n",
       "      <td>...</td>\n",
       "      <td>...</td>\n",
       "      <td>...</td>\n",
       "      <td>...</td>\n",
       "      <td>...</td>\n",
       "      <td>...</td>\n",
       "      <td>...</td>\n",
       "    </tr>\n",
       "    <tr>\n",
       "      <th>6668</th>\n",
       "      <td>58693</td>\n",
       "      <td>29666</td>\n",
       "      <td>105336</td>\n",
       "      <td>2106-04-06 00:00:00</td>\n",
       "      <td>NaN</td>\n",
       "      <td>NaN</td>\n",
       "      <td>Discharge summary</td>\n",
       "      <td>Addendum</td>\n",
       "      <td>NaN</td>\n",
       "      <td>NaN</td>\n",
       "      <td>Name:  [**Known lastname **],[**Known firstnam...</td>\n",
       "      <td>339754</td>\n",
       "      <td>29666</td>\n",
       "      <td>105336</td>\n",
       "      <td>1</td>\n",
       "      <td>43411</td>\n",
       "    </tr>\n",
       "    <tr>\n",
       "      <th>6669</th>\n",
       "      <td>59041</td>\n",
       "      <td>86516</td>\n",
       "      <td>193789</td>\n",
       "      <td>2148-11-26 00:00:00</td>\n",
       "      <td>NaN</td>\n",
       "      <td>NaN</td>\n",
       "      <td>Discharge summary</td>\n",
       "      <td>Addendum</td>\n",
       "      <td>NaN</td>\n",
       "      <td>NaN</td>\n",
       "      <td>Name:  [**Known lastname 339**],[**Known first...</td>\n",
       "      <td>590278</td>\n",
       "      <td>86516</td>\n",
       "      <td>193789</td>\n",
       "      <td>1</td>\n",
       "      <td>43411</td>\n",
       "    </tr>\n",
       "    <tr>\n",
       "      <th>6670</th>\n",
       "      <td>59375</td>\n",
       "      <td>30882</td>\n",
       "      <td>132521</td>\n",
       "      <td>2105-09-18 00:00:00</td>\n",
       "      <td>NaN</td>\n",
       "      <td>NaN</td>\n",
       "      <td>Discharge summary</td>\n",
       "      <td>Addendum</td>\n",
       "      <td>NaN</td>\n",
       "      <td>NaN</td>\n",
       "      <td>Name:  [**Known lastname 17498**],[**Known fir...</td>\n",
       "      <td>355278</td>\n",
       "      <td>30882</td>\n",
       "      <td>132521</td>\n",
       "      <td>1</td>\n",
       "      <td>43411</td>\n",
       "    </tr>\n",
       "    <tr>\n",
       "      <th>6671</th>\n",
       "      <td>59319</td>\n",
       "      <td>72017</td>\n",
       "      <td>129643</td>\n",
       "      <td>2155-08-25 00:00:00</td>\n",
       "      <td>NaN</td>\n",
       "      <td>NaN</td>\n",
       "      <td>Discharge summary</td>\n",
       "      <td>Addendum</td>\n",
       "      <td>NaN</td>\n",
       "      <td>NaN</td>\n",
       "      <td>Name:  [**Known lastname 4755**],[**Known firs...</td>\n",
       "      <td>525982</td>\n",
       "      <td>72017</td>\n",
       "      <td>129643</td>\n",
       "      <td>1</td>\n",
       "      <td>43411</td>\n",
       "    </tr>\n",
       "    <tr>\n",
       "      <th>6672</th>\n",
       "      <td>59320</td>\n",
       "      <td>72017</td>\n",
       "      <td>129643</td>\n",
       "      <td>2155-08-25 00:00:00</td>\n",
       "      <td>NaN</td>\n",
       "      <td>NaN</td>\n",
       "      <td>Discharge summary</td>\n",
       "      <td>Addendum</td>\n",
       "      <td>NaN</td>\n",
       "      <td>NaN</td>\n",
       "      <td>Name:  [**Known lastname 4755**],[**Known firs...</td>\n",
       "      <td>525982</td>\n",
       "      <td>72017</td>\n",
       "      <td>129643</td>\n",
       "      <td>1</td>\n",
       "      <td>43411</td>\n",
       "    </tr>\n",
       "  </tbody>\n",
       "</table>\n",
       "<p>367 rows × 16 columns</p>\n",
       "</div>"
      ],
      "text/plain": [
       "      row_id  subject_id  hadm_id            chartdate charttime storetime  \\\n",
       "6306     754       62884   112885  2100-08-12 00:00:00       NaN       NaN   \n",
       "6307     493       24650   134784  2149-11-20 00:00:00       NaN       NaN   \n",
       "6308     262       53876   180979  2164-03-27 00:00:00       NaN       NaN   \n",
       "6309     602       25433   144885  2186-01-04 00:00:00       NaN       NaN   \n",
       "6310     657       26203   186592  2152-12-02 00:00:00       NaN       NaN   \n",
       "...      ...         ...      ...                  ...       ...       ...   \n",
       "6668   58693       29666   105336  2106-04-06 00:00:00       NaN       NaN   \n",
       "6669   59041       86516   193789  2148-11-26 00:00:00       NaN       NaN   \n",
       "6670   59375       30882   132521  2105-09-18 00:00:00       NaN       NaN   \n",
       "6671   59319       72017   129643  2155-08-25 00:00:00       NaN       NaN   \n",
       "6672   59320       72017   129643  2155-08-25 00:00:00       NaN       NaN   \n",
       "\n",
       "               category description  cgid  iserror  \\\n",
       "6306  Discharge summary      Report   NaN      NaN   \n",
       "6307  Discharge summary      Report   NaN      NaN   \n",
       "6308  Discharge summary      Report   NaN      NaN   \n",
       "6309  Discharge summary      Report   NaN      NaN   \n",
       "6310  Discharge summary      Report   NaN      NaN   \n",
       "...                 ...         ...   ...      ...   \n",
       "6668  Discharge summary    Addendum   NaN      NaN   \n",
       "6669  Discharge summary    Addendum   NaN      NaN   \n",
       "6670  Discharge summary    Addendum   NaN      NaN   \n",
       "6671  Discharge summary    Addendum   NaN      NaN   \n",
       "6672  Discharge summary    Addendum   NaN      NaN   \n",
       "\n",
       "                                                   text  row_id.1  \\\n",
       "6306  Admission Date:  [**2100-7-16**]              ...    484345   \n",
       "6307  Admission Date:  [**2149-11-5**]              ...    275122   \n",
       "6308  Admission Date:  [**2164-3-19**]              ...    442902   \n",
       "6309  Admission Date:  [**2185-12-22**]       Discha...    285019   \n",
       "6310  Admission Date:  [**2152-11-25**]             ...    293426   \n",
       "...                                                 ...       ...   \n",
       "6668  Name:  [**Known lastname **],[**Known firstnam...    339754   \n",
       "6669  Name:  [**Known lastname 339**],[**Known first...    590278   \n",
       "6670  Name:  [**Known lastname 17498**],[**Known fir...    355278   \n",
       "6671  Name:  [**Known lastname 4755**],[**Known firs...    525982   \n",
       "6672  Name:  [**Known lastname 4755**],[**Known firs...    525982   \n",
       "\n",
       "      subject_id.1  hadm_id.1  seq_num  icd9_code  \n",
       "6306         62884     112885        1      43411  \n",
       "6307         24650     134784        1      43411  \n",
       "6308         53876     180979        1      43411  \n",
       "6309         25433     144885        1      43411  \n",
       "6310         26203     186592        1      43411  \n",
       "...            ...        ...      ...        ...  \n",
       "6668         29666     105336        1      43411  \n",
       "6669         86516     193789        1      43411  \n",
       "6670         30882     132521        1      43411  \n",
       "6671         72017     129643        1      43411  \n",
       "6672         72017     129643        1      43411  \n",
       "\n",
       "[367 rows x 16 columns]"
      ]
     },
     "execution_count": 488,
     "metadata": {},
     "output_type": "execute_result"
    }
   ],
   "source": [
    "stroke_notes[stroke_notes.category == 'Discharge summary']"
   ]
  },
  {
   "cell_type": "code",
   "execution_count": null,
   "metadata": {},
   "outputs": [],
   "source": []
  },
  {
   "cell_type": "code",
   "execution_count": null,
   "metadata": {},
   "outputs": [],
   "source": []
  },
  {
   "cell_type": "code",
   "execution_count": null,
   "metadata": {},
   "outputs": [],
   "source": []
  },
  {
   "cell_type": "code",
   "execution_count": null,
   "metadata": {},
   "outputs": [],
   "source": []
  },
  {
   "cell_type": "code",
   "execution_count": null,
   "metadata": {},
   "outputs": [],
   "source": []
  },
  {
   "cell_type": "code",
   "execution_count": null,
   "metadata": {},
   "outputs": [],
   "source": []
  },
  {
   "cell_type": "code",
   "execution_count": 38,
   "metadata": {},
   "outputs": [
    {
     "name": "stdout",
     "output_type": "stream",
     "text": [
      "Token level / global note redundancy with concurrent notes:\n"
     ]
    },
    {
     "ename": "NameError",
     "evalue": "name 'results_df' is not defined",
     "output_type": "error",
     "traceback": [
      "\u001b[0;31m---------------------------------------------------------------------------\u001b[0m",
      "\u001b[0;31mNameError\u001b[0m                                 Traceback (most recent call last)",
      "\u001b[0;32m<ipython-input-38-e6218271b972>\u001b[0m in \u001b[0;36m<module>\u001b[0;34m\u001b[0m\n\u001b[1;32m      1\u001b[0m \u001b[0mprint\u001b[0m\u001b[0;34m(\u001b[0m\u001b[0;34m'Token level / global note redundancy with concurrent notes:'\u001b[0m\u001b[0;34m)\u001b[0m\u001b[0;34m\u001b[0m\u001b[0;34m\u001b[0m\u001b[0m\n\u001b[0;32m----> 2\u001b[0;31m \u001b[0mprint\u001b[0m\u001b[0;34m(\u001b[0m\u001b[0;34mf'Overall Average Internote type redundnacy:{results_df.avg_diff_ratio.sum() / results_df.avg_diff_ratio.shape[0]}'\u001b[0m\u001b[0;34m)\u001b[0m\u001b[0;34m\u001b[0m\u001b[0;34m\u001b[0m\u001b[0m\n\u001b[0m",
      "\u001b[0;31mNameError\u001b[0m: name 'results_df' is not defined"
     ]
    }
   ],
   "source": [
    "print('Token level / global note redundancy with concurrent notes:')\n",
    "print(f'Overall Average Internote type redundnacy:{results_df.avg_diff_ratio.sum() / results_df.avg_diff_ratio.shape[0]}')"
   ]
  },
  {
   "cell_type": "markdown",
   "metadata": {},
   "source": [
    "### 43411 Note Analysis"
   ]
  },
  {
   "cell_type": "code",
   "execution_count": 6,
   "metadata": {},
   "outputs": [],
   "source": [
    "stroke_notes = pd.read_csv('../data/43411_notes.csv')"
   ]
  },
  {
   "cell_type": "code",
   "execution_count": 17,
   "metadata": {},
   "outputs": [],
   "source": [
    "stroke_care_notes_df, stroke_discharge_df = split_notes(stroke_notes)"
   ]
  },
  {
   "cell_type": "code",
   "execution_count": 18,
   "metadata": {},
   "outputs": [],
   "source": [
    "stroke_notes_subset = stroke_notes[stroke_notes.hadm_id.isin(stroke_notes.hadm_id.unique()[0:10])]"
   ]
  },
  {
   "cell_type": "code",
   "execution_count": null,
   "metadata": {},
   "outputs": [],
   "source": [
    "results_df = compute_diff(stroke_notes)"
   ]
  },
  {
   "cell_type": "code",
   "execution_count": 3,
   "metadata": {},
   "outputs": [],
   "source": [
    "results_df = pd.read_pickle('temp_results.pickle')"
   ]
  },
  {
   "cell_type": "code",
   "execution_count": 79,
   "metadata": {},
   "outputs": [
    {
     "data": {
      "text/html": [
       "<div>\n",
       "<style scoped>\n",
       "    .dataframe tbody tr th:only-of-type {\n",
       "        vertical-align: middle;\n",
       "    }\n",
       "\n",
       "    .dataframe tbody tr th {\n",
       "        vertical-align: top;\n",
       "    }\n",
       "\n",
       "    .dataframe thead th {\n",
       "        text-align: right;\n",
       "    }\n",
       "</style>\n",
       "<table border=\"1\" class=\"dataframe\">\n",
       "  <thead>\n",
       "    <tr style=\"text-align: right;\">\n",
       "      <th></th>\n",
       "      <th>row_id</th>\n",
       "      <th>subject_id</th>\n",
       "      <th>hadm_id</th>\n",
       "      <th>chartdate</th>\n",
       "      <th>charttime</th>\n",
       "      <th>storetime</th>\n",
       "      <th>category</th>\n",
       "      <th>description</th>\n",
       "      <th>cgid</th>\n",
       "      <th>iserror</th>\n",
       "      <th>text</th>\n",
       "      <th>row_id.1</th>\n",
       "      <th>subject_id.1</th>\n",
       "      <th>hadm_id.1</th>\n",
       "      <th>seq_num</th>\n",
       "      <th>icd9_code</th>\n",
       "    </tr>\n",
       "  </thead>\n",
       "  <tbody>\n",
       "    <tr>\n",
       "      <th>7466</th>\n",
       "      <td>238674</td>\n",
       "      <td>94135</td>\n",
       "      <td>100349</td>\n",
       "      <td>2114-07-10 00:00:00</td>\n",
       "      <td>NaN</td>\n",
       "      <td>NaN</td>\n",
       "      <td>ECG</td>\n",
       "      <td>Report</td>\n",
       "      <td>NaN</td>\n",
       "      <td>NaN</td>\n",
       "      <td>Sinus bradycardia.  Since the previous tracing...</td>\n",
       "      <td>623980</td>\n",
       "      <td>94135</td>\n",
       "      <td>100349</td>\n",
       "      <td>1</td>\n",
       "      <td>43411</td>\n",
       "    </tr>\n",
       "    <tr>\n",
       "      <th>7467</th>\n",
       "      <td>238675</td>\n",
       "      <td>94135</td>\n",
       "      <td>100349</td>\n",
       "      <td>2114-07-04 00:00:00</td>\n",
       "      <td>NaN</td>\n",
       "      <td>NaN</td>\n",
       "      <td>ECG</td>\n",
       "      <td>Report</td>\n",
       "      <td>NaN</td>\n",
       "      <td>NaN</td>\n",
       "      <td>Sinus bradycardia with sinus arrhythmia. Other...</td>\n",
       "      <td>623980</td>\n",
       "      <td>94135</td>\n",
       "      <td>100349</td>\n",
       "      <td>1</td>\n",
       "      <td>43411</td>\n",
       "    </tr>\n",
       "  </tbody>\n",
       "</table>\n",
       "</div>"
      ],
      "text/plain": [
       "      row_id  subject_id  hadm_id            chartdate charttime storetime  \\\n",
       "7466  238674       94135   100349  2114-07-10 00:00:00       NaN       NaN   \n",
       "7467  238675       94135   100349  2114-07-04 00:00:00       NaN       NaN   \n",
       "\n",
       "     category description  cgid  iserror  \\\n",
       "7466      ECG      Report   NaN      NaN   \n",
       "7467      ECG      Report   NaN      NaN   \n",
       "\n",
       "                                                   text  row_id.1  \\\n",
       "7466  Sinus bradycardia.  Since the previous tracing...    623980   \n",
       "7467  Sinus bradycardia with sinus arrhythmia. Other...    623980   \n",
       "\n",
       "      subject_id.1  hadm_id.1  seq_num  icd9_code  \n",
       "7466         94135     100349        1      43411  \n",
       "7467         94135     100349        1      43411  "
      ]
     },
     "execution_count": 79,
     "metadata": {},
     "output_type": "execute_result"
    }
   ],
   "source": [
    "stroke_notes[(stroke_notes.hadm_id == 100349) & (stroke_notes.category == 'ECG')]"
   ]
  },
  {
   "cell_type": "code",
   "execution_count": 89,
   "metadata": {},
   "outputs": [
    {
     "data": {
      "text/plain": [
       "Score(precision=0.42266940560951455, recall=0.38509458229752874, fmeasure=0.397148908439231)"
      ]
     },
     "execution_count": 89,
     "metadata": {},
     "output_type": "execute_result"
    }
   ],
   "source": [
    "results_df.iloc[1].rougeL['rougeL'].mid"
   ]
  },
  {
   "cell_type": "code",
   "execution_count": 95,
   "metadata": {},
   "outputs": [
    {
     "data": {
      "text/html": [
       "<div>\n",
       "<style scoped>\n",
       "    .dataframe tbody tr th:only-of-type {\n",
       "        vertical-align: middle;\n",
       "    }\n",
       "\n",
       "    .dataframe tbody tr th {\n",
       "        vertical-align: top;\n",
       "    }\n",
       "\n",
       "    .dataframe thead th {\n",
       "        text-align: right;\n",
       "    }\n",
       "</style>\n",
       "<table border=\"1\" class=\"dataframe\">\n",
       "  <thead>\n",
       "    <tr style=\"text-align: right;\">\n",
       "      <th></th>\n",
       "      <th>rougeL</th>\n",
       "      <th>diff_ratios</th>\n",
       "      <th>max_ratios</th>\n",
       "      <th>min_ratios</th>\n",
       "      <th>redundant_toks</th>\n",
       "      <th>total_tokens</th>\n",
       "      <th>avg_diff_ratio</th>\n",
       "      <th>avg_txt_len</th>\n",
       "      <th>hadm_id</th>\n",
       "      <th>category</th>\n",
       "      <th>description</th>\n",
       "      <th>rougeL_rec</th>\n",
       "      <th>rougeL_prec</th>\n",
       "    </tr>\n",
       "  </thead>\n",
       "  <tbody>\n",
       "    <tr>\n",
       "      <th>0</th>\n",
       "      <td>{'rougeL': ((0.3076923076923077, 0.28571428571...</td>\n",
       "      <td>[0.43452380952380953]</td>\n",
       "      <td>1.0</td>\n",
       "      <td>0.0</td>\n",
       "      <td>4.0</td>\n",
       "      <td>15</td>\n",
       "      <td>0.434524</td>\n",
       "      <td>102.000000</td>\n",
       "      <td>100349</td>\n",
       "      <td>ECG</td>\n",
       "      <td>Report</td>\n",
       "      <td>0.285714</td>\n",
       "      <td>0.307692</td>\n",
       "    </tr>\n",
       "    <tr>\n",
       "      <th>1</th>\n",
       "      <td>{'rougeL': ((0.3103448275862069, 0.30344827586...</td>\n",
       "      <td>[0.19021853192883126, 0.08999497234791352, 0.2...</td>\n",
       "      <td>1.0</td>\n",
       "      <td>0.0</td>\n",
       "      <td>109.0</td>\n",
       "      <td>359</td>\n",
       "      <td>0.192468</td>\n",
       "      <td>1010.000000</td>\n",
       "      <td>100349</td>\n",
       "      <td>Radiology</td>\n",
       "      <td>CHEST (PORTABLE AP)</td>\n",
       "      <td>0.385095</td>\n",
       "      <td>0.422669</td>\n",
       "    </tr>\n",
       "    <tr>\n",
       "      <th>2</th>\n",
       "      <td>{'rougeL': ((0.29992194969995634, 0.2885761183...</td>\n",
       "      <td>[0.21624302874302875, 0.06432178932178932, 0.0...</td>\n",
       "      <td>1.0</td>\n",
       "      <td>0.0</td>\n",
       "      <td>122.0</td>\n",
       "      <td>1172</td>\n",
       "      <td>0.133209</td>\n",
       "      <td>1809.166667</td>\n",
       "      <td>100349</td>\n",
       "      <td>Radiology</td>\n",
       "      <td>CT HEAD W/O CONTRAST</td>\n",
       "      <td>0.384382</td>\n",
       "      <td>0.560188</td>\n",
       "    </tr>\n",
       "    <tr>\n",
       "      <th>3</th>\n",
       "      <td>{'rougeL': ((0.20408163265306123, 0.5882352941...</td>\n",
       "      <td>[0.23611111111111113]</td>\n",
       "      <td>1.0</td>\n",
       "      <td>0.0</td>\n",
       "      <td>6.0</td>\n",
       "      <td>22</td>\n",
       "      <td>0.236111</td>\n",
       "      <td>222.000000</td>\n",
       "      <td>100662</td>\n",
       "      <td>ECG</td>\n",
       "      <td>Report</td>\n",
       "      <td>0.588235</td>\n",
       "      <td>0.204082</td>\n",
       "    </tr>\n",
       "    <tr>\n",
       "      <th>4</th>\n",
       "      <td>{'rougeL': ((0.10173527879103708, 0.1150165016...</td>\n",
       "      <td>[0.052083333333333336, 0.041666666666666664, 0...</td>\n",
       "      <td>1.0</td>\n",
       "      <td>0.0</td>\n",
       "      <td>9.0</td>\n",
       "      <td>609</td>\n",
       "      <td>0.061439</td>\n",
       "      <td>906.000000</td>\n",
       "      <td>100662</td>\n",
       "      <td>Nursing/other</td>\n",
       "      <td>Report</td>\n",
       "      <td>0.142737</td>\n",
       "      <td>0.133319</td>\n",
       "    </tr>\n",
       "    <tr>\n",
       "      <th>...</th>\n",
       "      <td>...</td>\n",
       "      <td>...</td>\n",
       "      <td>...</td>\n",
       "      <td>...</td>\n",
       "      <td>...</td>\n",
       "      <td>...</td>\n",
       "      <td>...</td>\n",
       "      <td>...</td>\n",
       "      <td>...</td>\n",
       "      <td>...</td>\n",
       "      <td>...</td>\n",
       "      <td>...</td>\n",
       "      <td>...</td>\n",
       "    </tr>\n",
       "    <tr>\n",
       "      <th>1130</th>\n",
       "      <td>{'rougeL': ((0.43902439024390244, 0.3170731707...</td>\n",
       "      <td>[0.8125, 0.23214285714285715, 0.14285714285714...</td>\n",
       "      <td>1.0</td>\n",
       "      <td>0.0</td>\n",
       "      <td>21.0</td>\n",
       "      <td>79</td>\n",
       "      <td>0.395833</td>\n",
       "      <td>182.500000</td>\n",
       "      <td>199382</td>\n",
       "      <td>ECG</td>\n",
       "      <td>Report</td>\n",
       "      <td>0.620529</td>\n",
       "      <td>0.558781</td>\n",
       "    </tr>\n",
       "    <tr>\n",
       "      <th>1131</th>\n",
       "      <td>{'rougeL': ((0.5216049382716049, 0.36034115138...</td>\n",
       "      <td>[0.14557819934011518]</td>\n",
       "      <td>1.0</td>\n",
       "      <td>0.0</td>\n",
       "      <td>54.0</td>\n",
       "      <td>457</td>\n",
       "      <td>0.145578</td>\n",
       "      <td>2605.500000</td>\n",
       "      <td>199382</td>\n",
       "      <td>Echo</td>\n",
       "      <td>Report</td>\n",
       "      <td>0.360341</td>\n",
       "      <td>0.521605</td>\n",
       "    </tr>\n",
       "    <tr>\n",
       "      <th>1132</th>\n",
       "      <td>{'rougeL': ((0.11400334927566057, 0.1001966695...</td>\n",
       "      <td>[0.06666666666666667, 0.10743801652892562, 0.1...</td>\n",
       "      <td>1.0</td>\n",
       "      <td>0.0</td>\n",
       "      <td>110.0</td>\n",
       "      <td>4449</td>\n",
       "      <td>0.092307</td>\n",
       "      <td>706.729730</td>\n",
       "      <td>199382</td>\n",
       "      <td>Nursing/other</td>\n",
       "      <td>Report</td>\n",
       "      <td>0.126103</td>\n",
       "      <td>0.139933</td>\n",
       "    </tr>\n",
       "    <tr>\n",
       "      <th>1133</th>\n",
       "      <td>{'rougeL': ((0.18218623481781376, 0.2834008097...</td>\n",
       "      <td>[0.13262222222222222, 0.11997617469486797]</td>\n",
       "      <td>1.0</td>\n",
       "      <td>0.0</td>\n",
       "      <td>50.0</td>\n",
       "      <td>333</td>\n",
       "      <td>0.126299</td>\n",
       "      <td>1430.666667</td>\n",
       "      <td>199382</td>\n",
       "      <td>Radiology</td>\n",
       "      <td>BY DIFFERENT PHYSICIAN</td>\n",
       "      <td>0.368973</td>\n",
       "      <td>0.276278</td>\n",
       "    </tr>\n",
       "    <tr>\n",
       "      <th>1134</th>\n",
       "      <td>{'rougeL': ((0.8994082840236687, 0.26206896551...</td>\n",
       "      <td>[0.2552284558596797]</td>\n",
       "      <td>1.0</td>\n",
       "      <td>0.0</td>\n",
       "      <td>71.0</td>\n",
       "      <td>547</td>\n",
       "      <td>0.255228</td>\n",
       "      <td>2844.000000</td>\n",
       "      <td>199669</td>\n",
       "      <td>Radiology</td>\n",
       "      <td>MR HEAD W &amp; W/O CONTRAST</td>\n",
       "      <td>0.262069</td>\n",
       "      <td>0.899408</td>\n",
       "    </tr>\n",
       "  </tbody>\n",
       "</table>\n",
       "<p>1135 rows × 13 columns</p>\n",
       "</div>"
      ],
      "text/plain": [
       "                                                 rougeL  \\\n",
       "0     {'rougeL': ((0.3076923076923077, 0.28571428571...   \n",
       "1     {'rougeL': ((0.3103448275862069, 0.30344827586...   \n",
       "2     {'rougeL': ((0.29992194969995634, 0.2885761183...   \n",
       "3     {'rougeL': ((0.20408163265306123, 0.5882352941...   \n",
       "4     {'rougeL': ((0.10173527879103708, 0.1150165016...   \n",
       "...                                                 ...   \n",
       "1130  {'rougeL': ((0.43902439024390244, 0.3170731707...   \n",
       "1131  {'rougeL': ((0.5216049382716049, 0.36034115138...   \n",
       "1132  {'rougeL': ((0.11400334927566057, 0.1001966695...   \n",
       "1133  {'rougeL': ((0.18218623481781376, 0.2834008097...   \n",
       "1134  {'rougeL': ((0.8994082840236687, 0.26206896551...   \n",
       "\n",
       "                                            diff_ratios  max_ratios  \\\n",
       "0                                 [0.43452380952380953]         1.0   \n",
       "1     [0.19021853192883126, 0.08999497234791352, 0.2...         1.0   \n",
       "2     [0.21624302874302875, 0.06432178932178932, 0.0...         1.0   \n",
       "3                                 [0.23611111111111113]         1.0   \n",
       "4     [0.052083333333333336, 0.041666666666666664, 0...         1.0   \n",
       "...                                                 ...         ...   \n",
       "1130  [0.8125, 0.23214285714285715, 0.14285714285714...         1.0   \n",
       "1131                              [0.14557819934011518]         1.0   \n",
       "1132  [0.06666666666666667, 0.10743801652892562, 0.1...         1.0   \n",
       "1133         [0.13262222222222222, 0.11997617469486797]         1.0   \n",
       "1134                               [0.2552284558596797]         1.0   \n",
       "\n",
       "      min_ratios  redundant_toks  total_tokens  avg_diff_ratio  avg_txt_len  \\\n",
       "0            0.0             4.0            15        0.434524   102.000000   \n",
       "1            0.0           109.0           359        0.192468  1010.000000   \n",
       "2            0.0           122.0          1172        0.133209  1809.166667   \n",
       "3            0.0             6.0            22        0.236111   222.000000   \n",
       "4            0.0             9.0           609        0.061439   906.000000   \n",
       "...          ...             ...           ...             ...          ...   \n",
       "1130         0.0            21.0            79        0.395833   182.500000   \n",
       "1131         0.0            54.0           457        0.145578  2605.500000   \n",
       "1132         0.0           110.0          4449        0.092307   706.729730   \n",
       "1133         0.0            50.0           333        0.126299  1430.666667   \n",
       "1134         0.0            71.0           547        0.255228  2844.000000   \n",
       "\n",
       "      hadm_id       category               description  rougeL_rec  \\\n",
       "0      100349            ECG                    Report    0.285714   \n",
       "1      100349      Radiology       CHEST (PORTABLE AP)    0.385095   \n",
       "2      100349      Radiology      CT HEAD W/O CONTRAST    0.384382   \n",
       "3      100662            ECG                    Report    0.588235   \n",
       "4      100662  Nursing/other                    Report    0.142737   \n",
       "...       ...            ...                       ...         ...   \n",
       "1130   199382            ECG                    Report    0.620529   \n",
       "1131   199382           Echo                    Report    0.360341   \n",
       "1132   199382  Nursing/other                    Report    0.126103   \n",
       "1133   199382      Radiology    BY DIFFERENT PHYSICIAN    0.368973   \n",
       "1134   199669      Radiology  MR HEAD W & W/O CONTRAST    0.262069   \n",
       "\n",
       "      rougeL_prec  \n",
       "0        0.307692  \n",
       "1        0.422669  \n",
       "2        0.560188  \n",
       "3        0.204082  \n",
       "4        0.133319  \n",
       "...           ...  \n",
       "1130     0.558781  \n",
       "1131     0.521605  \n",
       "1132     0.139933  \n",
       "1133     0.276278  \n",
       "1134     0.899408  \n",
       "\n",
       "[1135 rows x 13 columns]"
      ]
     },
     "execution_count": 95,
     "metadata": {},
     "output_type": "execute_result"
    }
   ],
   "source": [
    "results_df"
   ]
  },
  {
   "cell_type": "code",
   "execution_count": 10,
   "metadata": {},
   "outputs": [],
   "source": [
    "comp_metrics = results_df.loc[:, ['hadm_id', 'category', 'description', 'avg_diff_ratio', 'rougeL_rec',  'rougeL_prec']]"
   ]
  },
  {
   "cell_type": "code",
   "execution_count": 11,
   "metadata": {},
   "outputs": [
    {
     "data": {
      "text/html": [
       "<div>\n",
       "<style scoped>\n",
       "    .dataframe tbody tr th:only-of-type {\n",
       "        vertical-align: middle;\n",
       "    }\n",
       "\n",
       "    .dataframe tbody tr th {\n",
       "        vertical-align: top;\n",
       "    }\n",
       "\n",
       "    .dataframe thead th {\n",
       "        text-align: right;\n",
       "    }\n",
       "</style>\n",
       "<table border=\"1\" class=\"dataframe\">\n",
       "  <thead>\n",
       "    <tr style=\"text-align: right;\">\n",
       "      <th></th>\n",
       "      <th>hadm_id</th>\n",
       "      <th>category</th>\n",
       "      <th>description</th>\n",
       "      <th>avg_diff_ratio</th>\n",
       "      <th>rougeL_rec</th>\n",
       "      <th>rougeL_prec</th>\n",
       "    </tr>\n",
       "  </thead>\n",
       "  <tbody>\n",
       "    <tr>\n",
       "      <th>247</th>\n",
       "      <td>121824</td>\n",
       "      <td>Physician</td>\n",
       "      <td>Physician Resident Admission Note</td>\n",
       "      <td>0.853598</td>\n",
       "      <td>1.000000</td>\n",
       "      <td>0.769582</td>\n",
       "    </tr>\n",
       "    <tr>\n",
       "      <th>98</th>\n",
       "      <td>107913</td>\n",
       "      <td>Physician</td>\n",
       "      <td>Physician Surgical Admission Note</td>\n",
       "      <td>0.996592</td>\n",
       "      <td>1.000000</td>\n",
       "      <td>0.980357</td>\n",
       "    </tr>\n",
       "    <tr>\n",
       "      <th>860</th>\n",
       "      <td>180112</td>\n",
       "      <td>Nursing</td>\n",
       "      <td>Nursing Transfer Note</td>\n",
       "      <td>0.932375</td>\n",
       "      <td>1.000000</td>\n",
       "      <td>0.420744</td>\n",
       "    </tr>\n",
       "    <tr>\n",
       "      <th>450</th>\n",
       "      <td>140761</td>\n",
       "      <td>Physician</td>\n",
       "      <td>Physician Surgical Admission Note</td>\n",
       "      <td>0.999477</td>\n",
       "      <td>1.000000</td>\n",
       "      <td>0.996753</td>\n",
       "    </tr>\n",
       "    <tr>\n",
       "      <th>586</th>\n",
       "      <td>154473</td>\n",
       "      <td>General</td>\n",
       "      <td>Cardiology consult</td>\n",
       "      <td>0.904114</td>\n",
       "      <td>1.000000</td>\n",
       "      <td>0.949074</td>\n",
       "    </tr>\n",
       "    <tr>\n",
       "      <th>...</th>\n",
       "      <td>...</td>\n",
       "      <td>...</td>\n",
       "      <td>...</td>\n",
       "      <td>...</td>\n",
       "      <td>...</td>\n",
       "      <td>...</td>\n",
       "    </tr>\n",
       "    <tr>\n",
       "      <th>1079</th>\n",
       "      <td>195985</td>\n",
       "      <td>Nursing/other</td>\n",
       "      <td>Report</td>\n",
       "      <td>0.035890</td>\n",
       "      <td>0.073285</td>\n",
       "      <td>0.183257</td>\n",
       "    </tr>\n",
       "    <tr>\n",
       "      <th>889</th>\n",
       "      <td>182153</td>\n",
       "      <td>Nursing/other</td>\n",
       "      <td>Report</td>\n",
       "      <td>0.036163</td>\n",
       "      <td>0.066773</td>\n",
       "      <td>0.135223</td>\n",
       "    </tr>\n",
       "    <tr>\n",
       "      <th>799</th>\n",
       "      <td>171903</td>\n",
       "      <td>Nursing/other</td>\n",
       "      <td>Report</td>\n",
       "      <td>0.028571</td>\n",
       "      <td>0.060440</td>\n",
       "      <td>0.180328</td>\n",
       "    </tr>\n",
       "    <tr>\n",
       "      <th>122</th>\n",
       "      <td>109832</td>\n",
       "      <td>Nursing</td>\n",
       "      <td>Nursing Transfer Note</td>\n",
       "      <td>0.037115</td>\n",
       "      <td>0.049407</td>\n",
       "      <td>0.806452</td>\n",
       "    </tr>\n",
       "    <tr>\n",
       "      <th>224</th>\n",
       "      <td>120556</td>\n",
       "      <td>Nutrition</td>\n",
       "      <td>Clinical Nutrition Note</td>\n",
       "      <td>0.021978</td>\n",
       "      <td>0.020619</td>\n",
       "      <td>0.342857</td>\n",
       "    </tr>\n",
       "  </tbody>\n",
       "</table>\n",
       "<p>1135 rows × 6 columns</p>\n",
       "</div>"
      ],
      "text/plain": [
       "      hadm_id       category                        description  \\\n",
       "247    121824     Physician   Physician Resident Admission Note   \n",
       "98     107913     Physician   Physician Surgical Admission Note   \n",
       "860    180112        Nursing              Nursing Transfer Note   \n",
       "450    140761     Physician   Physician Surgical Admission Note   \n",
       "586    154473        General                 Cardiology consult   \n",
       "...       ...            ...                                ...   \n",
       "1079   195985  Nursing/other                             Report   \n",
       "889    182153  Nursing/other                             Report   \n",
       "799    171903  Nursing/other                             Report   \n",
       "122    109832        Nursing              Nursing Transfer Note   \n",
       "224    120556      Nutrition            Clinical Nutrition Note   \n",
       "\n",
       "      avg_diff_ratio  rougeL_rec  rougeL_prec  \n",
       "247         0.853598    1.000000     0.769582  \n",
       "98          0.996592    1.000000     0.980357  \n",
       "860         0.932375    1.000000     0.420744  \n",
       "450         0.999477    1.000000     0.996753  \n",
       "586         0.904114    1.000000     0.949074  \n",
       "...              ...         ...          ...  \n",
       "1079        0.035890    0.073285     0.183257  \n",
       "889         0.036163    0.066773     0.135223  \n",
       "799         0.028571    0.060440     0.180328  \n",
       "122         0.037115    0.049407     0.806452  \n",
       "224         0.021978    0.020619     0.342857  \n",
       "\n",
       "[1135 rows x 6 columns]"
      ]
     },
     "execution_count": 11,
     "metadata": {},
     "output_type": "execute_result"
    }
   ],
   "source": [
    "comp_metrics.sort_values('rougeL_rec', ascending=False)"
   ]
  },
  {
   "cell_type": "code",
   "execution_count": 22,
   "metadata": {},
   "outputs": [
    {
     "data": {
      "text/plain": [
       "array(['Nursing', 'Physician ', 'Rehab Services', 'Nutrition',\n",
       "       'Respiratory ', 'Social Work', 'General', 'Radiology',\n",
       "       'Nursing/other', 'Discharge summary', 'Echo', 'ECG', 'Pharmacy',\n",
       "       'Case Management '], dtype=object)"
      ]
     },
     "execution_count": 22,
     "metadata": {},
     "output_type": "execute_result"
    }
   ],
   "source": [
    "stroke_notes.category.unique()"
   ]
  },
  {
   "cell_type": "code",
   "execution_count": 30,
   "metadata": {},
   "outputs": [],
   "source": [
    "texts = stroke_notes[(stroke_notes.hadm_id == 121824) & (stroke_notes.category == 'Physician ') & (stroke_notes.description == 'Physician Resident Admission Note')].text.tolist()"
   ]
  },
  {
   "cell_type": "code",
   "execution_count": null,
   "metadata": {},
   "outputs": [],
   "source": []
  },
  {
   "cell_type": "code",
   "execution_count": null,
   "metadata": {},
   "outputs": [],
   "source": []
  },
  {
   "cell_type": "code",
   "execution_count": 45,
   "metadata": {},
   "outputs": [],
   "source": [
    "group_avgs = compute_avgs(results_df)"
   ]
  },
  {
   "cell_type": "code",
   "execution_count": 46,
   "metadata": {},
   "outputs": [],
   "source": [
    "group_avgs['redundant_ratio'] = group_avgs['redundant_toks'] / group_avgs.total_toks"
   ]
  },
  {
   "cell_type": "code",
   "execution_count": 47,
   "metadata": {},
   "outputs": [
    {
     "data": {
      "text/html": [
       "<div>\n",
       "<style scoped>\n",
       "    .dataframe tbody tr th:only-of-type {\n",
       "        vertical-align: middle;\n",
       "    }\n",
       "\n",
       "    .dataframe tbody tr th {\n",
       "        vertical-align: top;\n",
       "    }\n",
       "\n",
       "    .dataframe thead th {\n",
       "        text-align: right;\n",
       "    }\n",
       "</style>\n",
       "<table border=\"1\" class=\"dataframe\">\n",
       "  <thead>\n",
       "    <tr style=\"text-align: right;\">\n",
       "      <th></th>\n",
       "      <th>cat_desc</th>\n",
       "      <th>redundant_toks</th>\n",
       "      <th>total_toks</th>\n",
       "      <th>avg_txt_len</th>\n",
       "      <th>macro_avg</th>\n",
       "      <th>micro_avg</th>\n",
       "      <th>num_instances</th>\n",
       "      <th>redundant_ratio</th>\n",
       "    </tr>\n",
       "  </thead>\n",
       "  <tbody>\n",
       "    <tr>\n",
       "      <th>0</th>\n",
       "      <td>Physician :Physician Resident Admission Note</td>\n",
       "      <td>28842.0</td>\n",
       "      <td>33109</td>\n",
       "      <td>12525.819048</td>\n",
       "      <td>0.856518</td>\n",
       "      <td>0.809448</td>\n",
       "      <td>19</td>\n",
       "      <td>0.871123</td>\n",
       "    </tr>\n",
       "    <tr>\n",
       "      <th>1</th>\n",
       "      <td>Physician :Physician Surgical Progress Note</td>\n",
       "      <td>3181.0</td>\n",
       "      <td>4347</td>\n",
       "      <td>5587.000000</td>\n",
       "      <td>0.809635</td>\n",
       "      <td>0.764214</td>\n",
       "      <td>7</td>\n",
       "      <td>0.731769</td>\n",
       "    </tr>\n",
       "    <tr>\n",
       "      <th>2</th>\n",
       "      <td>Physician :Physician Attending Progress Note</td>\n",
       "      <td>14380.0</td>\n",
       "      <td>21148</td>\n",
       "      <td>5941.186706</td>\n",
       "      <td>0.532457</td>\n",
       "      <td>0.536417</td>\n",
       "      <td>31</td>\n",
       "      <td>0.679970</td>\n",
       "    </tr>\n",
       "    <tr>\n",
       "      <th>3</th>\n",
       "      <td>Physician :Intensivist Note</td>\n",
       "      <td>100737.0</td>\n",
       "      <td>159909</td>\n",
       "      <td>5958.690231</td>\n",
       "      <td>0.691003</td>\n",
       "      <td>0.639584</td>\n",
       "      <td>211</td>\n",
       "      <td>0.629965</td>\n",
       "    </tr>\n",
       "    <tr>\n",
       "      <th>4</th>\n",
       "      <td>Respiratory :Respiratory Care Shift Note</td>\n",
       "      <td>7263.0</td>\n",
       "      <td>12124</td>\n",
       "      <td>1230.545915</td>\n",
       "      <td>0.404803</td>\n",
       "      <td>0.443782</td>\n",
       "      <td>79</td>\n",
       "      <td>0.599060</td>\n",
       "    </tr>\n",
       "    <tr>\n",
       "      <th>5</th>\n",
       "      <td>Nursing:Nursing Transfer Note</td>\n",
       "      <td>30799.0</td>\n",
       "      <td>53260</td>\n",
       "      <td>2230.841242</td>\n",
       "      <td>0.598621</td>\n",
       "      <td>0.550831</td>\n",
       "      <td>159</td>\n",
       "      <td>0.578276</td>\n",
       "    </tr>\n",
       "    <tr>\n",
       "      <th>6</th>\n",
       "      <td>Physician :Physician Resident Progress Note</td>\n",
       "      <td>40675.0</td>\n",
       "      <td>73517</td>\n",
       "      <td>6890.886364</td>\n",
       "      <td>0.551072</td>\n",
       "      <td>0.467104</td>\n",
       "      <td>94</td>\n",
       "      <td>0.553273</td>\n",
       "    </tr>\n",
       "    <tr>\n",
       "      <th>7</th>\n",
       "      <td>Nursing:Nursing Progress Note</td>\n",
       "      <td>64447.0</td>\n",
       "      <td>136297</td>\n",
       "      <td>1291.039215</td>\n",
       "      <td>0.442277</td>\n",
       "      <td>0.419754</td>\n",
       "      <td>620</td>\n",
       "      <td>0.472842</td>\n",
       "    </tr>\n",
       "    <tr>\n",
       "      <th>8</th>\n",
       "      <td>Radiology:PORTABLE ABDOMEN</td>\n",
       "      <td>923.0</td>\n",
       "      <td>2992</td>\n",
       "      <td>1084.420513</td>\n",
       "      <td>0.274080</td>\n",
       "      <td>0.259291</td>\n",
       "      <td>23</td>\n",
       "      <td>0.308489</td>\n",
       "    </tr>\n",
       "    <tr>\n",
       "      <th>9</th>\n",
       "      <td>Radiology:CHEST PORT. LINE PLACEMENT</td>\n",
       "      <td>1237.0</td>\n",
       "      <td>4903</td>\n",
       "      <td>1240.143860</td>\n",
       "      <td>0.203611</td>\n",
       "      <td>0.219498</td>\n",
       "      <td>34</td>\n",
       "      <td>0.252295</td>\n",
       "    </tr>\n",
       "    <tr>\n",
       "      <th>10</th>\n",
       "      <td>Nutrition:Clinical Nutrition Note</td>\n",
       "      <td>1907.0</td>\n",
       "      <td>7893</td>\n",
       "      <td>2573.938462</td>\n",
       "      <td>0.135038</td>\n",
       "      <td>0.150969</td>\n",
       "      <td>23</td>\n",
       "      <td>0.241606</td>\n",
       "    </tr>\n",
       "    <tr>\n",
       "      <th>11</th>\n",
       "      <td>Radiology:CHEST (PA &amp; LAT)</td>\n",
       "      <td>356.0</td>\n",
       "      <td>1512</td>\n",
       "      <td>1208.121212</td>\n",
       "      <td>0.151395</td>\n",
       "      <td>0.147700</td>\n",
       "      <td>12</td>\n",
       "      <td>0.235450</td>\n",
       "    </tr>\n",
       "    <tr>\n",
       "      <th>12</th>\n",
       "      <td>Radiology:CHEST (PORTABLE AP)</td>\n",
       "      <td>26063.0</td>\n",
       "      <td>113265</td>\n",
       "      <td>1171.532585</td>\n",
       "      <td>0.185413</td>\n",
       "      <td>0.188866</td>\n",
       "      <td>837</td>\n",
       "      <td>0.230106</td>\n",
       "    </tr>\n",
       "    <tr>\n",
       "      <th>13</th>\n",
       "      <td>ECG:Report</td>\n",
       "      <td>3664.0</td>\n",
       "      <td>16233</td>\n",
       "      <td>223.494057</td>\n",
       "      <td>0.321421</td>\n",
       "      <td>0.319381</td>\n",
       "      <td>512</td>\n",
       "      <td>0.225713</td>\n",
       "    </tr>\n",
       "    <tr>\n",
       "      <th>14</th>\n",
       "      <td>Echo:Report</td>\n",
       "      <td>5402.0</td>\n",
       "      <td>26459</td>\n",
       "      <td>2524.776515</td>\n",
       "      <td>0.202008</td>\n",
       "      <td>0.197195</td>\n",
       "      <td>77</td>\n",
       "      <td>0.204165</td>\n",
       "    </tr>\n",
       "    <tr>\n",
       "      <th>15</th>\n",
       "      <td>Radiology:MR HEAD W/O CONTRAST</td>\n",
       "      <td>3433.0</td>\n",
       "      <td>18228</td>\n",
       "      <td>2300.468085</td>\n",
       "      <td>0.177119</td>\n",
       "      <td>0.178997</td>\n",
       "      <td>48</td>\n",
       "      <td>0.188337</td>\n",
       "    </tr>\n",
       "    <tr>\n",
       "      <th>16</th>\n",
       "      <td>Radiology:CT HEAD W/O CONTRAST</td>\n",
       "      <td>14838.0</td>\n",
       "      <td>90085</td>\n",
       "      <td>1918.349546</td>\n",
       "      <td>0.148847</td>\n",
       "      <td>0.149810</td>\n",
       "      <td>373</td>\n",
       "      <td>0.164711</td>\n",
       "    </tr>\n",
       "    <tr>\n",
       "      <th>17</th>\n",
       "      <td>Radiology:MR HEAD W &amp; W/O CONTRAST</td>\n",
       "      <td>494.0</td>\n",
       "      <td>3188</td>\n",
       "      <td>2696.861111</td>\n",
       "      <td>0.161859</td>\n",
       "      <td>0.158945</td>\n",
       "      <td>7</td>\n",
       "      <td>0.154956</td>\n",
       "    </tr>\n",
       "    <tr>\n",
       "      <th>18</th>\n",
       "      <td>Radiology:BY DIFFERENT PHYSICIAN</td>\n",
       "      <td>218.0</td>\n",
       "      <td>1542</td>\n",
       "      <td>1365.694444</td>\n",
       "      <td>0.138657</td>\n",
       "      <td>0.131175</td>\n",
       "      <td>9</td>\n",
       "      <td>0.141375</td>\n",
       "    </tr>\n",
       "    <tr>\n",
       "      <th>19</th>\n",
       "      <td>Nursing/other:Report</td>\n",
       "      <td>6334.0</td>\n",
       "      <td>298384</td>\n",
       "      <td>1011.361172</td>\n",
       "      <td>0.061062</td>\n",
       "      <td>0.068108</td>\n",
       "      <td>1889</td>\n",
       "      <td>0.021228</td>\n",
       "    </tr>\n",
       "  </tbody>\n",
       "</table>\n",
       "</div>"
      ],
      "text/plain": [
       "                                        cat_desc  redundant_toks  total_toks  \\\n",
       "0   Physician :Physician Resident Admission Note         28842.0       33109   \n",
       "1    Physician :Physician Surgical Progress Note          3181.0        4347   \n",
       "2   Physician :Physician Attending Progress Note         14380.0       21148   \n",
       "3                    Physician :Intensivist Note        100737.0      159909   \n",
       "4       Respiratory :Respiratory Care Shift Note          7263.0       12124   \n",
       "5                  Nursing:Nursing Transfer Note         30799.0       53260   \n",
       "6    Physician :Physician Resident Progress Note         40675.0       73517   \n",
       "7                  Nursing:Nursing Progress Note         64447.0      136297   \n",
       "8                     Radiology:PORTABLE ABDOMEN           923.0        2992   \n",
       "9           Radiology:CHEST PORT. LINE PLACEMENT          1237.0        4903   \n",
       "10             Nutrition:Clinical Nutrition Note          1907.0        7893   \n",
       "11                    Radiology:CHEST (PA & LAT)           356.0        1512   \n",
       "12                 Radiology:CHEST (PORTABLE AP)         26063.0      113265   \n",
       "13                                    ECG:Report          3664.0       16233   \n",
       "14                                   Echo:Report          5402.0       26459   \n",
       "15                Radiology:MR HEAD W/O CONTRAST          3433.0       18228   \n",
       "16                Radiology:CT HEAD W/O CONTRAST         14838.0       90085   \n",
       "17            Radiology:MR HEAD W & W/O CONTRAST           494.0        3188   \n",
       "18              Radiology:BY DIFFERENT PHYSICIAN           218.0        1542   \n",
       "19                          Nursing/other:Report          6334.0      298384   \n",
       "\n",
       "     avg_txt_len  macro_avg  micro_avg  num_instances  redundant_ratio  \n",
       "0   12525.819048   0.856518   0.809448             19         0.871123  \n",
       "1    5587.000000   0.809635   0.764214              7         0.731769  \n",
       "2    5941.186706   0.532457   0.536417             31         0.679970  \n",
       "3    5958.690231   0.691003   0.639584            211         0.629965  \n",
       "4    1230.545915   0.404803   0.443782             79         0.599060  \n",
       "5    2230.841242   0.598621   0.550831            159         0.578276  \n",
       "6    6890.886364   0.551072   0.467104             94         0.553273  \n",
       "7    1291.039215   0.442277   0.419754            620         0.472842  \n",
       "8    1084.420513   0.274080   0.259291             23         0.308489  \n",
       "9    1240.143860   0.203611   0.219498             34         0.252295  \n",
       "10   2573.938462   0.135038   0.150969             23         0.241606  \n",
       "11   1208.121212   0.151395   0.147700             12         0.235450  \n",
       "12   1171.532585   0.185413   0.188866            837         0.230106  \n",
       "13    223.494057   0.321421   0.319381            512         0.225713  \n",
       "14   2524.776515   0.202008   0.197195             77         0.204165  \n",
       "15   2300.468085   0.177119   0.178997             48         0.188337  \n",
       "16   1918.349546   0.148847   0.149810            373         0.164711  \n",
       "17   2696.861111   0.161859   0.158945              7         0.154956  \n",
       "18   1365.694444   0.138657   0.131175              9         0.141375  \n",
       "19   1011.361172   0.061062   0.068108           1889         0.021228  "
      ]
     },
     "execution_count": 47,
     "metadata": {},
     "output_type": "execute_result"
    }
   ],
   "source": [
    "group_avgs.sort_values('redundant_ratio', ascending=False).reset_index(drop=True).head(20)"
   ]
  },
  {
   "cell_type": "code",
   "execution_count": 91,
   "metadata": {},
   "outputs": [
    {
     "name": "stdout",
     "output_type": "stream",
     "text": [
      "2021-01-07 10:30:29,573: Removing /Users/tom/.cache/huggingface/metrics/rouge/default/default_experiment-1-0.arrow\n"
     ]
    }
   ],
   "source": [
    "pt = stroke_notes[stroke_notes.hadm_id == 195402]"
   ]
  },
  {
   "cell_type": "code",
   "execution_count": 100,
   "metadata": {},
   "outputs": [],
   "source": [
    "pt_nurs_notes = pt[pt.description == 'Nursing Progress Note']"
   ]
  },
  {
   "cell_type": "code",
   "execution_count": 125,
   "metadata": {},
   "outputs": [],
   "source": [
    "def single_group_ratios(pt):\n",
    "    internote_sort_cols = ['hadm_id', 'chartdate', 'charttime', 'category', 'description']\n",
    "    internote_group_keys = ['hadm_id', 'category', 'description']\n",
    "    groups_gen = pt.sort_values(internote_sort_cols).groupby(internote_group_keys)\n",
    "    results = defaultdict(list)\n",
    "    metric = load_metric('rouge')\n",
    "    score = None\n",
    "    ratios = []\n",
    "    for k, g in [list(groups_gen)[-1]]:\n",
    "        if g.shape[0] > 1:\n",
    "            for i in range(len(g.text.tolist()) - 1):\n",
    "                metric.add(prediction=g.text.iloc[i], reference=g.text.iloc[i+1])\n",
    "                ratio, std_dev, max_ratio, min_ratio, redundant_toks_len, total_toks = \\\n",
    "                    diff_ratio(g.text.iloc[i], g.text.iloc[i+1])\n",
    "                ratios.append(ratio)\n",
    "            score = metric.compute(rouge_types=['rougeL'])\n",
    "    return ratios, score"
   ]
  },
  {
   "cell_type": "code",
   "execution_count": 126,
   "metadata": {},
   "outputs": [
    {
     "name": "stdout",
     "output_type": "stream",
     "text": [
      "2021-01-07 11:32:03,220: Removing /Users/tom/.cache/huggingface/metrics/rouge/default/default_experiment-1-0.arrow\n"
     ]
    }
   ],
   "source": [
    "ratios, rouge_scores = single_group_ratios(pt_nurs_notes)"
   ]
  },
  {
   "cell_type": "code",
   "execution_count": 140,
   "metadata": {},
   "outputs": [
    {
     "ename": "TypeError",
     "evalue": "index() takes at least 1 argument (0 given)",
     "output_type": "error",
     "traceback": [
      "\u001b[0;31m---------------------------------------------------------------------------\u001b[0m",
      "\u001b[0;31mTypeError\u001b[0m                                 Traceback (most recent call last)",
      "\u001b[0;32m<ipython-input-140-81116fe79ecf>\u001b[0m in \u001b[0;36m<module>\u001b[0;34m\u001b[0m\n\u001b[0;32m----> 1\u001b[0;31m \u001b[0mrouge_scores\u001b[0m\u001b[0;34m[\u001b[0m\u001b[0;34m'rougeL'\u001b[0m\u001b[0;34m]\u001b[0m\u001b[0;34m.\u001b[0m\u001b[0mindex\u001b[0m\u001b[0;34m(\u001b[0m\u001b[0;34m)\u001b[0m\u001b[0;34m\u001b[0m\u001b[0;34m\u001b[0m\u001b[0m\n\u001b[0m",
      "\u001b[0;31mTypeError\u001b[0m: index() takes at least 1 argument (0 given)"
     ]
    }
   ],
   "source": []
  },
  {
   "cell_type": "code",
   "execution_count": 140,
   "metadata": {},
   "outputs": [
    {
     "ename": "NameError",
     "evalue": "name 'sent_a' is not defined",
     "output_type": "error",
     "traceback": [
      "\u001b[0;31m---------------------------------------------------------------------------\u001b[0m",
      "\u001b[0;31mNameError\u001b[0m                                 Traceback (most recent call last)",
      "\u001b[0;32m<ipython-input-140-c9ba70030bf2>\u001b[0m in \u001b[0;36m<module>\u001b[0;34m\u001b[0m\n\u001b[0;32m----> 1\u001b[0;31m \u001b[0mmetric\u001b[0m\u001b[0;34m.\u001b[0m\u001b[0madd\u001b[0m\u001b[0;34m(\u001b[0m\u001b[0mprediction\u001b[0m\u001b[0;34m=\u001b[0m\u001b[0msent_a\u001b[0m\u001b[0;34m,\u001b[0m \u001b[0mreference\u001b[0m\u001b[0;34m=\u001b[0m\u001b[0msent_b\u001b[0m\u001b[0;34m,\u001b[0m \u001b[0mmodel\u001b[0m\u001b[0;34m=\u001b[0m\u001b[0;34m'xlnet-base-cased'\u001b[0m\u001b[0;34m)\u001b[0m\u001b[0;34m\u001b[0m\u001b[0;34m\u001b[0m\u001b[0m\n\u001b[0m",
      "\u001b[0;31mNameError\u001b[0m: name 'sent_a' is not defined"
     ]
    }
   ],
   "source": [
    "metric.add(prediction=sent_a, reference=sent_b, "
   ]
  },
  {
   "cell_type": "code",
   "execution_count": 139,
   "metadata": {},
   "outputs": [
    {
     "ename": "TypeError",
     "evalue": "_compute() got an unexpected keyword argument 'model'",
     "output_type": "error",
     "traceback": [
      "\u001b[0;31m---------------------------------------------------------------------------\u001b[0m",
      "\u001b[0;31mTypeError\u001b[0m                                 Traceback (most recent call last)",
      "\u001b[0;32m<ipython-input-139-c4de98280a29>\u001b[0m in \u001b[0;36m<module>\u001b[0;34m\u001b[0m\n\u001b[0;32m----> 1\u001b[0;31m \u001b[0mmetric\u001b[0m\u001b[0;34m.\u001b[0m\u001b[0mcompute\u001b[0m\u001b[0;34m(\u001b[0m\u001b[0mlang\u001b[0m\u001b[0;34m=\u001b[0m\u001b[0;34m'en'\u001b[0m\u001b[0;34m,\u001b[0m \u001b[0mmodel\u001b[0m\u001b[0;34m=\u001b[0m\u001b[0;34m'xlnet-base-cased'\u001b[0m\u001b[0;34m,\u001b[0m \u001b[0mrescale_with_baseline\u001b[0m\u001b[0;34m=\u001b[0m\u001b[0;32mTrue\u001b[0m\u001b[0;34m)\u001b[0m\u001b[0;34m\u001b[0m\u001b[0;34m\u001b[0m\u001b[0m\n\u001b[0m",
      "\u001b[0;32m~/anaconda3/envs/distil_bert/lib/python3.7/site-packages/datasets/metric.py\u001b[0m in \u001b[0;36mcompute\u001b[0;34m(self, *args, **kwargs)\u001b[0m\n\u001b[1;32m    396\u001b[0m             \u001b[0mreferences\u001b[0m \u001b[0;34m=\u001b[0m \u001b[0mself\u001b[0m\u001b[0;34m.\u001b[0m\u001b[0mdata\u001b[0m\u001b[0;34m[\u001b[0m\u001b[0;34m\"references\"\u001b[0m\u001b[0;34m]\u001b[0m\u001b[0;34m\u001b[0m\u001b[0;34m\u001b[0m\u001b[0m\n\u001b[1;32m    397\u001b[0m             \u001b[0;32mwith\u001b[0m \u001b[0mtemp_seed\u001b[0m\u001b[0;34m(\u001b[0m\u001b[0mself\u001b[0m\u001b[0;34m.\u001b[0m\u001b[0mseed\u001b[0m\u001b[0;34m)\u001b[0m\u001b[0;34m:\u001b[0m\u001b[0;34m\u001b[0m\u001b[0;34m\u001b[0m\u001b[0m\n\u001b[0;32m--> 398\u001b[0;31m                 \u001b[0moutput\u001b[0m \u001b[0;34m=\u001b[0m \u001b[0mself\u001b[0m\u001b[0;34m.\u001b[0m\u001b[0m_compute\u001b[0m\u001b[0;34m(\u001b[0m\u001b[0mpredictions\u001b[0m\u001b[0;34m=\u001b[0m\u001b[0mpredictions\u001b[0m\u001b[0;34m,\u001b[0m \u001b[0mreferences\u001b[0m\u001b[0;34m=\u001b[0m\u001b[0mreferences\u001b[0m\u001b[0;34m,\u001b[0m \u001b[0;34m**\u001b[0m\u001b[0mkwargs\u001b[0m\u001b[0;34m)\u001b[0m\u001b[0;34m\u001b[0m\u001b[0;34m\u001b[0m\u001b[0m\n\u001b[0m\u001b[1;32m    399\u001b[0m \u001b[0;34m\u001b[0m\u001b[0m\n\u001b[1;32m    400\u001b[0m             \u001b[0;32mif\u001b[0m \u001b[0mself\u001b[0m\u001b[0;34m.\u001b[0m\u001b[0mbuf_writer\u001b[0m \u001b[0;32mis\u001b[0m \u001b[0;32mnot\u001b[0m \u001b[0;32mNone\u001b[0m\u001b[0;34m:\u001b[0m\u001b[0;34m\u001b[0m\u001b[0;34m\u001b[0m\u001b[0m\n",
      "\u001b[0;31mTypeError\u001b[0m: _compute() got an unexpected keyword argument 'model'"
     ]
    }
   ],
   "source": []
  },
  {
   "cell_type": "code",
   "execution_count": 108,
   "metadata": {},
   "outputs": [
    {
     "data": {
      "text/plain": [
       "0.5489322665281713"
      ]
     },
     "execution_count": 108,
     "metadata": {},
     "output_type": "execute_result"
    }
   ],
   "source": [
    "sum(ratios) / len(ratios)"
   ]
  },
  {
   "cell_type": "code",
   "execution_count": 109,
   "metadata": {},
   "outputs": [
    {
     "name": "stdout",
     "output_type": "stream",
     "text": [
      "2021-01-07 10:48:45,551: Removing /Users/tom/.cache/huggingface/metrics/rouge/default/default_experiment-1-0.arrow\n"
     ]
    },
    {
     "data": {
      "text/plain": [
       "([0.07447204531062934],\n",
       " {'rouge1': AggregateScore(low=Score(precision=0.29508196721311475, recall=0.6967741935483871, fmeasure=0.4145873320537428), mid=Score(precision=0.29508196721311475, recall=0.6967741935483871, fmeasure=0.4145873320537428), high=Score(precision=0.29508196721311475, recall=0.6967741935483871, fmeasure=0.4145873320537428)),\n",
       "  'rouge2': AggregateScore(low=Score(precision=0.12722298221614228, recall=0.30097087378640774, fmeasure=0.17884615384615388), mid=Score(precision=0.12722298221614228, recall=0.30097087378640774, fmeasure=0.17884615384615388), high=Score(precision=0.12722298221614228, recall=0.30097087378640774, fmeasure=0.17884615384615388)),\n",
       "  'rougeL': AggregateScore(low=Score(precision=0.16256830601092895, recall=0.38387096774193546, fmeasure=0.22840690978886755), mid=Score(precision=0.16256830601092895, recall=0.38387096774193546, fmeasure=0.22840690978886755), high=Score(precision=0.16256830601092895, recall=0.38387096774193546, fmeasure=0.22840690978886755)),\n",
       "  'rougeLsum': AggregateScore(low=Score(precision=0.29098360655737704, recall=0.6870967741935484, fmeasure=0.40882917466410745), mid=Score(precision=0.29098360655737704, recall=0.6870967741935484, fmeasure=0.40882917466410745), high=Score(precision=0.29098360655737704, recall=0.6870967741935484, fmeasure=0.40882917466410745))})"
      ]
     },
     "execution_count": 109,
     "metadata": {},
     "output_type": "execute_result"
    }
   ],
   "source": [
    "single_group_ratios(pt)"
   ]
  },
  {
   "cell_type": "code",
   "execution_count": null,
   "metadata": {},
   "outputs": [],
   "source": []
  },
  {
   "cell_type": "code",
   "execution_count": 48,
   "metadata": {},
   "outputs": [],
   "source": [
    "discharge_notes_df = stroke_discharge_df"
   ]
  },
  {
   "cell_type": "code",
   "execution_count": 94,
   "metadata": {},
   "outputs": [
    {
     "data": {
      "text/plain": [
       "43    SW consulted to participate in family/team mee...\n",
       "34    Team/family meeting to confer on pt\\ns son and...\n",
       "Name: text, dtype: object"
      ]
     },
     "execution_count": 94,
     "metadata": {},
     "output_type": "execute_result"
    }
   ],
   "source": [
    "g.text"
   ]
  },
  {
   "cell_type": "markdown",
   "metadata": {},
   "source": [
    "### Brief Hospital Course Analysis"
   ]
  },
  {
   "cell_type": "code",
   "execution_count": 14,
   "metadata": {},
   "outputs": [],
   "source": [
    "# ptn = re.compile(r'(?<=brief\\shospi§tal\\scourse\\:)(?:.*\\n)+?(?=\\n\\n)', flags=re.I)\n",
    "ptn = re.compile(r'(?<=ospital\\scourse\\:)(?:.*\\n)+?(?=\\n\\n)', flags=re.I)\n",
    "def extract_hospital_course(row):\n",
    "    m = re.search(ptn, row.text)\n",
    "    if m:\n",
    "        return re.split(r'(\\n\\n.*\\:\\n?)', row.text[m.start():m.end()])[0].strip()\n",
    "    return None "
   ]
  },
  {
   "cell_type": "code",
   "execution_count": 27,
   "metadata": {},
   "outputs": [],
   "source": [
    "pmx_ptn = re.compile(r'(?:past\\smedical\\shistory\\:?)\\n?(?:.*\\n)+(?=\\n)')\n",
    "def extract_pmx(row):\n",
    "    m = re.search(pmx_ptn, row.text)\n",
    "    if m:\n",
    "        return re.split(r'(\\n\\n.*\\:\\n?)', row.text[m.start():m.end()])[0].strip()\n",
    "    return None"
   ]
  },
  {
   "cell_type": "code",
   "execution_count": 15,
   "metadata": {},
   "outputs": [],
   "source": [
    "discharge_notes_df['hospital_course_text'] = discharge_notes_df.apply(extract_hospital_course, axis=1)"
   ]
  },
  {
   "cell_type": "code",
   "execution_count": 28,
   "metadata": {},
   "outputs": [],
   "source": [
    "discharge_notes_df['pmx_text'] = discharge_notes_df.apply(extract_hospital_course, axis=1)"
   ]
  },
  {
   "cell_type": "code",
   "execution_count": 25,
   "metadata": {},
   "outputs": [
    {
     "data": {
      "text/plain": [
       "(262, 4)"
      ]
     },
     "execution_count": 25,
     "metadata": {},
     "output_type": "execute_result"
    }
   ],
   "source": [
    "discharge_notes_df[pd.isna(discharge_notes_df.pmx_text)].shape"
   ]
  },
  {
   "cell_type": "code",
   "execution_count": null,
   "metadata": {},
   "outputs": [],
   "source": [
    "print(discharge_notes_df[pd.isna(discharge_notes_df.pmx_text)].text.iloc[1])"
   ]
  },
  {
   "cell_type": "code",
   "execution_count": 150,
   "metadata": {},
   "outputs": [],
   "source": [
    "metric = load_metric('bertscore')"
   ]
  },
  {
   "cell_type": "code",
   "execution_count": null,
   "metadata": {},
   "outputs": [],
   "source": [
    "metric"
   ]
  },
  {
   "cell_type": "code",
   "execution_count": 151,
   "metadata": {},
   "outputs": [],
   "source": [
    "metric.add(prediction=nut_notes.iloc[0], reference=nut_notes.iloc[1])"
   ]
  },
  {
   "cell_type": "code",
   "execution_count": 152,
   "metadata": {},
   "outputs": [
    {
     "name": "stdout",
     "output_type": "stream",
     "text": [
      "2021-01-13 12:30:53,610: Lock 140536987522512 acquired on /Users/tom/.cache/huggingface/transformers/06bdb0f5882dbb833618c81c3b4c996a0c79422fa2c95ffea3827f92fc2dba6b.da982e2e596ec73828dbae86525a1870e513bd63aae5a2dc773ccc840ac5c346.lock\n"
     ]
    },
    {
     "data": {
      "application/vnd.jupyter.widget-view+json": {
       "model_id": "f731d2fbcf54403eb8bf9208d5451f2f",
       "version_major": 2,
       "version_minor": 0
      },
      "text/plain": [
       "HBox(children=(FloatProgress(value=0.0, description='Downloading', max=760.0, style=ProgressStyle(description_…"
      ]
     },
     "metadata": {},
     "output_type": "display_data"
    },
    {
     "name": "stdout",
     "output_type": "stream",
     "text": [
      "\n",
      "2021-01-13 12:30:53,940: Lock 140536987522512 released on /Users/tom/.cache/huggingface/transformers/06bdb0f5882dbb833618c81c3b4c996a0c79422fa2c95ffea3827f92fc2dba6b.da982e2e596ec73828dbae86525a1870e513bd63aae5a2dc773ccc840ac5c346.lock\n",
      "2021-01-13 12:30:54,218: Lock 140537333938576 acquired on /Users/tom/.cache/huggingface/transformers/df73bc9f8d13bf2ea4dab95624895e45a550a0f0a825e41fc25440bf367ee3c8.d93497120e3a865e2970f26abdf7bf375896f97fde8b874b70909592a6c785c9.lock\n"
     ]
    },
    {
     "data": {
      "application/vnd.jupyter.widget-view+json": {
       "model_id": "075801675e7b469a8de961d904d71529",
       "version_major": 2,
       "version_minor": 0
      },
      "text/plain": [
       "HBox(children=(FloatProgress(value=0.0, description='Downloading', max=798011.0, style=ProgressStyle(descripti…"
      ]
     },
     "metadata": {},
     "output_type": "display_data"
    },
    {
     "name": "stdout",
     "output_type": "stream",
     "text": [
      "\n",
      "2021-01-13 12:30:56,199: Lock 140537333938576 released on /Users/tom/.cache/huggingface/transformers/df73bc9f8d13bf2ea4dab95624895e45a550a0f0a825e41fc25440bf367ee3c8.d93497120e3a865e2970f26abdf7bf375896f97fde8b874b70909592a6c785c9.lock\n",
      "2021-01-13 12:30:56,821: Lock 140534691015632 acquired on /Users/tom/.cache/huggingface/transformers/9461853998373b0b2f8ef8011a13b62a2c5f540b2c535ef3ea46ed8a062b16a9.3e214f11a50e9e03eb47535b58522fc3cc11ac67c120a9450f6276de151af987.lock\n"
     ]
    },
    {
     "data": {
      "application/vnd.jupyter.widget-view+json": {
       "model_id": "5b05df1bb7f8498bbdef058ced3a8bf4",
       "version_major": 2,
       "version_minor": 0
      },
      "text/plain": [
       "HBox(children=(FloatProgress(value=0.0, description='Downloading', max=467042463.0, style=ProgressStyle(descri…"
      ]
     },
     "metadata": {},
     "output_type": "display_data"
    },
    {
     "name": "stdout",
     "output_type": "stream",
     "text": [
      "\n",
      "2021-01-13 12:32:41,918: Lock 140534691015632 released on /Users/tom/.cache/huggingface/transformers/9461853998373b0b2f8ef8011a13b62a2c5f540b2c535ef3ea46ed8a062b16a9.3e214f11a50e9e03eb47535b58522fc3cc11ac67c120a9450f6276de151af987.lock\n",
      "2021-01-13 12:32:51,689: Removing /Users/tom/.cache/huggingface/metrics/bert_score/default/default_experiment-1b50ecca-ea05-4abe-b070-60cd6a8343b4-1-0.arrow\n"
     ]
    },
    {
     "data": {
      "text/plain": [
       "{'precision': tensor([0.9828]),\n",
       " 'recall': tensor([0.7448]),\n",
       " 'f1': tensor([0.8541]),\n",
       " 'hashcode': 'xlnet-base-cased_L5_no-idf_version=0.3.7(hug_trans=4.1.1)-rescaled'}"
      ]
     },
     "execution_count": 152,
     "metadata": {},
     "output_type": "execute_result"
    }
   ],
   "source": [
    "metric.compute(lang='en', rescale_with_baseline=True, model_type='xlnet-base-cased')"
   ]
  },
  {
   "cell_type": "code",
   "execution_count": null,
   "metadata": {},
   "outputs": [],
   "source": []
  },
  {
   "cell_type": "code",
   "execution_count": 134,
   "metadata": {},
   "outputs": [
    {
     "data": {
      "text/html": [
       "<div><div style=\"display: inline-block; width: calc(50% - 10px)\">84 year old woman w a history of atrial fibrillation without anticoagulation and pacemaker placement for bradycardia was transferred to the T-SICU for multiple CNS defecits</div><div style=\"width: 20px; display: inline-block\"></div><div style=\"display: inline-block; width: calc(50% - 10px)\">84 year old woman w a history of atrial fibrillation without anticoagulation and pacemaker placement for bradycardia was transferred to the T-SICU for multiple CNS defecits</div><div style=\"display: inline-block; width: calc(50% - 10px)\">The patient was admitted to cardiology on [**2197-7-8**] for a CHF exacerbation with DOE x2 wk</div><div style=\"width: 20px; display: inline-block\"></div><div style=\"display: inline-block; width: calc(50% - 10px)\">The patient was admitted to cardiology on [**2197-7-8**] for a CHF exacerbation with DOE x2 wk</div><div style=\"display: inline-block; width: calc(50% - 10px)\">She had hoarseness starting on [**7-6**]</div><div style=\"width: 20px; display: inline-block\"></div><div style=\"display: inline-block; width: calc(50% - 10px)\">She had hoarseness starting on [**7-6**]</div><div style=\"display: inline-block; width: calc(50% - 10px)\">On [**7-8**], the patient triggered for AMS and tachycardia to 140 and was treated for AFib</div><div style=\"width: 20px; display: inline-block\"></div><div style=\"display: inline-block; width: calc(50% - 10px)\">On [**7-8**], the patient triggered for AMS and tachycardia to 140 and was treated for AFib</div><div style=\"display: inline-block; width: calc(50% - 10px)\">On [**7-9**] at 0100, the patient was found to be dysarthric and weak</div><div style=\"width: 20px; display: inline-block\"></div><div style=\"display: inline-block; width: calc(50% - 10px)\">On [**7-9**] at 0100, the patient was found to be dysarthric and weak</div><div style=\"display: inline-block; width: calc(50% - 10px)\">She recieved a CT head, which showed several subacute and chronic sites of infarction</div><div style=\"width: 20px; display: inline-block\"></div><div style=\"display: inline-block; width: calc(50% - 10px)\">She recieved a CT head, which showed several subacute and chronic sites of infarction</div><div style=\"display: inline-block; width: calc(50% - 10px)\">At 7:30AM, the patient was noted to have difficulty speaking, difficulty swallowing, and right-sided weakness</div><div style=\"width: 20px; display: inline-block\"></div><div style=\"display: inline-block; width: calc(50% - 10px)\">At 7:30AM, the patient was noted to have difficulty speaking, difficulty swallowing, and right-sided weakness</div><div style=\"display: inline-block; width: calc(50% - 10px)\">A CTA showed a right cerebellar infarct with concern for evolution from 1 am to 11 am today, also left ICA occlusion</div><div style=\"width: 20px; display: inline-block\"></div><div style=\"display: inline-block; width: calc(50% - 10px)\">A CTA showed a right cerebellar infarct with concern for evolution from 1 am to 11 am today, also left ICA occlusion</div><div style=\"display: inline-block; width: calc(50% - 10px)\">Injuries: - evolving left cerebellar infarct - occlusion of the left common carotid artery within a centimeter of its origin</div><div style=\"width: 20px; display: inline-block\"></div><div style=\"display: inline-block; width: calc(50% - 10px)\">Injuries: - evolving left cerebellar infarct - occlusion of the left common carotid artery within a centimeter of its origin</div><div style=\"display: inline-block; width: calc(50% - 10px)\">- intraluminal thrombus of the distal right vertebral artery - left subclavian artery is occluded at its origin, with extensive surrounding atherosclerotic calcification</div><div style=\"width: 20px; display: inline-block\"></div><div style=\"display: inline-block; width: calc(50% - 10px)\">- intraluminal thrombus of the distal right vertebral artery - left subclavian artery is occluded at its origin, with extensive surrounding atherosclerotic calcification</div><div style=\"display: inline-block; width: calc(50% - 10px)\">- It is likely that the left vertebral artery participates in a so called &quot;subclavian steal,&quot; accounting for the disparate blood pressures noted on physical examination</div><div style=\"width: 20px; display: inline-block\"></div><div style=\"display: inline-block; width: calc(50% - 10px)\">- It is likely that the left vertebral artery participates in a so called &quot;subclavian steal,&quot; accounting for the disparate blood pressures noted on physical examination</div><div style=\"display: inline-block; width: calc(50% - 10px)\">CVA (Stroke, Cerebral infarction), Ischemic Assessment: Pt alert and oriented x1</div><div style=\"width: 20px; display: inline-block\"></div><div style=\"display: inline-block; width: calc(50% - 10px)\">CVA (Stroke, Cerebral infarction), Ischemic Assessment: Pt alert and oriented x1</div><div style=\"display: inline-block; width: calc(50% - 10px)\">Pt follows commands</div><div style=\"width: 20px; display: inline-block\"></div><div style=\"display: inline-block; width: calc(50% - 10px)\">Pt follows commands</div><div style=\"display: inline-block; width: calc(50% - 10px)\">Pt has expressive aphasia but nods appropriately to some questions</div><div style=\"width: 20px; display: inline-block\"></div><div style=\"display: inline-block; width: calc(50% - 10px)\">Pt has expressive aphasia but nods appropriately to some questions</div><div style=\"display: inline-block; width: calc(50% - 10px)\">Pt has no movement in RUE, but withdraws to pain in the RLE</div><div style=\"width: 20px; display: inline-block\"></div><div style=\"display: inline-block; width: calc(50% - 10px)\">Pt has no movement in RUE, but withdraws to pain in the RLE</div><div style=\"display: inline-block; width: calc(50% - 10px)\">Pt can lift and hold the LUE and LLE</div><div style=\"width: 20px; display: inline-block\"></div><div style=\"display: inline-block; width: calc(50% - 10px)\">Pt can lift and hold the LUE and LLE</div><div style=\"display: inline-block; width: calc(50% - 10px)\">Pt is on 2L NC and LS clear and diminished at bases</div><div style=\"width: 20px; display: inline-block\"></div><div style=\"display: inline-block; width: calc(50% - 10px)\">Pt is on 2L NC and LS clear and diminished at bases</div><div style=\"display: inline-block; width: calc(50% - 10px)\">Pt coughing up secretions but now has absent gag, so secretions need some suctioning</div><div style=\"width: 20px; display: inline-block\"></div><div style=\"display: inline-block; width: calc(50% - 10px)\">Pt coughing up secretions but now has absent gag, so secretions need some suctioning</div><div style=\"display: inline-block; width: calc(50% - 10px)\">Action: -Mannitol discontinued, Neuro exam changed to q4h -family meeting occurred to discuss code status yesterday and family changed pt to [**Month/Day (1) 580**], a few hr later called and made pt Full [**Name (NI) 36**]</div><div style=\"width: 20px; display: inline-block\"></div><div style=\"display: inline-block; width: calc(50% - 10px)\">Action: -Mannitol discontinued, Neuro exam changed to q4h -family meeting occurred to discuss code status yesterday and family changed pt to [**Month/Day (1) 580**], a few hr later called and made pt Full [**Name (NI) 36**]</div><div style=\"display: inline-block; width: calc(50% - 10px)\">Ethics now involved and daughter today found pt s living will, which clearly states no heroic measures if her mental and physical status [**Male First Name (un) **] return to baseline</div><div style=\"width: 20px; display: inline-block\"></div><div style=\"display: inline-block; width: calc(50% - 10px)\">Ethics now involved and daughter today found pt s living will, which clearly states no heroic measures if her mental and physical status [**Male First Name (un) **] return to baseline</div><div style=\"display: inline-block; width: calc(50% - 10px)\">Daughter understanding situation and wants to make pt [**Name (NI) 580**], [**First Name3 (LF) **] is having trouble with this decision</div><div style=\"width: 20px; display: inline-block\"></div><div style=\"display: inline-block; width: calc(50% - 10px)\">Daughter understanding situation and wants to make pt [**Name (NI) 580**], [**First Name3 (LF) **] is having trouble with this decision</div><div style=\"display: inline-block; width: calc(50% - 10px)\">Social work and ethics involved and trying to have another family meeting to make the pt s wishes known</div><div style=\"width: 20px; display: inline-block\"></div><div style=\"display: inline-block; width: calc(50% - 10px)\">Social work and ethics involved and trying to have another family meeting to make the pt s wishes known</div><div style=\"display: inline-block; width: calc(50% - 10px)\">Response: -Neuro exam <span style=\"background: #69E2FB;\">unchanged -Team is still trying</span> to <span style=\"background: #69E2FB;\">get in touch with son for a family meeting</span></div><div style=\"width: 20px; display: inline-block\"></div><div style=\"display: inline-block; width: calc(50% - 10px)\">Response: -Neuro exam <span style=\"background: #69E2FB;\">changed and pt now able</span> to <span style=\"background: #69E2FB;\">speak fairly clearly and say her name and the name of her kids</span></div><div style=\"display: inline-block; width: calc(50% - 10px)\"><span style=\"background: #69E2FB;\">Plan: Awaiting families decision</span> for <span style=\"background: #69E2FB;\">pt s</span> plan <span style=\"background: #69E2FB;\">of care Atrial fibrillation (Afib) Assessment: HR in the 80s -100s afib and paced</span></div><div style=\"width: 20px; display: inline-block\"></div><div style=\"display: inline-block; width: calc(50% - 10px)\"><span style=\"background: #69E2FB;\">-Team is still trying to get in touch with son</span> for <span style=\"background: #69E2FB;\">a family meeting and discuss new development and</span> plan</div><div style=\"display: inline-block; width: calc(50% - 10px)\"><span style=\"background: #69E2FB;\"></span></div><div style=\"width: 20px; display: inline-block\"></div><div style=\"display: inline-block; width: calc(50% - 10px)\"><span style=\"background: #69E2FB;\">Plan: Awaiting families decision for pt s plan of care, Pt transfer to stepdown Atrial fibrillation (Afib) Assessment: HR in the 80s -100s afib and paced</span></div><div style=\"display: inline-block; width: calc(50% - 10px)\">Pt SBP within 140-180</div><div style=\"width: 20px; display: inline-block\"></div><div style=\"display: inline-block; width: calc(50% - 10px)\">Pt SBP within 140-180</div><div style=\"display: inline-block; width: calc(50% - 10px)\">Action: -Diltiazem gtt titrated for HR under 100 -metoprolol given q4hr for BP management -Coumadin in place Response: HR wnl and paced</div><div style=\"width: 20px; display: inline-block\"></div><div style=\"display: inline-block; width: calc(50% - 10px)\">Action: -Diltiazem gtt titrated for HR under 100 -metoprolol given q4hr for BP management -Coumadin in place Response: HR wnl and paced</div><div style=\"display: inline-block; width: calc(50% - 10px)\">SBP within goal Plan: Continue Diltiazem gtt and titrate for a HR 80-100 and keep SBP 140-180 with lopressor</div><div style=\"width: 20px; display: inline-block\"></div><div style=\"display: inline-block; width: calc(50% - 10px)\">SBP within goal Plan: Continue Diltiazem gtt and titrate for a HR 80-100 and keep SBP 140-180 with lopressor</div><div style=\"display: inline-block; width: calc(50% - 10px)\"></div><div style=\"width: 20px; display: inline-block\"></div><div style=\"display: inline-block; width: calc(50% - 10px)\"><span style=\"background: #69E2FB;\">Demographics Attending MD: [**Doctor Last Name 3055**] [**First Name8 (NamePattern2) **] [**Last Name (NamePattern1) **] Admit diagnosis: CONGESTIVE HEART FAILURE Code status: Full code Height: 61 Inch Admission weight: 55.5 kg Daily weight: 55.8 kg Allergies/Reactions: No Known Drug Allergies Precautions: PMH: CV-PMH: Additional history: diabetes, dyslipidemia, hypertension, hypothyroidism, hystorectomy, cholecystectomy Surgery / Procedure and date: Latest Vital Signs and I/O Non-invasive BP: S:157 D:76 Temperature: 96.9 Arterial BP: S: D: Respiratory rate: 17 insp/min Heart Rate: 84 bpm Heart rhythm: AF (Atrial Fibrillation) O2 delivery device: Nasal cannula O2 saturation: 99% % O2 flow: 3 L/min FiO2 set: 100% % 24h total in: 1,393 mL 24h total out: 785 mL Pertinent Lab Results: Sodium: 141 mEq/L [**2197-7-13**] 04:36 AM Potassium: 3.6 mEq/L [**2197-7-13**] 04:36 AM Chloride: 105 mEq/L [**2197-7-13**] 04:36 AM CO2: 24 mEq/L [**2197-7-13**] 04:36 AM BUN: 21 mg/dL [**2197-7-13**] 04:36 AM Creatinine: 1.2 mg/dL [**2197-7-13**] 04:36 AM Glucose: 140 mg/dL [**2197-7-13**] 04:36 AM Hematocrit: 38.3 % [**2197-7-13**] 04:36 AM Finger Stick Glucose: 130 [**2197-7-13**] 02:00 PM Valuables / Signature Patient valuables: None Other valuables: Clothes: Sent home with: Wallet / Money: No money / wallet Cash / Credit cards sent home with: Jewelry: Transferred from: [**Hospital 1359**] Transferred to: [**Hospital Ward Name 289**] 11 Date &amp; time of Transfer: [**2197-7-13**] 1630</span> </div></div>"
      ],
      "text/plain": [
       "<IPython.core.display.HTML object>"
      ]
     },
     "metadata": {},
     "output_type": "display_data"
    }
   ],
   "source": [
    "show_diffs(nut_notes.iloc[0], nut_notes.iloc[1])"
   ]
  }
 ],
 "metadata": {
  "kernelspec": {
   "display_name": "Python [conda env:distil_bert]",
   "language": "python",
   "name": "conda-env-distil_bert-py"
  },
  "language_info": {
   "codemirror_mode": {
    "name": "ipython",
    "version": 3
   },
   "file_extension": ".py",
   "mimetype": "text/x-python",
   "name": "python",
   "nbconvert_exporter": "python",
   "pygments_lexer": "ipython3",
   "version": "3.7.7"
  }
 },
 "nbformat": 4,
 "nbformat_minor": 4
}
