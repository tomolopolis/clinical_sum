{
 "cells": [
  {
   "cell_type": "code",
   "execution_count": 29,
   "metadata": {},
   "outputs": [],
   "source": [
    "%load_ext autoreload\n",
    "\n",
    "%autoreload 2"
   ]
  },
  {
   "cell_type": "code",
   "execution_count": 38,
   "metadata": {},
   "outputs": [],
   "source": [
    "from icd9cms import search\n",
    "import os\n",
    "import numpy as np\n",
    "import pandas as pd\n",
    "from collections import defaultdict\n",
    "import json\n",
    "from itertools import chain\n",
    "import ipywidgets as widgets\n",
    "from IPython.display import display\n",
    "import re\n",
    "from collections import Counter\n",
    "import difflib\n",
    "from differ import html_diffs, align_seqs, sentencize, \\\n",
    "    diff_ratio, show_diffs, compute_sequential_diff_metrics, \\\n",
    "    split_notes, compute_avgs\n",
    "from datasets import list_metrics, load_metric"
   ]
  },
  {
   "cell_type": "code",
   "execution_count": 7,
   "metadata": {},
   "outputs": [],
   "source": [
    "codes = pd.read_csv('../data/primary_codes.csv')\n",
    "sorted_primary_codes_df =codes['icd9_code'].value_counts().rename_axis('code').reset_index()\n",
    "sorted_primary_codes_df['long_title'] = sorted_primary_codes_df['code'].apply(lambda c: search(c).long_desc or search(c).short_desc)\n",
    "sorted_primary_codes_df.columns = ['code', 'count', 'long_title']\n",
    "sorted_primary_codes_df = sorted_primary_codes_df[~sorted_primary_codes_df.code.str.startswith('V3')]"
   ]
  },
  {
   "cell_type": "code",
   "execution_count": 8,
   "metadata": {},
   "outputs": [
    {
     "data": {
      "text/html": [
       "<div>\n",
       "<style scoped>\n",
       "    .dataframe tbody tr th:only-of-type {\n",
       "        vertical-align: middle;\n",
       "    }\n",
       "\n",
       "    .dataframe tbody tr th {\n",
       "        vertical-align: top;\n",
       "    }\n",
       "\n",
       "    .dataframe thead th {\n",
       "        text-align: right;\n",
       "    }\n",
       "</style>\n",
       "<table border=\"1\" class=\"dataframe\">\n",
       "  <thead>\n",
       "    <tr style=\"text-align: right;\">\n",
       "      <th></th>\n",
       "      <th>code</th>\n",
       "      <th>count</th>\n",
       "      <th>long_title</th>\n",
       "    </tr>\n",
       "  </thead>\n",
       "  <tbody>\n",
       "    <tr>\n",
       "      <th>1</th>\n",
       "      <td>41401</td>\n",
       "      <td>3498</td>\n",
       "      <td>Coronary atherosclerosis of native coronary ar...</td>\n",
       "    </tr>\n",
       "  </tbody>\n",
       "</table>\n",
       "</div>"
      ],
      "text/plain": [
       "    code  count                                         long_title\n",
       "1  41401   3498  Coronary atherosclerosis of native coronary ar..."
      ]
     },
     "execution_count": 8,
     "metadata": {},
     "output_type": "execute_result"
    }
   ],
   "source": [
    "sorted_primary_codes_df[sorted_primary_codes_df.code.str.startswith('41401')]"
   ]
  },
  {
   "cell_type": "code",
   "execution_count": 9,
   "metadata": {},
   "outputs": [
    {
     "data": {
      "text/html": [
       "<div>\n",
       "<style scoped>\n",
       "    .dataframe tbody tr th:only-of-type {\n",
       "        vertical-align: middle;\n",
       "    }\n",
       "\n",
       "    .dataframe tbody tr th {\n",
       "        vertical-align: top;\n",
       "    }\n",
       "\n",
       "    .dataframe thead th {\n",
       "        text-align: right;\n",
       "    }\n",
       "</style>\n",
       "<table border=\"1\" class=\"dataframe\">\n",
       "  <thead>\n",
       "    <tr style=\"text-align: right;\">\n",
       "      <th></th>\n",
       "      <th>code</th>\n",
       "      <th>count</th>\n",
       "      <th>long_title</th>\n",
       "    </tr>\n",
       "  </thead>\n",
       "  <tbody>\n",
       "    <tr>\n",
       "      <th>1</th>\n",
       "      <td>41401</td>\n",
       "      <td>3498</td>\n",
       "      <td>Coronary atherosclerosis of native coronary ar...</td>\n",
       "    </tr>\n",
       "    <tr>\n",
       "      <th>4</th>\n",
       "      <td>41071</td>\n",
       "      <td>1751</td>\n",
       "      <td>Subendocardial infarction, initial episode of ...</td>\n",
       "    </tr>\n",
       "    <tr>\n",
       "      <th>15</th>\n",
       "      <td>41041</td>\n",
       "      <td>482</td>\n",
       "      <td>Acute myocardial infarction of other inferior ...</td>\n",
       "    </tr>\n",
       "    <tr>\n",
       "      <th>16</th>\n",
       "      <td>41011</td>\n",
       "      <td>482</td>\n",
       "      <td>Acute myocardial infarction of other anterior ...</td>\n",
       "    </tr>\n",
       "    <tr>\n",
       "      <th>20</th>\n",
       "      <td>41519</td>\n",
       "      <td>343</td>\n",
       "      <td>Other pulmonary embolism and infarction</td>\n",
       "    </tr>\n",
       "  </tbody>\n",
       "</table>\n",
       "</div>"
      ],
      "text/plain": [
       "     code  count                                         long_title\n",
       "1   41401   3498  Coronary atherosclerosis of native coronary ar...\n",
       "4   41071   1751  Subendocardial infarction, initial episode of ...\n",
       "15  41041    482  Acute myocardial infarction of other inferior ...\n",
       "16  41011    482  Acute myocardial infarction of other anterior ...\n",
       "20  41519    343            Other pulmonary embolism and infarction"
      ]
     },
     "execution_count": 9,
     "metadata": {},
     "output_type": "execute_result"
    }
   ],
   "source": [
    "sorted_primary_codes_df[sorted_primary_codes_df.code.str.startswith('41')].head(5)"
   ]
  },
  {
   "cell_type": "code",
   "execution_count": 10,
   "metadata": {},
   "outputs": [
    {
     "data": {
      "text/plain": [
       "['Cerebral embolism with cerebral infarction',\n",
       " 'Cerebral artery occlusion, unspecified with cerebral infarction',\n",
       " 'Cerebral thrombosis with cerebral infarction',\n",
       " 'Cerebral artery occlusion, unspecified without mention of cerebral infarction',\n",
       " 'Cerebral embolism without mention of cerebral infarction']"
      ]
     },
     "execution_count": 10,
     "metadata": {},
     "output_type": "execute_result"
    }
   ],
   "source": [
    "sorted_primary_codes_df[sorted_primary_codes_df.code.str.startswith('434')].long_title.tolist()"
   ]
  },
  {
   "cell_type": "markdown",
   "metadata": {},
   "source": [
    "### 41401 Notes"
   ]
  },
  {
   "cell_type": "code",
   "execution_count": 30,
   "metadata": {},
   "outputs": [],
   "source": [
    "notes = pd.read_csv('../data/41401_notes.csv')"
   ]
  },
  {
   "cell_type": "code",
   "execution_count": 31,
   "metadata": {},
   "outputs": [],
   "source": [
    "discharge_notes = notes[(notes.category == 'Discharge summary') & (notes.description != 'Addendum')]"
   ]
  },
  {
   "cell_type": "code",
   "execution_count": 33,
   "metadata": {},
   "outputs": [],
   "source": [
    "care_notes_df, discharge_notes_df = split_notes(notes)"
   ]
  },
  {
   "cell_type": "code",
   "execution_count": 34,
   "metadata": {},
   "outputs": [],
   "source": [
    "care_notes_df['cat_descs'] = care_notes_df.apply(lambda r: [(f'{c.strip()}:{d}') for c,d in zip(r.categories, r.descriptions)], axis=1)"
   ]
  },
  {
   "cell_type": "code",
   "execution_count": 23,
   "metadata": {},
   "outputs": [
    {
     "name": "stdout",
     "output_type": "stream",
     "text": [
      "2021-01-19 12:49:06,517: Removing /Users/tom/.cache/huggingface/metrics/bert_score/default/default_experiment-1-0.arrow\n",
      "2021-01-19 12:49:06,524: Removing /Users/tom/.cache/huggingface/metrics/rouge/default/default_experiment-1-0.arrow\n"
     ]
    }
   ],
   "source": [
    "results_df = compute_diff(stroke_notes_subset)"
   ]
  },
  {
   "cell_type": "code",
   "execution_count": 386,
   "metadata": {},
   "outputs": [],
   "source": [
    "results_df = pd.concat([rougeL, results_df.loc[:, [c for c in results_df.columns if 'rougeL' in c]]], axis=1)"
   ]
  },
  {
   "cell_type": "code",
   "execution_count": 399,
   "metadata": {},
   "outputs": [],
   "source": [
    "scores = results_df.loc[:, ['category', 'description', 'avg_diff_ratio', 'rougeL_recall_med', 'rougeL_recall_iqr', 'rougeL_precision_med', 'rougeL_precision_iqr', \n",
    "                            'bert-score_recall_med', 'bert-score_recall_iqr', 'bert-score_precision_med', 'bert-score_precision_iqr']]"
   ]
  },
  {
   "cell_type": "code",
   "execution_count": 400,
   "metadata": {},
   "outputs": [
    {
     "data": {
      "text/html": [
       "<div>\n",
       "<style scoped>\n",
       "    .dataframe tbody tr th:only-of-type {\n",
       "        vertical-align: middle;\n",
       "    }\n",
       "\n",
       "    .dataframe tbody tr th {\n",
       "        vertical-align: top;\n",
       "    }\n",
       "\n",
       "    .dataframe thead th {\n",
       "        text-align: right;\n",
       "    }\n",
       "</style>\n",
       "<table border=\"1\" class=\"dataframe\">\n",
       "  <thead>\n",
       "    <tr style=\"text-align: right;\">\n",
       "      <th></th>\n",
       "      <th>category</th>\n",
       "      <th>description</th>\n",
       "      <th>avg_diff_ratio</th>\n",
       "      <th>rougeL_recall_med</th>\n",
       "      <th>rougeL_recall_iqr</th>\n",
       "      <th>rougeL_precision_med</th>\n",
       "      <th>rougeL_precision_iqr</th>\n",
       "      <th>bert-score_recall_med</th>\n",
       "      <th>bert-score_recall_iqr</th>\n",
       "      <th>bert-score_precision_med</th>\n",
       "      <th>bert-score_precision_iqr</th>\n",
       "    </tr>\n",
       "  </thead>\n",
       "  <tbody>\n",
       "    <tr>\n",
       "      <th>2</th>\n",
       "      <td>Nursing</td>\n",
       "      <td>Nursing Transfer Note</td>\n",
       "      <td>0.872569</td>\n",
       "      <td>0.997854</td>\n",
       "      <td>0.000000</td>\n",
       "      <td>0.621658</td>\n",
       "      <td>0.000000</td>\n",
       "      <td>0.982755</td>\n",
       "      <td>0.000000</td>\n",
       "      <td>0.744808</td>\n",
       "      <td>0.000000</td>\n",
       "    </tr>\n",
       "    <tr>\n",
       "      <th>3</th>\n",
       "      <td>Nutrition</td>\n",
       "      <td>Clinical Nutrition Note</td>\n",
       "      <td>0.154612</td>\n",
       "      <td>0.921967</td>\n",
       "      <td>0.323136</td>\n",
       "      <td>0.523822</td>\n",
       "      <td>0.138380</td>\n",
       "      <td>0.916548</td>\n",
       "      <td>0.203272</td>\n",
       "      <td>0.601892</td>\n",
       "      <td>0.248073</td>\n",
       "    </tr>\n",
       "    <tr>\n",
       "      <th>4</th>\n",
       "      <td>Physician</td>\n",
       "      <td>Intensivist Note</td>\n",
       "      <td>0.234087</td>\n",
       "      <td>0.651907</td>\n",
       "      <td>0.127212</td>\n",
       "      <td>0.692593</td>\n",
       "      <td>0.118770</td>\n",
       "      <td>0.857477</td>\n",
       "      <td>0.060351</td>\n",
       "      <td>0.853575</td>\n",
       "      <td>0.046447</td>\n",
       "    </tr>\n",
       "    <tr>\n",
       "      <th>1</th>\n",
       "      <td>Nursing</td>\n",
       "      <td>Nursing Progress Note</td>\n",
       "      <td>0.440298</td>\n",
       "      <td>0.632599</td>\n",
       "      <td>0.675619</td>\n",
       "      <td>0.666618</td>\n",
       "      <td>0.682953</td>\n",
       "      <td>0.701072</td>\n",
       "      <td>0.424521</td>\n",
       "      <td>0.730515</td>\n",
       "      <td>0.501814</td>\n",
       "    </tr>\n",
       "    <tr>\n",
       "      <th>5</th>\n",
       "      <td>Radiology</td>\n",
       "      <td>CHEST (PORTABLE AP)</td>\n",
       "      <td>0.088830</td>\n",
       "      <td>0.417902</td>\n",
       "      <td>0.021350</td>\n",
       "      <td>0.540940</td>\n",
       "      <td>0.270825</td>\n",
       "      <td>0.791767</td>\n",
       "      <td>0.009032</td>\n",
       "      <td>0.827279</td>\n",
       "      <td>0.074302</td>\n",
       "    </tr>\n",
       "    <tr>\n",
       "      <th>6</th>\n",
       "      <td>Radiology</td>\n",
       "      <td>CT HEAD W/O CONTRAST</td>\n",
       "      <td>0.088893</td>\n",
       "      <td>0.411212</td>\n",
       "      <td>0.231364</td>\n",
       "      <td>0.399956</td>\n",
       "      <td>0.201956</td>\n",
       "      <td>0.755250</td>\n",
       "      <td>0.107351</td>\n",
       "      <td>0.772630</td>\n",
       "      <td>0.083226</td>\n",
       "    </tr>\n",
       "    <tr>\n",
       "      <th>7</th>\n",
       "      <td>Social Work</td>\n",
       "      <td>Social Work Progress Note</td>\n",
       "      <td>0.073434</td>\n",
       "      <td>0.383871</td>\n",
       "      <td>0.000000</td>\n",
       "      <td>0.162568</td>\n",
       "      <td>0.000000</td>\n",
       "      <td>0.702947</td>\n",
       "      <td>0.000000</td>\n",
       "      <td>0.552549</td>\n",
       "      <td>0.000000</td>\n",
       "    </tr>\n",
       "    <tr>\n",
       "      <th>0</th>\n",
       "      <td>ECG</td>\n",
       "      <td>Report</td>\n",
       "      <td>0.186325</td>\n",
       "      <td>0.331579</td>\n",
       "      <td>0.167044</td>\n",
       "      <td>0.231640</td>\n",
       "      <td>0.159380</td>\n",
       "      <td>0.569639</td>\n",
       "      <td>0.144755</td>\n",
       "      <td>0.428310</td>\n",
       "      <td>0.057963</td>\n",
       "    </tr>\n",
       "  </tbody>\n",
       "</table>\n",
       "</div>"
      ],
      "text/plain": [
       "      category                description  avg_diff_ratio  rougeL_recall_med  \\\n",
       "2      Nursing      Nursing Transfer Note        0.872569           0.997854   \n",
       "3    Nutrition    Clinical Nutrition Note        0.154612           0.921967   \n",
       "4   Physician            Intensivist Note        0.234087           0.651907   \n",
       "1      Nursing      Nursing Progress Note        0.440298           0.632599   \n",
       "5    Radiology        CHEST (PORTABLE AP)        0.088830           0.417902   \n",
       "6    Radiology       CT HEAD W/O CONTRAST        0.088893           0.411212   \n",
       "7  Social Work  Social Work Progress Note        0.073434           0.383871   \n",
       "0          ECG                     Report        0.186325           0.331579   \n",
       "\n",
       "   rougeL_recall_iqr  rougeL_precision_med  rougeL_precision_iqr  \\\n",
       "2           0.000000              0.621658              0.000000   \n",
       "3           0.323136              0.523822              0.138380   \n",
       "4           0.127212              0.692593              0.118770   \n",
       "1           0.675619              0.666618              0.682953   \n",
       "5           0.021350              0.540940              0.270825   \n",
       "6           0.231364              0.399956              0.201956   \n",
       "7           0.000000              0.162568              0.000000   \n",
       "0           0.167044              0.231640              0.159380   \n",
       "\n",
       "   bert-score_recall_med  bert-score_recall_iqr  bert-score_precision_med  \\\n",
       "2               0.982755               0.000000                  0.744808   \n",
       "3               0.916548               0.203272                  0.601892   \n",
       "4               0.857477               0.060351                  0.853575   \n",
       "1               0.701072               0.424521                  0.730515   \n",
       "5               0.791767               0.009032                  0.827279   \n",
       "6               0.755250               0.107351                  0.772630   \n",
       "7               0.702947               0.000000                  0.552549   \n",
       "0               0.569639               0.144755                  0.428310   \n",
       "\n",
       "   bert-score_precision_iqr  \n",
       "2                  0.000000  \n",
       "3                  0.248073  \n",
       "4                  0.046447  \n",
       "1                  0.501814  \n",
       "5                  0.074302  \n",
       "6                  0.083226  \n",
       "7                  0.000000  \n",
       "0                  0.057963  "
      ]
     },
     "execution_count": 400,
     "metadata": {},
     "output_type": "execute_result"
    }
   ],
   "source": [
    "scores.sort_values(['rougeL_recall_med', 'rougeL_precision_med'], ascending=[False, True])"
   ]
  },
  {
   "cell_type": "code",
   "execution_count": 402,
   "metadata": {},
   "outputs": [
    {
     "data": {
      "text/html": [
       "<div>\n",
       "<style scoped>\n",
       "    .dataframe tbody tr th:only-of-type {\n",
       "        vertical-align: middle;\n",
       "    }\n",
       "\n",
       "    .dataframe tbody tr th {\n",
       "        vertical-align: top;\n",
       "    }\n",
       "\n",
       "    .dataframe thead th {\n",
       "        text-align: right;\n",
       "    }\n",
       "</style>\n",
       "<table border=\"1\" class=\"dataframe\">\n",
       "  <thead>\n",
       "    <tr style=\"text-align: right;\">\n",
       "      <th></th>\n",
       "      <th>category</th>\n",
       "      <th>description</th>\n",
       "      <th>avg_diff_ratio</th>\n",
       "      <th>rougeL_recall_med</th>\n",
       "      <th>rougeL_recall_iqr</th>\n",
       "      <th>rougeL_precision_med</th>\n",
       "      <th>rougeL_precision_iqr</th>\n",
       "      <th>bert-score_recall_med</th>\n",
       "      <th>bert-score_recall_iqr</th>\n",
       "      <th>bert-score_precision_med</th>\n",
       "      <th>bert-score_precision_iqr</th>\n",
       "    </tr>\n",
       "  </thead>\n",
       "  <tbody>\n",
       "    <tr>\n",
       "      <th>2</th>\n",
       "      <td>Nursing</td>\n",
       "      <td>Nursing Transfer Note</td>\n",
       "      <td>0.872569</td>\n",
       "      <td>0.997854</td>\n",
       "      <td>0.000000</td>\n",
       "      <td>0.621658</td>\n",
       "      <td>0.000000</td>\n",
       "      <td>0.982755</td>\n",
       "      <td>0.000000</td>\n",
       "      <td>0.744808</td>\n",
       "      <td>0.000000</td>\n",
       "    </tr>\n",
       "    <tr>\n",
       "      <th>3</th>\n",
       "      <td>Nutrition</td>\n",
       "      <td>Clinical Nutrition Note</td>\n",
       "      <td>0.154612</td>\n",
       "      <td>0.921967</td>\n",
       "      <td>0.323136</td>\n",
       "      <td>0.523822</td>\n",
       "      <td>0.138380</td>\n",
       "      <td>0.916548</td>\n",
       "      <td>0.203272</td>\n",
       "      <td>0.601892</td>\n",
       "      <td>0.248073</td>\n",
       "    </tr>\n",
       "    <tr>\n",
       "      <th>4</th>\n",
       "      <td>Physician</td>\n",
       "      <td>Intensivist Note</td>\n",
       "      <td>0.234087</td>\n",
       "      <td>0.651907</td>\n",
       "      <td>0.127212</td>\n",
       "      <td>0.692593</td>\n",
       "      <td>0.118770</td>\n",
       "      <td>0.857477</td>\n",
       "      <td>0.060351</td>\n",
       "      <td>0.853575</td>\n",
       "      <td>0.046447</td>\n",
       "    </tr>\n",
       "    <tr>\n",
       "      <th>5</th>\n",
       "      <td>Radiology</td>\n",
       "      <td>CHEST (PORTABLE AP)</td>\n",
       "      <td>0.088830</td>\n",
       "      <td>0.417902</td>\n",
       "      <td>0.021350</td>\n",
       "      <td>0.540940</td>\n",
       "      <td>0.270825</td>\n",
       "      <td>0.791767</td>\n",
       "      <td>0.009032</td>\n",
       "      <td>0.827279</td>\n",
       "      <td>0.074302</td>\n",
       "    </tr>\n",
       "    <tr>\n",
       "      <th>6</th>\n",
       "      <td>Radiology</td>\n",
       "      <td>CT HEAD W/O CONTRAST</td>\n",
       "      <td>0.088893</td>\n",
       "      <td>0.411212</td>\n",
       "      <td>0.231364</td>\n",
       "      <td>0.399956</td>\n",
       "      <td>0.201956</td>\n",
       "      <td>0.755250</td>\n",
       "      <td>0.107351</td>\n",
       "      <td>0.772630</td>\n",
       "      <td>0.083226</td>\n",
       "    </tr>\n",
       "    <tr>\n",
       "      <th>7</th>\n",
       "      <td>Social Work</td>\n",
       "      <td>Social Work Progress Note</td>\n",
       "      <td>0.073434</td>\n",
       "      <td>0.383871</td>\n",
       "      <td>0.000000</td>\n",
       "      <td>0.162568</td>\n",
       "      <td>0.000000</td>\n",
       "      <td>0.702947</td>\n",
       "      <td>0.000000</td>\n",
       "      <td>0.552549</td>\n",
       "      <td>0.000000</td>\n",
       "    </tr>\n",
       "    <tr>\n",
       "      <th>1</th>\n",
       "      <td>Nursing</td>\n",
       "      <td>Nursing Progress Note</td>\n",
       "      <td>0.440298</td>\n",
       "      <td>0.632599</td>\n",
       "      <td>0.675619</td>\n",
       "      <td>0.666618</td>\n",
       "      <td>0.682953</td>\n",
       "      <td>0.701072</td>\n",
       "      <td>0.424521</td>\n",
       "      <td>0.730515</td>\n",
       "      <td>0.501814</td>\n",
       "    </tr>\n",
       "    <tr>\n",
       "      <th>0</th>\n",
       "      <td>ECG</td>\n",
       "      <td>Report</td>\n",
       "      <td>0.186325</td>\n",
       "      <td>0.331579</td>\n",
       "      <td>0.167044</td>\n",
       "      <td>0.231640</td>\n",
       "      <td>0.159380</td>\n",
       "      <td>0.569639</td>\n",
       "      <td>0.144755</td>\n",
       "      <td>0.428310</td>\n",
       "      <td>0.057963</td>\n",
       "    </tr>\n",
       "  </tbody>\n",
       "</table>\n",
       "</div>"
      ],
      "text/plain": [
       "      category                description  avg_diff_ratio  rougeL_recall_med  \\\n",
       "2      Nursing      Nursing Transfer Note        0.872569           0.997854   \n",
       "3    Nutrition    Clinical Nutrition Note        0.154612           0.921967   \n",
       "4   Physician            Intensivist Note        0.234087           0.651907   \n",
       "5    Radiology        CHEST (PORTABLE AP)        0.088830           0.417902   \n",
       "6    Radiology       CT HEAD W/O CONTRAST        0.088893           0.411212   \n",
       "7  Social Work  Social Work Progress Note        0.073434           0.383871   \n",
       "1      Nursing      Nursing Progress Note        0.440298           0.632599   \n",
       "0          ECG                     Report        0.186325           0.331579   \n",
       "\n",
       "   rougeL_recall_iqr  rougeL_precision_med  rougeL_precision_iqr  \\\n",
       "2           0.000000              0.621658              0.000000   \n",
       "3           0.323136              0.523822              0.138380   \n",
       "4           0.127212              0.692593              0.118770   \n",
       "5           0.021350              0.540940              0.270825   \n",
       "6           0.231364              0.399956              0.201956   \n",
       "7           0.000000              0.162568              0.000000   \n",
       "1           0.675619              0.666618              0.682953   \n",
       "0           0.167044              0.231640              0.159380   \n",
       "\n",
       "   bert-score_recall_med  bert-score_recall_iqr  bert-score_precision_med  \\\n",
       "2               0.982755               0.000000                  0.744808   \n",
       "3               0.916548               0.203272                  0.601892   \n",
       "4               0.857477               0.060351                  0.853575   \n",
       "5               0.791767               0.009032                  0.827279   \n",
       "6               0.755250               0.107351                  0.772630   \n",
       "7               0.702947               0.000000                  0.552549   \n",
       "1               0.701072               0.424521                  0.730515   \n",
       "0               0.569639               0.144755                  0.428310   \n",
       "\n",
       "   bert-score_precision_iqr  \n",
       "2                  0.000000  \n",
       "3                  0.248073  \n",
       "4                  0.046447  \n",
       "5                  0.074302  \n",
       "6                  0.083226  \n",
       "7                  0.000000  \n",
       "1                  0.501814  \n",
       "0                  0.057963  "
      ]
     },
     "execution_count": 402,
     "metadata": {},
     "output_type": "execute_result"
    }
   ],
   "source": [
    "scores.sort_values(['bert-score_recall_med', 'bert-score_precision_med'], ascending=[False, True])"
   ]
  },
  {
   "cell_type": "code",
   "execution_count": null,
   "metadata": {},
   "outputs": [],
   "source": [
    "# sort and re-rank, set of documents, extract phenotypes to test how excluding \n",
    "# the set of redundant document effects phenotype extraction??"
   ]
  },
  {
   "cell_type": "code",
   "execution_count": null,
   "metadata": {},
   "outputs": [],
   "source": [
    "# plots between max / min... as things progress... - heavy bias between how the clinician records the notes..\n",
    "# "
   ]
  },
  {
   "cell_type": "code",
   "execution_count": 479,
   "metadata": {},
   "outputs": [],
   "source": [
    "avgs = compute_avgs(more_notes_results_df)"
   ]
  },
  {
   "cell_type": "code",
   "execution_count": 495,
   "metadata": {},
   "outputs": [
    {
     "data": {
      "text/html": [
       "<div>\n",
       "<style scoped>\n",
       "    .dataframe tbody tr th:only-of-type {\n",
       "        vertical-align: middle;\n",
       "    }\n",
       "\n",
       "    .dataframe tbody tr th {\n",
       "        vertical-align: top;\n",
       "    }\n",
       "\n",
       "    .dataframe thead th {\n",
       "        text-align: right;\n",
       "    }\n",
       "</style>\n",
       "<table border=\"1\" class=\"dataframe\">\n",
       "  <thead>\n",
       "    <tr style=\"text-align: right;\">\n",
       "      <th></th>\n",
       "      <th>cat_desc</th>\n",
       "      <th>micro_avg</th>\n",
       "      <th>rg_rec_avg</th>\n",
       "      <th>rg_prec_avg</th>\n",
       "      <th>bs_rec_avg</th>\n",
       "      <th>bs_prec_avg</th>\n",
       "    </tr>\n",
       "  </thead>\n",
       "  <tbody>\n",
       "    <tr>\n",
       "      <th>0</th>\n",
       "      <td>Nursing:Nursing Progress Note</td>\n",
       "      <td>0.227994</td>\n",
       "      <td>0.345551</td>\n",
       "      <td>0.348121</td>\n",
       "      <td>0.496873</td>\n",
       "      <td>0.494258</td>\n",
       "    </tr>\n",
       "    <tr>\n",
       "      <th>1</th>\n",
       "      <td>Physician :Intensivist Note</td>\n",
       "      <td>0.169265</td>\n",
       "      <td>0.594225</td>\n",
       "      <td>0.597550</td>\n",
       "      <td>0.856726</td>\n",
       "      <td>0.858064</td>\n",
       "    </tr>\n",
       "    <tr>\n",
       "      <th>2</th>\n",
       "      <td>Radiology:CT HEAD W/O CONTRAST</td>\n",
       "      <td>0.084276</td>\n",
       "      <td>0.400569</td>\n",
       "      <td>0.471806</td>\n",
       "      <td>0.732597</td>\n",
       "      <td>0.739952</td>\n",
       "    </tr>\n",
       "    <tr>\n",
       "      <th>3</th>\n",
       "      <td>Nursing:Nursing Transfer Note</td>\n",
       "      <td>0.421328</td>\n",
       "      <td>0.725352</td>\n",
       "      <td>0.545839</td>\n",
       "      <td>0.701177</td>\n",
       "      <td>0.572983</td>\n",
       "    </tr>\n",
       "    <tr>\n",
       "      <th>4</th>\n",
       "      <td>Nutrition:Clinical Nutrition Note</td>\n",
       "      <td>0.278534</td>\n",
       "      <td>0.723751</td>\n",
       "      <td>0.591569</td>\n",
       "      <td>0.789677</td>\n",
       "      <td>0.708747</td>\n",
       "    </tr>\n",
       "  </tbody>\n",
       "</table>\n",
       "</div>"
      ],
      "text/plain": [
       "                            cat_desc  micro_avg  rg_rec_avg  rg_prec_avg  \\\n",
       "0      Nursing:Nursing Progress Note   0.227994    0.345551     0.348121   \n",
       "1        Physician :Intensivist Note   0.169265    0.594225     0.597550   \n",
       "2     Radiology:CT HEAD W/O CONTRAST   0.084276    0.400569     0.471806   \n",
       "3      Nursing:Nursing Transfer Note   0.421328    0.725352     0.545839   \n",
       "4  Nutrition:Clinical Nutrition Note   0.278534    0.723751     0.591569   \n",
       "\n",
       "   bs_rec_avg  bs_prec_avg  \n",
       "0    0.496873     0.494258  \n",
       "1    0.856726     0.858064  \n",
       "2    0.732597     0.739952  \n",
       "3    0.701177     0.572983  \n",
       "4    0.789677     0.708747  "
      ]
     },
     "execution_count": 495,
     "metadata": {},
     "output_type": "execute_result"
    }
   ],
   "source": [
    "avgs.loc[:, ['cat_desc', 'micro_avg', 'rg_rec_avg', 'rg_prec_avg', 'bs_rec_avg', 'bs_prec_avg']]"
   ]
  },
  {
   "cell_type": "code",
   "execution_count": null,
   "metadata": {},
   "outputs": [],
   "source": []
  },
  {
   "cell_type": "code",
   "execution_count": null,
   "metadata": {},
   "outputs": [],
   "source": []
  },
  {
   "cell_type": "markdown",
   "metadata": {},
   "source": [
    "### Compare Discharge Summary to last note types via Summarisation Metrics\n",
    "- recall will likely be low, but any non-zero ness is potentially interesting\n",
    "- do neural methods work at all here??"
   ]
  },
  {
   "cell_type": "code",
   "execution_count": null,
   "metadata": {},
   "outputs": [],
   "source": [
    "# only take last note...? Or take all notes of each category\n",
    "#"
   ]
  },
  {
   "cell_type": "code",
   "execution_count": 502,
   "metadata": {},
   "outputs": [
    {
     "name": "stdout",
     "output_type": "stream",
     "text": [
      "2021-01-15 00:19:26,721: Removing /Users/tom/.cache/huggingface/metrics/rouge/default/default_experiment-1-0.arrow\n"
     ]
    },
    {
     "data": {
      "text/plain": [
       "[Score(precision=0.3333333333333333, recall=1.0, fmeasure=0.5),\n",
       " Score(precision=0.3333333333333333, recall=1.0, fmeasure=0.5)]"
      ]
     },
     "execution_count": 502,
     "metadata": {},
     "output_type": "execute_result"
    }
   ],
   "source": [
    "rouge_metric.compute(rouge_types=['rougeL'], use_agregator=False)['rougeL']"
   ]
  },
  {
   "cell_type": "code",
   "execution_count": 11,
   "metadata": {},
   "outputs": [],
   "source": [
    "def calc_diff_metrics(ds: str, prev_notes: dict):\n",
    "    # calc diff between \n",
    "    rouge_metric = load_metric('rouge')\n",
    "    bert_metric = load_metric('bertscore')\n",
    "    output = defaultdict(list)\n",
    "    for k, note_text in prev_notes.items():\n",
    "        ratio, std_dev, max_ratio, min_ratio, redundant_toks_len, total_toks = diff_ratio(ds, note_text)\n",
    "        output['ratio'].append(ratio)\n",
    "        output['cat_desc'].append(':'.join(k))\n",
    "        rouge_metric.add(prediction=ds, reference=note_text)\n",
    "        bert_metric.add(prediction=ds, reference=note_text)\n",
    "#     bert_scores = bert_metric.compute(lang='en', rescale_with_baseline=True, model_type='xlnet-base-cased')\n",
    "#     output['bs_prec'].extend(bert_scores.precision)\n",
    "#     output['bs_rec'].extend(bert_scores.recall)\n",
    "    rougeL = rouge_metric.compute(rouge_types=['rougeL'], use_agregator=False)['rougeL']\n",
    "    output['rg_prec'].extend([s.precision for s in rougeL])\n",
    "    output['rg_rec'].extend([s.recall for s in rougeL])\n",
    "    return pd.DataFrame(output)\n",
    "    \n",
    "def calc_discharge_summary_redundancy(notes: pd.DataFrame):\n",
    "    summaries = notes[notes.category == 'Discharge summary'].loc[:, ['hadm_id', 'text']]\n",
    "    ds_diffs = []\n",
    "    for r in summaries.itertuples():\n",
    "        hadm_notes = notes[(notes.hadm_id == r.hadm_id) & (notes.category != 'Discharge summary')]\n",
    "        last_notes_per_type = {}\n",
    "        for k, df_g in hadm_notes.groupby(['category', 'description']):\n",
    "            last_notes_per_type[':'.join(k)] = df_g.text.iloc[-1]\n",
    "        ds_diffs.append(calc_diff_metrics(r.text, last_notes_per_type))\n",
    "    return pd.concat(ds_diffs)"
   ]
  },
  {
   "cell_type": "code",
   "execution_count": 518,
   "metadata": {},
   "outputs": [
    {
     "name": "stdout",
     "output_type": "stream",
     "text": [
      "2021-01-15 00:24:18,249: Removing /Users/tom/.cache/huggingface/metrics/rouge/default/default_experiment-1-0.arrow\n",
      "2021-01-15 00:24:21,168: Removing /Users/tom/.cache/huggingface/metrics/rouge/default/default_experiment-1-0.arrow\n"
     ]
    }
   ],
   "source": [
    "calc_discharge_summary_redundancy(stroke_notes_subset)"
   ]
  },
  {
   "cell_type": "code",
   "execution_count": null,
   "metadata": {},
   "outputs": [],
   "source": []
  },
  {
   "cell_type": "code",
   "execution_count": null,
   "metadata": {},
   "outputs": [],
   "source": []
  },
  {
   "cell_type": "code",
   "execution_count": null,
   "metadata": {},
   "outputs": [],
   "source": []
  },
  {
   "cell_type": "code",
   "execution_count": 38,
   "metadata": {},
   "outputs": [
    {
     "name": "stdout",
     "output_type": "stream",
     "text": [
      "Token level / global note redundancy with concurrent notes:\n"
     ]
    },
    {
     "ename": "NameError",
     "evalue": "name 'results_df' is not defined",
     "output_type": "error",
     "traceback": [
      "\u001b[0;31m---------------------------------------------------------------------------\u001b[0m",
      "\u001b[0;31mNameError\u001b[0m                                 Traceback (most recent call last)",
      "\u001b[0;32m<ipython-input-38-e6218271b972>\u001b[0m in \u001b[0;36m<module>\u001b[0;34m\u001b[0m\n\u001b[1;32m      1\u001b[0m \u001b[0mprint\u001b[0m\u001b[0;34m(\u001b[0m\u001b[0;34m'Token level / global note redundancy with concurrent notes:'\u001b[0m\u001b[0;34m)\u001b[0m\u001b[0;34m\u001b[0m\u001b[0;34m\u001b[0m\u001b[0m\n\u001b[0;32m----> 2\u001b[0;31m \u001b[0mprint\u001b[0m\u001b[0;34m(\u001b[0m\u001b[0;34mf'Overall Average Internote type redundnacy:{results_df.avg_diff_ratio.sum() / results_df.avg_diff_ratio.shape[0]}'\u001b[0m\u001b[0;34m)\u001b[0m\u001b[0;34m\u001b[0m\u001b[0;34m\u001b[0m\u001b[0m\n\u001b[0m",
      "\u001b[0;31mNameError\u001b[0m: name 'results_df' is not defined"
     ]
    }
   ],
   "source": [
    "print('Token level / global note redundancy with concurrent notes:')\n",
    "print(f'Overall Average Internote type redundnacy:{results_df.avg_diff_ratio.sum() / results_df.avg_diff_ratio.shape[0]}')"
   ]
  },
  {
   "cell_type": "markdown",
   "metadata": {},
   "source": [
    "### 43411 Note Analysis"
   ]
  },
  {
   "cell_type": "code",
   "execution_count": 6,
   "metadata": {},
   "outputs": [],
   "source": [
    "stroke_notes = pd.read_csv('../data/43411_notes.csv')"
   ]
  },
  {
   "cell_type": "code",
   "execution_count": 14,
   "metadata": {},
   "outputs": [],
   "source": [
    "stroke_care_notes_df, stroke_discharge_df = split_notes(stroke_notes)"
   ]
  },
  {
   "cell_type": "code",
   "execution_count": 11,
   "metadata": {},
   "outputs": [
    {
     "data": {
      "text/html": [
       "<div>\n",
       "<style scoped>\n",
       "    .dataframe tbody tr th:only-of-type {\n",
       "        vertical-align: middle;\n",
       "    }\n",
       "\n",
       "    .dataframe tbody tr th {\n",
       "        vertical-align: top;\n",
       "    }\n",
       "\n",
       "    .dataframe thead th {\n",
       "        text-align: right;\n",
       "    }\n",
       "</style>\n",
       "<table border=\"1\" class=\"dataframe\">\n",
       "  <thead>\n",
       "    <tr style=\"text-align: right;\">\n",
       "      <th></th>\n",
       "      <th>hadm_id</th>\n",
       "      <th>category</th>\n",
       "      <th>description</th>\n",
       "      <th>avg_diff_ratio</th>\n",
       "      <th>rougeL_rec</th>\n",
       "      <th>rougeL_prec</th>\n",
       "    </tr>\n",
       "  </thead>\n",
       "  <tbody>\n",
       "    <tr>\n",
       "      <th>247</th>\n",
       "      <td>121824</td>\n",
       "      <td>Physician</td>\n",
       "      <td>Physician Resident Admission Note</td>\n",
       "      <td>0.853598</td>\n",
       "      <td>1.000000</td>\n",
       "      <td>0.769582</td>\n",
       "    </tr>\n",
       "    <tr>\n",
       "      <th>98</th>\n",
       "      <td>107913</td>\n",
       "      <td>Physician</td>\n",
       "      <td>Physician Surgical Admission Note</td>\n",
       "      <td>0.996592</td>\n",
       "      <td>1.000000</td>\n",
       "      <td>0.980357</td>\n",
       "    </tr>\n",
       "    <tr>\n",
       "      <th>860</th>\n",
       "      <td>180112</td>\n",
       "      <td>Nursing</td>\n",
       "      <td>Nursing Transfer Note</td>\n",
       "      <td>0.932375</td>\n",
       "      <td>1.000000</td>\n",
       "      <td>0.420744</td>\n",
       "    </tr>\n",
       "    <tr>\n",
       "      <th>450</th>\n",
       "      <td>140761</td>\n",
       "      <td>Physician</td>\n",
       "      <td>Physician Surgical Admission Note</td>\n",
       "      <td>0.999477</td>\n",
       "      <td>1.000000</td>\n",
       "      <td>0.996753</td>\n",
       "    </tr>\n",
       "    <tr>\n",
       "      <th>586</th>\n",
       "      <td>154473</td>\n",
       "      <td>General</td>\n",
       "      <td>Cardiology consult</td>\n",
       "      <td>0.904114</td>\n",
       "      <td>1.000000</td>\n",
       "      <td>0.949074</td>\n",
       "    </tr>\n",
       "    <tr>\n",
       "      <th>...</th>\n",
       "      <td>...</td>\n",
       "      <td>...</td>\n",
       "      <td>...</td>\n",
       "      <td>...</td>\n",
       "      <td>...</td>\n",
       "      <td>...</td>\n",
       "    </tr>\n",
       "    <tr>\n",
       "      <th>1079</th>\n",
       "      <td>195985</td>\n",
       "      <td>Nursing/other</td>\n",
       "      <td>Report</td>\n",
       "      <td>0.035890</td>\n",
       "      <td>0.073285</td>\n",
       "      <td>0.183257</td>\n",
       "    </tr>\n",
       "    <tr>\n",
       "      <th>889</th>\n",
       "      <td>182153</td>\n",
       "      <td>Nursing/other</td>\n",
       "      <td>Report</td>\n",
       "      <td>0.036163</td>\n",
       "      <td>0.066773</td>\n",
       "      <td>0.135223</td>\n",
       "    </tr>\n",
       "    <tr>\n",
       "      <th>799</th>\n",
       "      <td>171903</td>\n",
       "      <td>Nursing/other</td>\n",
       "      <td>Report</td>\n",
       "      <td>0.028571</td>\n",
       "      <td>0.060440</td>\n",
       "      <td>0.180328</td>\n",
       "    </tr>\n",
       "    <tr>\n",
       "      <th>122</th>\n",
       "      <td>109832</td>\n",
       "      <td>Nursing</td>\n",
       "      <td>Nursing Transfer Note</td>\n",
       "      <td>0.037115</td>\n",
       "      <td>0.049407</td>\n",
       "      <td>0.806452</td>\n",
       "    </tr>\n",
       "    <tr>\n",
       "      <th>224</th>\n",
       "      <td>120556</td>\n",
       "      <td>Nutrition</td>\n",
       "      <td>Clinical Nutrition Note</td>\n",
       "      <td>0.021978</td>\n",
       "      <td>0.020619</td>\n",
       "      <td>0.342857</td>\n",
       "    </tr>\n",
       "  </tbody>\n",
       "</table>\n",
       "<p>1135 rows × 6 columns</p>\n",
       "</div>"
      ],
      "text/plain": [
       "      hadm_id       category                        description  \\\n",
       "247    121824     Physician   Physician Resident Admission Note   \n",
       "98     107913     Physician   Physician Surgical Admission Note   \n",
       "860    180112        Nursing              Nursing Transfer Note   \n",
       "450    140761     Physician   Physician Surgical Admission Note   \n",
       "586    154473        General                 Cardiology consult   \n",
       "...       ...            ...                                ...   \n",
       "1079   195985  Nursing/other                             Report   \n",
       "889    182153  Nursing/other                             Report   \n",
       "799    171903  Nursing/other                             Report   \n",
       "122    109832        Nursing              Nursing Transfer Note   \n",
       "224    120556      Nutrition            Clinical Nutrition Note   \n",
       "\n",
       "      avg_diff_ratio  rougeL_rec  rougeL_prec  \n",
       "247         0.853598    1.000000     0.769582  \n",
       "98          0.996592    1.000000     0.980357  \n",
       "860         0.932375    1.000000     0.420744  \n",
       "450         0.999477    1.000000     0.996753  \n",
       "586         0.904114    1.000000     0.949074  \n",
       "...              ...         ...          ...  \n",
       "1079        0.035890    0.073285     0.183257  \n",
       "889         0.036163    0.066773     0.135223  \n",
       "799         0.028571    0.060440     0.180328  \n",
       "122         0.037115    0.049407     0.806452  \n",
       "224         0.021978    0.020619     0.342857  \n",
       "\n",
       "[1135 rows x 6 columns]"
      ]
     },
     "execution_count": 11,
     "metadata": {},
     "output_type": "execute_result"
    }
   ],
   "source": [
    "comp_metrics.sort_values('rougeL_rec', ascending=False)"
   ]
  },
  {
   "cell_type": "code",
   "execution_count": 22,
   "metadata": {},
   "outputs": [
    {
     "data": {
      "text/plain": [
       "array(['Nursing', 'Physician ', 'Rehab Services', 'Nutrition',\n",
       "       'Respiratory ', 'Social Work', 'General', 'Radiology',\n",
       "       'Nursing/other', 'Discharge summary', 'Echo', 'ECG', 'Pharmacy',\n",
       "       'Case Management '], dtype=object)"
      ]
     },
     "execution_count": 22,
     "metadata": {},
     "output_type": "execute_result"
    }
   ],
   "source": [
    "stroke_notes.category.unique()"
   ]
  },
  {
   "cell_type": "code",
   "execution_count": 30,
   "metadata": {},
   "outputs": [],
   "source": [
    "texts = stroke_notes[(stroke_notes.hadm_id == 121824) & (stroke_notes.category == 'Physician ') & (stroke_notes.description == 'Physician Resident Admission Note')].text.tolist()"
   ]
  },
  {
   "cell_type": "code",
   "execution_count": null,
   "metadata": {},
   "outputs": [],
   "source": []
  },
  {
   "cell_type": "code",
   "execution_count": null,
   "metadata": {},
   "outputs": [],
   "source": []
  },
  {
   "cell_type": "code",
   "execution_count": 45,
   "metadata": {},
   "outputs": [],
   "source": [
    "group_avgs = compute_avgs(results_df)"
   ]
  },
  {
   "cell_type": "code",
   "execution_count": 46,
   "metadata": {},
   "outputs": [],
   "source": [
    "group_avgs['redundant_ratio'] = group_avgs['redundant_toks'] / group_avgs.total_toks"
   ]
  },
  {
   "cell_type": "code",
   "execution_count": 47,
   "metadata": {},
   "outputs": [
    {
     "data": {
      "text/html": [
       "<div>\n",
       "<style scoped>\n",
       "    .dataframe tbody tr th:only-of-type {\n",
       "        vertical-align: middle;\n",
       "    }\n",
       "\n",
       "    .dataframe tbody tr th {\n",
       "        vertical-align: top;\n",
       "    }\n",
       "\n",
       "    .dataframe thead th {\n",
       "        text-align: right;\n",
       "    }\n",
       "</style>\n",
       "<table border=\"1\" class=\"dataframe\">\n",
       "  <thead>\n",
       "    <tr style=\"text-align: right;\">\n",
       "      <th></th>\n",
       "      <th>cat_desc</th>\n",
       "      <th>redundant_toks</th>\n",
       "      <th>total_toks</th>\n",
       "      <th>avg_txt_len</th>\n",
       "      <th>macro_avg</th>\n",
       "      <th>micro_avg</th>\n",
       "      <th>num_instances</th>\n",
       "      <th>redundant_ratio</th>\n",
       "    </tr>\n",
       "  </thead>\n",
       "  <tbody>\n",
       "    <tr>\n",
       "      <th>0</th>\n",
       "      <td>Physician :Physician Resident Admission Note</td>\n",
       "      <td>28842.0</td>\n",
       "      <td>33109</td>\n",
       "      <td>12525.819048</td>\n",
       "      <td>0.856518</td>\n",
       "      <td>0.809448</td>\n",
       "      <td>19</td>\n",
       "      <td>0.871123</td>\n",
       "    </tr>\n",
       "    <tr>\n",
       "      <th>1</th>\n",
       "      <td>Physician :Physician Surgical Progress Note</td>\n",
       "      <td>3181.0</td>\n",
       "      <td>4347</td>\n",
       "      <td>5587.000000</td>\n",
       "      <td>0.809635</td>\n",
       "      <td>0.764214</td>\n",
       "      <td>7</td>\n",
       "      <td>0.731769</td>\n",
       "    </tr>\n",
       "    <tr>\n",
       "      <th>2</th>\n",
       "      <td>Physician :Physician Attending Progress Note</td>\n",
       "      <td>14380.0</td>\n",
       "      <td>21148</td>\n",
       "      <td>5941.186706</td>\n",
       "      <td>0.532457</td>\n",
       "      <td>0.536417</td>\n",
       "      <td>31</td>\n",
       "      <td>0.679970</td>\n",
       "    </tr>\n",
       "    <tr>\n",
       "      <th>3</th>\n",
       "      <td>Physician :Intensivist Note</td>\n",
       "      <td>100737.0</td>\n",
       "      <td>159909</td>\n",
       "      <td>5958.690231</td>\n",
       "      <td>0.691003</td>\n",
       "      <td>0.639584</td>\n",
       "      <td>211</td>\n",
       "      <td>0.629965</td>\n",
       "    </tr>\n",
       "    <tr>\n",
       "      <th>4</th>\n",
       "      <td>Respiratory :Respiratory Care Shift Note</td>\n",
       "      <td>7263.0</td>\n",
       "      <td>12124</td>\n",
       "      <td>1230.545915</td>\n",
       "      <td>0.404803</td>\n",
       "      <td>0.443782</td>\n",
       "      <td>79</td>\n",
       "      <td>0.599060</td>\n",
       "    </tr>\n",
       "    <tr>\n",
       "      <th>5</th>\n",
       "      <td>Nursing:Nursing Transfer Note</td>\n",
       "      <td>30799.0</td>\n",
       "      <td>53260</td>\n",
       "      <td>2230.841242</td>\n",
       "      <td>0.598621</td>\n",
       "      <td>0.550831</td>\n",
       "      <td>159</td>\n",
       "      <td>0.578276</td>\n",
       "    </tr>\n",
       "    <tr>\n",
       "      <th>6</th>\n",
       "      <td>Physician :Physician Resident Progress Note</td>\n",
       "      <td>40675.0</td>\n",
       "      <td>73517</td>\n",
       "      <td>6890.886364</td>\n",
       "      <td>0.551072</td>\n",
       "      <td>0.467104</td>\n",
       "      <td>94</td>\n",
       "      <td>0.553273</td>\n",
       "    </tr>\n",
       "    <tr>\n",
       "      <th>7</th>\n",
       "      <td>Nursing:Nursing Progress Note</td>\n",
       "      <td>64447.0</td>\n",
       "      <td>136297</td>\n",
       "      <td>1291.039215</td>\n",
       "      <td>0.442277</td>\n",
       "      <td>0.419754</td>\n",
       "      <td>620</td>\n",
       "      <td>0.472842</td>\n",
       "    </tr>\n",
       "    <tr>\n",
       "      <th>8</th>\n",
       "      <td>Radiology:PORTABLE ABDOMEN</td>\n",
       "      <td>923.0</td>\n",
       "      <td>2992</td>\n",
       "      <td>1084.420513</td>\n",
       "      <td>0.274080</td>\n",
       "      <td>0.259291</td>\n",
       "      <td>23</td>\n",
       "      <td>0.308489</td>\n",
       "    </tr>\n",
       "    <tr>\n",
       "      <th>9</th>\n",
       "      <td>Radiology:CHEST PORT. LINE PLACEMENT</td>\n",
       "      <td>1237.0</td>\n",
       "      <td>4903</td>\n",
       "      <td>1240.143860</td>\n",
       "      <td>0.203611</td>\n",
       "      <td>0.219498</td>\n",
       "      <td>34</td>\n",
       "      <td>0.252295</td>\n",
       "    </tr>\n",
       "    <tr>\n",
       "      <th>10</th>\n",
       "      <td>Nutrition:Clinical Nutrition Note</td>\n",
       "      <td>1907.0</td>\n",
       "      <td>7893</td>\n",
       "      <td>2573.938462</td>\n",
       "      <td>0.135038</td>\n",
       "      <td>0.150969</td>\n",
       "      <td>23</td>\n",
       "      <td>0.241606</td>\n",
       "    </tr>\n",
       "    <tr>\n",
       "      <th>11</th>\n",
       "      <td>Radiology:CHEST (PA &amp; LAT)</td>\n",
       "      <td>356.0</td>\n",
       "      <td>1512</td>\n",
       "      <td>1208.121212</td>\n",
       "      <td>0.151395</td>\n",
       "      <td>0.147700</td>\n",
       "      <td>12</td>\n",
       "      <td>0.235450</td>\n",
       "    </tr>\n",
       "    <tr>\n",
       "      <th>12</th>\n",
       "      <td>Radiology:CHEST (PORTABLE AP)</td>\n",
       "      <td>26063.0</td>\n",
       "      <td>113265</td>\n",
       "      <td>1171.532585</td>\n",
       "      <td>0.185413</td>\n",
       "      <td>0.188866</td>\n",
       "      <td>837</td>\n",
       "      <td>0.230106</td>\n",
       "    </tr>\n",
       "    <tr>\n",
       "      <th>13</th>\n",
       "      <td>ECG:Report</td>\n",
       "      <td>3664.0</td>\n",
       "      <td>16233</td>\n",
       "      <td>223.494057</td>\n",
       "      <td>0.321421</td>\n",
       "      <td>0.319381</td>\n",
       "      <td>512</td>\n",
       "      <td>0.225713</td>\n",
       "    </tr>\n",
       "    <tr>\n",
       "      <th>14</th>\n",
       "      <td>Echo:Report</td>\n",
       "      <td>5402.0</td>\n",
       "      <td>26459</td>\n",
       "      <td>2524.776515</td>\n",
       "      <td>0.202008</td>\n",
       "      <td>0.197195</td>\n",
       "      <td>77</td>\n",
       "      <td>0.204165</td>\n",
       "    </tr>\n",
       "    <tr>\n",
       "      <th>15</th>\n",
       "      <td>Radiology:MR HEAD W/O CONTRAST</td>\n",
       "      <td>3433.0</td>\n",
       "      <td>18228</td>\n",
       "      <td>2300.468085</td>\n",
       "      <td>0.177119</td>\n",
       "      <td>0.178997</td>\n",
       "      <td>48</td>\n",
       "      <td>0.188337</td>\n",
       "    </tr>\n",
       "    <tr>\n",
       "      <th>16</th>\n",
       "      <td>Radiology:CT HEAD W/O CONTRAST</td>\n",
       "      <td>14838.0</td>\n",
       "      <td>90085</td>\n",
       "      <td>1918.349546</td>\n",
       "      <td>0.148847</td>\n",
       "      <td>0.149810</td>\n",
       "      <td>373</td>\n",
       "      <td>0.164711</td>\n",
       "    </tr>\n",
       "    <tr>\n",
       "      <th>17</th>\n",
       "      <td>Radiology:MR HEAD W &amp; W/O CONTRAST</td>\n",
       "      <td>494.0</td>\n",
       "      <td>3188</td>\n",
       "      <td>2696.861111</td>\n",
       "      <td>0.161859</td>\n",
       "      <td>0.158945</td>\n",
       "      <td>7</td>\n",
       "      <td>0.154956</td>\n",
       "    </tr>\n",
       "    <tr>\n",
       "      <th>18</th>\n",
       "      <td>Radiology:BY DIFFERENT PHYSICIAN</td>\n",
       "      <td>218.0</td>\n",
       "      <td>1542</td>\n",
       "      <td>1365.694444</td>\n",
       "      <td>0.138657</td>\n",
       "      <td>0.131175</td>\n",
       "      <td>9</td>\n",
       "      <td>0.141375</td>\n",
       "    </tr>\n",
       "    <tr>\n",
       "      <th>19</th>\n",
       "      <td>Nursing/other:Report</td>\n",
       "      <td>6334.0</td>\n",
       "      <td>298384</td>\n",
       "      <td>1011.361172</td>\n",
       "      <td>0.061062</td>\n",
       "      <td>0.068108</td>\n",
       "      <td>1889</td>\n",
       "      <td>0.021228</td>\n",
       "    </tr>\n",
       "  </tbody>\n",
       "</table>\n",
       "</div>"
      ],
      "text/plain": [
       "                                        cat_desc  redundant_toks  total_toks  \\\n",
       "0   Physician :Physician Resident Admission Note         28842.0       33109   \n",
       "1    Physician :Physician Surgical Progress Note          3181.0        4347   \n",
       "2   Physician :Physician Attending Progress Note         14380.0       21148   \n",
       "3                    Physician :Intensivist Note        100737.0      159909   \n",
       "4       Respiratory :Respiratory Care Shift Note          7263.0       12124   \n",
       "5                  Nursing:Nursing Transfer Note         30799.0       53260   \n",
       "6    Physician :Physician Resident Progress Note         40675.0       73517   \n",
       "7                  Nursing:Nursing Progress Note         64447.0      136297   \n",
       "8                     Radiology:PORTABLE ABDOMEN           923.0        2992   \n",
       "9           Radiology:CHEST PORT. LINE PLACEMENT          1237.0        4903   \n",
       "10             Nutrition:Clinical Nutrition Note          1907.0        7893   \n",
       "11                    Radiology:CHEST (PA & LAT)           356.0        1512   \n",
       "12                 Radiology:CHEST (PORTABLE AP)         26063.0      113265   \n",
       "13                                    ECG:Report          3664.0       16233   \n",
       "14                                   Echo:Report          5402.0       26459   \n",
       "15                Radiology:MR HEAD W/O CONTRAST          3433.0       18228   \n",
       "16                Radiology:CT HEAD W/O CONTRAST         14838.0       90085   \n",
       "17            Radiology:MR HEAD W & W/O CONTRAST           494.0        3188   \n",
       "18              Radiology:BY DIFFERENT PHYSICIAN           218.0        1542   \n",
       "19                          Nursing/other:Report          6334.0      298384   \n",
       "\n",
       "     avg_txt_len  macro_avg  micro_avg  num_instances  redundant_ratio  \n",
       "0   12525.819048   0.856518   0.809448             19         0.871123  \n",
       "1    5587.000000   0.809635   0.764214              7         0.731769  \n",
       "2    5941.186706   0.532457   0.536417             31         0.679970  \n",
       "3    5958.690231   0.691003   0.639584            211         0.629965  \n",
       "4    1230.545915   0.404803   0.443782             79         0.599060  \n",
       "5    2230.841242   0.598621   0.550831            159         0.578276  \n",
       "6    6890.886364   0.551072   0.467104             94         0.553273  \n",
       "7    1291.039215   0.442277   0.419754            620         0.472842  \n",
       "8    1084.420513   0.274080   0.259291             23         0.308489  \n",
       "9    1240.143860   0.203611   0.219498             34         0.252295  \n",
       "10   2573.938462   0.135038   0.150969             23         0.241606  \n",
       "11   1208.121212   0.151395   0.147700             12         0.235450  \n",
       "12   1171.532585   0.185413   0.188866            837         0.230106  \n",
       "13    223.494057   0.321421   0.319381            512         0.225713  \n",
       "14   2524.776515   0.202008   0.197195             77         0.204165  \n",
       "15   2300.468085   0.177119   0.178997             48         0.188337  \n",
       "16   1918.349546   0.148847   0.149810            373         0.164711  \n",
       "17   2696.861111   0.161859   0.158945              7         0.154956  \n",
       "18   1365.694444   0.138657   0.131175              9         0.141375  \n",
       "19   1011.361172   0.061062   0.068108           1889         0.021228  "
      ]
     },
     "execution_count": 47,
     "metadata": {},
     "output_type": "execute_result"
    }
   ],
   "source": [
    "group_avgs.sort_values('redundant_ratio', ascending=False).reset_index(drop=True).head(20)"
   ]
  },
  {
   "cell_type": "code",
   "execution_count": 91,
   "metadata": {},
   "outputs": [
    {
     "name": "stdout",
     "output_type": "stream",
     "text": [
      "2021-01-07 10:30:29,573: Removing /Users/tom/.cache/huggingface/metrics/rouge/default/default_experiment-1-0.arrow\n"
     ]
    }
   ],
   "source": [
    "pt = stroke_notes[stroke_notes.hadm_id == 195402]"
   ]
  },
  {
   "cell_type": "code",
   "execution_count": 100,
   "metadata": {},
   "outputs": [],
   "source": [
    "pt_nurs_notes = pt[pt.description == 'Nursing Progress Note']"
   ]
  },
  {
   "cell_type": "code",
   "execution_count": 125,
   "metadata": {},
   "outputs": [],
   "source": [
    "def single_group_ratios(pt):\n",
    "    internote_sort_cols = ['hadm_id', 'chartdate', 'charttime', 'category', 'description']\n",
    "    internote_group_keys = ['hadm_id', 'category', 'description']\n",
    "    groups_gen = pt.sort_values(internote_sort_cols).groupby(internote_group_keys)\n",
    "    results = defaultdict(list)\n",
    "    metric = load_metric('rouge')\n",
    "    score = None\n",
    "    ratios = []\n",
    "    for k, g in [list(groups_gen)[-1]]:\n",
    "        if g.shape[0] > 1:\n",
    "            for i in range(len(g.text.tolist()) - 1):\n",
    "                metric.add(prediction=g.text.iloc[i], reference=g.text.iloc[i+1])\n",
    "                ratio, std_dev, max_ratio, min_ratio, redundant_toks_len, total_toks = \\\n",
    "                    diff_ratio(g.text.iloc[i], g.text.iloc[i+1])\n",
    "                ratios.append(ratio)\n",
    "            score = metric.compute(rouge_types=['rougeL'])\n",
    "    return ratios, score"
   ]
  },
  {
   "cell_type": "code",
   "execution_count": 126,
   "metadata": {},
   "outputs": [
    {
     "name": "stdout",
     "output_type": "stream",
     "text": [
      "2021-01-07 11:32:03,220: Removing /Users/tom/.cache/huggingface/metrics/rouge/default/default_experiment-1-0.arrow\n"
     ]
    }
   ],
   "source": [
    "ratios, rouge_scores = single_group_ratios(pt_nurs_notes)"
   ]
  },
  {
   "cell_type": "code",
   "execution_count": null,
   "metadata": {},
   "outputs": [],
   "source": []
  },
  {
   "cell_type": "code",
   "execution_count": 48,
   "metadata": {},
   "outputs": [],
   "source": [
    "discharge_notes_df = stroke_discharge_df"
   ]
  },
  {
   "cell_type": "code",
   "execution_count": 94,
   "metadata": {},
   "outputs": [
    {
     "data": {
      "text/plain": [
       "43    SW consulted to participate in family/team mee...\n",
       "34    Team/family meeting to confer on pt\\ns son and...\n",
       "Name: text, dtype: object"
      ]
     },
     "execution_count": 94,
     "metadata": {},
     "output_type": "execute_result"
    }
   ],
   "source": [
    "g.text"
   ]
  },
  {
   "cell_type": "markdown",
   "metadata": {},
   "source": [
    "### Brief Hospital Course Analysis"
   ]
  },
  {
   "cell_type": "code",
   "execution_count": 14,
   "metadata": {},
   "outputs": [],
   "source": [
    "# ptn = re.compile(r'(?<=brief\\shospi§tal\\scourse\\:)(?:.*\\n)+?(?=\\n\\n)', flags=re.I)\n",
    "ptn = re.compile(r'(?<=ospital\\scourse\\:)(?:.*\\n)+?(?=\\n\\n)', flags=re.I)\n",
    "def extract_hospital_course(row):\n",
    "    m = re.search(ptn, row.text)\n",
    "    if m:\n",
    "        return re.split(r'(\\n\\n.*\\:\\n?)', row.text[m.start():m.end()])[0].strip()\n",
    "    return None "
   ]
  },
  {
   "cell_type": "code",
   "execution_count": 27,
   "metadata": {},
   "outputs": [],
   "source": [
    "pmx_ptn = re.compile(r'(?:past\\smedical\\shistory\\:?)\\n?(?:.*\\n)+(?=\\n)')\n",
    "def extract_pmx(row):\n",
    "    m = re.search(pmx_ptn, row.text)\n",
    "    if m:\n",
    "        return re.split(r'(\\n\\n.*\\:\\n?)', row.text[m.start():m.end()])[0].strip()\n",
    "    return None"
   ]
  },
  {
   "cell_type": "code",
   "execution_count": 15,
   "metadata": {},
   "outputs": [],
   "source": [
    "discharge_notes_df['hospital_course_text'] = discharge_notes_df.apply(extract_hospital_course, axis=1)"
   ]
  },
  {
   "cell_type": "code",
   "execution_count": 28,
   "metadata": {},
   "outputs": [],
   "source": [
    "discharge_notes_df['pmx_text'] = discharge_notes_df.apply(extract_hospital_course, axis=1)"
   ]
  },
  {
   "cell_type": "code",
   "execution_count": 25,
   "metadata": {},
   "outputs": [
    {
     "data": {
      "text/plain": [
       "(262, 4)"
      ]
     },
     "execution_count": 25,
     "metadata": {},
     "output_type": "execute_result"
    }
   ],
   "source": [
    "discharge_notes_df[pd.isna(discharge_notes_df.pmx_text)].shape"
   ]
  },
  {
   "cell_type": "code",
   "execution_count": null,
   "metadata": {},
   "outputs": [],
   "source": [
    "print(discharge_notes_df[pd.isna(discharge_notes_df.pmx_text)].text.iloc[1])"
   ]
  },
  {
   "cell_type": "code",
   "execution_count": 150,
   "metadata": {},
   "outputs": [],
   "source": [
    "metric = load_metric('bertscore')"
   ]
  },
  {
   "cell_type": "code",
   "execution_count": null,
   "metadata": {},
   "outputs": [],
   "source": [
    "metric"
   ]
  },
  {
   "cell_type": "code",
   "execution_count": 151,
   "metadata": {},
   "outputs": [],
   "source": [
    "metric.add(prediction=nut_notes.iloc[0], reference=nut_notes.iloc[1])"
   ]
  },
  {
   "cell_type": "code",
   "execution_count": 152,
   "metadata": {},
   "outputs": [
    {
     "name": "stdout",
     "output_type": "stream",
     "text": [
      "2021-01-13 12:30:53,610: Lock 140536987522512 acquired on /Users/tom/.cache/huggingface/transformers/06bdb0f5882dbb833618c81c3b4c996a0c79422fa2c95ffea3827f92fc2dba6b.da982e2e596ec73828dbae86525a1870e513bd63aae5a2dc773ccc840ac5c346.lock\n"
     ]
    },
    {
     "data": {
      "application/vnd.jupyter.widget-view+json": {
       "model_id": "f731d2fbcf54403eb8bf9208d5451f2f",
       "version_major": 2,
       "version_minor": 0
      },
      "text/plain": [
       "HBox(children=(FloatProgress(value=0.0, description='Downloading', max=760.0, style=ProgressStyle(description_…"
      ]
     },
     "metadata": {},
     "output_type": "display_data"
    },
    {
     "name": "stdout",
     "output_type": "stream",
     "text": [
      "\n",
      "2021-01-13 12:30:53,940: Lock 140536987522512 released on /Users/tom/.cache/huggingface/transformers/06bdb0f5882dbb833618c81c3b4c996a0c79422fa2c95ffea3827f92fc2dba6b.da982e2e596ec73828dbae86525a1870e513bd63aae5a2dc773ccc840ac5c346.lock\n",
      "2021-01-13 12:30:54,218: Lock 140537333938576 acquired on /Users/tom/.cache/huggingface/transformers/df73bc9f8d13bf2ea4dab95624895e45a550a0f0a825e41fc25440bf367ee3c8.d93497120e3a865e2970f26abdf7bf375896f97fde8b874b70909592a6c785c9.lock\n"
     ]
    },
    {
     "data": {
      "application/vnd.jupyter.widget-view+json": {
       "model_id": "075801675e7b469a8de961d904d71529",
       "version_major": 2,
       "version_minor": 0
      },
      "text/plain": [
       "HBox(children=(FloatProgress(value=0.0, description='Downloading', max=798011.0, style=ProgressStyle(descripti…"
      ]
     },
     "metadata": {},
     "output_type": "display_data"
    },
    {
     "name": "stdout",
     "output_type": "stream",
     "text": [
      "\n",
      "2021-01-13 12:30:56,199: Lock 140537333938576 released on /Users/tom/.cache/huggingface/transformers/df73bc9f8d13bf2ea4dab95624895e45a550a0f0a825e41fc25440bf367ee3c8.d93497120e3a865e2970f26abdf7bf375896f97fde8b874b70909592a6c785c9.lock\n",
      "2021-01-13 12:30:56,821: Lock 140534691015632 acquired on /Users/tom/.cache/huggingface/transformers/9461853998373b0b2f8ef8011a13b62a2c5f540b2c535ef3ea46ed8a062b16a9.3e214f11a50e9e03eb47535b58522fc3cc11ac67c120a9450f6276de151af987.lock\n"
     ]
    },
    {
     "data": {
      "application/vnd.jupyter.widget-view+json": {
       "model_id": "5b05df1bb7f8498bbdef058ced3a8bf4",
       "version_major": 2,
       "version_minor": 0
      },
      "text/plain": [
       "HBox(children=(FloatProgress(value=0.0, description='Downloading', max=467042463.0, style=ProgressStyle(descri…"
      ]
     },
     "metadata": {},
     "output_type": "display_data"
    },
    {
     "name": "stdout",
     "output_type": "stream",
     "text": [
      "\n",
      "2021-01-13 12:32:41,918: Lock 140534691015632 released on /Users/tom/.cache/huggingface/transformers/9461853998373b0b2f8ef8011a13b62a2c5f540b2c535ef3ea46ed8a062b16a9.3e214f11a50e9e03eb47535b58522fc3cc11ac67c120a9450f6276de151af987.lock\n",
      "2021-01-13 12:32:51,689: Removing /Users/tom/.cache/huggingface/metrics/bert_score/default/default_experiment-1b50ecca-ea05-4abe-b070-60cd6a8343b4-1-0.arrow\n"
     ]
    },
    {
     "data": {
      "text/plain": [
       "{'precision': tensor([0.9828]),\n",
       " 'recall': tensor([0.7448]),\n",
       " 'f1': tensor([0.8541]),\n",
       " 'hashcode': 'xlnet-base-cased_L5_no-idf_version=0.3.7(hug_trans=4.1.1)-rescaled'}"
      ]
     },
     "execution_count": 152,
     "metadata": {},
     "output_type": "execute_result"
    }
   ],
   "source": [
    "metric.compute(lang='en', rescale_with_baseline=True, model_type='xlnet-base-cased')"
   ]
  },
  {
   "cell_type": "code",
   "execution_count": null,
   "metadata": {},
   "outputs": [],
   "source": []
  },
  {
   "cell_type": "code",
   "execution_count": 134,
   "metadata": {},
   "outputs": [
    {
     "data": {
      "text/html": [
       "<div><div style=\"display: inline-block; width: calc(50% - 10px)\">84 year old woman w a history of atrial fibrillation without anticoagulation and pacemaker placement for bradycardia was transferred to the T-SICU for multiple CNS defecits</div><div style=\"width: 20px; display: inline-block\"></div><div style=\"display: inline-block; width: calc(50% - 10px)\">84 year old woman w a history of atrial fibrillation without anticoagulation and pacemaker placement for bradycardia was transferred to the T-SICU for multiple CNS defecits</div><div style=\"display: inline-block; width: calc(50% - 10px)\">The patient was admitted to cardiology on [**2197-7-8**] for a CHF exacerbation with DOE x2 wk</div><div style=\"width: 20px; display: inline-block\"></div><div style=\"display: inline-block; width: calc(50% - 10px)\">The patient was admitted to cardiology on [**2197-7-8**] for a CHF exacerbation with DOE x2 wk</div><div style=\"display: inline-block; width: calc(50% - 10px)\">She had hoarseness starting on [**7-6**]</div><div style=\"width: 20px; display: inline-block\"></div><div style=\"display: inline-block; width: calc(50% - 10px)\">She had hoarseness starting on [**7-6**]</div><div style=\"display: inline-block; width: calc(50% - 10px)\">On [**7-8**], the patient triggered for AMS and tachycardia to 140 and was treated for AFib</div><div style=\"width: 20px; display: inline-block\"></div><div style=\"display: inline-block; width: calc(50% - 10px)\">On [**7-8**], the patient triggered for AMS and tachycardia to 140 and was treated for AFib</div><div style=\"display: inline-block; width: calc(50% - 10px)\">On [**7-9**] at 0100, the patient was found to be dysarthric and weak</div><div style=\"width: 20px; display: inline-block\"></div><div style=\"display: inline-block; width: calc(50% - 10px)\">On [**7-9**] at 0100, the patient was found to be dysarthric and weak</div><div style=\"display: inline-block; width: calc(50% - 10px)\">She recieved a CT head, which showed several subacute and chronic sites of infarction</div><div style=\"width: 20px; display: inline-block\"></div><div style=\"display: inline-block; width: calc(50% - 10px)\">She recieved a CT head, which showed several subacute and chronic sites of infarction</div><div style=\"display: inline-block; width: calc(50% - 10px)\">At 7:30AM, the patient was noted to have difficulty speaking, difficulty swallowing, and right-sided weakness</div><div style=\"width: 20px; display: inline-block\"></div><div style=\"display: inline-block; width: calc(50% - 10px)\">At 7:30AM, the patient was noted to have difficulty speaking, difficulty swallowing, and right-sided weakness</div><div style=\"display: inline-block; width: calc(50% - 10px)\">A CTA showed a right cerebellar infarct with concern for evolution from 1 am to 11 am today, also left ICA occlusion</div><div style=\"width: 20px; display: inline-block\"></div><div style=\"display: inline-block; width: calc(50% - 10px)\">A CTA showed a right cerebellar infarct with concern for evolution from 1 am to 11 am today, also left ICA occlusion</div><div style=\"display: inline-block; width: calc(50% - 10px)\">Injuries: - evolving left cerebellar infarct - occlusion of the left common carotid artery within a centimeter of its origin</div><div style=\"width: 20px; display: inline-block\"></div><div style=\"display: inline-block; width: calc(50% - 10px)\">Injuries: - evolving left cerebellar infarct - occlusion of the left common carotid artery within a centimeter of its origin</div><div style=\"display: inline-block; width: calc(50% - 10px)\">- intraluminal thrombus of the distal right vertebral artery - left subclavian artery is occluded at its origin, with extensive surrounding atherosclerotic calcification</div><div style=\"width: 20px; display: inline-block\"></div><div style=\"display: inline-block; width: calc(50% - 10px)\">- intraluminal thrombus of the distal right vertebral artery - left subclavian artery is occluded at its origin, with extensive surrounding atherosclerotic calcification</div><div style=\"display: inline-block; width: calc(50% - 10px)\">- It is likely that the left vertebral artery participates in a so called &quot;subclavian steal,&quot; accounting for the disparate blood pressures noted on physical examination</div><div style=\"width: 20px; display: inline-block\"></div><div style=\"display: inline-block; width: calc(50% - 10px)\">- It is likely that the left vertebral artery participates in a so called &quot;subclavian steal,&quot; accounting for the disparate blood pressures noted on physical examination</div><div style=\"display: inline-block; width: calc(50% - 10px)\">CVA (Stroke, Cerebral infarction), Ischemic Assessment: Pt alert and oriented x1</div><div style=\"width: 20px; display: inline-block\"></div><div style=\"display: inline-block; width: calc(50% - 10px)\">CVA (Stroke, Cerebral infarction), Ischemic Assessment: Pt alert and oriented x1</div><div style=\"display: inline-block; width: calc(50% - 10px)\">Pt follows commands</div><div style=\"width: 20px; display: inline-block\"></div><div style=\"display: inline-block; width: calc(50% - 10px)\">Pt follows commands</div><div style=\"display: inline-block; width: calc(50% - 10px)\">Pt has expressive aphasia but nods appropriately to some questions</div><div style=\"width: 20px; display: inline-block\"></div><div style=\"display: inline-block; width: calc(50% - 10px)\">Pt has expressive aphasia but nods appropriately to some questions</div><div style=\"display: inline-block; width: calc(50% - 10px)\">Pt has no movement in RUE, but withdraws to pain in the RLE</div><div style=\"width: 20px; display: inline-block\"></div><div style=\"display: inline-block; width: calc(50% - 10px)\">Pt has no movement in RUE, but withdraws to pain in the RLE</div><div style=\"display: inline-block; width: calc(50% - 10px)\">Pt can lift and hold the LUE and LLE</div><div style=\"width: 20px; display: inline-block\"></div><div style=\"display: inline-block; width: calc(50% - 10px)\">Pt can lift and hold the LUE and LLE</div><div style=\"display: inline-block; width: calc(50% - 10px)\">Pt is on 2L NC and LS clear and diminished at bases</div><div style=\"width: 20px; display: inline-block\"></div><div style=\"display: inline-block; width: calc(50% - 10px)\">Pt is on 2L NC and LS clear and diminished at bases</div><div style=\"display: inline-block; width: calc(50% - 10px)\">Pt coughing up secretions but now has absent gag, so secretions need some suctioning</div><div style=\"width: 20px; display: inline-block\"></div><div style=\"display: inline-block; width: calc(50% - 10px)\">Pt coughing up secretions but now has absent gag, so secretions need some suctioning</div><div style=\"display: inline-block; width: calc(50% - 10px)\">Action: -Mannitol discontinued, Neuro exam changed to q4h -family meeting occurred to discuss code status yesterday and family changed pt to [**Month/Day (1) 580**], a few hr later called and made pt Full [**Name (NI) 36**]</div><div style=\"width: 20px; display: inline-block\"></div><div style=\"display: inline-block; width: calc(50% - 10px)\">Action: -Mannitol discontinued, Neuro exam changed to q4h -family meeting occurred to discuss code status yesterday and family changed pt to [**Month/Day (1) 580**], a few hr later called and made pt Full [**Name (NI) 36**]</div><div style=\"display: inline-block; width: calc(50% - 10px)\">Ethics now involved and daughter today found pt s living will, which clearly states no heroic measures if her mental and physical status [**Male First Name (un) **] return to baseline</div><div style=\"width: 20px; display: inline-block\"></div><div style=\"display: inline-block; width: calc(50% - 10px)\">Ethics now involved and daughter today found pt s living will, which clearly states no heroic measures if her mental and physical status [**Male First Name (un) **] return to baseline</div><div style=\"display: inline-block; width: calc(50% - 10px)\">Daughter understanding situation and wants to make pt [**Name (NI) 580**], [**First Name3 (LF) **] is having trouble with this decision</div><div style=\"width: 20px; display: inline-block\"></div><div style=\"display: inline-block; width: calc(50% - 10px)\">Daughter understanding situation and wants to make pt [**Name (NI) 580**], [**First Name3 (LF) **] is having trouble with this decision</div><div style=\"display: inline-block; width: calc(50% - 10px)\">Social work and ethics involved and trying to have another family meeting to make the pt s wishes known</div><div style=\"width: 20px; display: inline-block\"></div><div style=\"display: inline-block; width: calc(50% - 10px)\">Social work and ethics involved and trying to have another family meeting to make the pt s wishes known</div><div style=\"display: inline-block; width: calc(50% - 10px)\">Response: -Neuro exam <span style=\"background: #69E2FB;\">unchanged -Team is still trying</span> to <span style=\"background: #69E2FB;\">get in touch with son for a family meeting</span></div><div style=\"width: 20px; display: inline-block\"></div><div style=\"display: inline-block; width: calc(50% - 10px)\">Response: -Neuro exam <span style=\"background: #69E2FB;\">changed and pt now able</span> to <span style=\"background: #69E2FB;\">speak fairly clearly and say her name and the name of her kids</span></div><div style=\"display: inline-block; width: calc(50% - 10px)\"><span style=\"background: #69E2FB;\">Plan: Awaiting families decision</span> for <span style=\"background: #69E2FB;\">pt s</span> plan <span style=\"background: #69E2FB;\">of care Atrial fibrillation (Afib) Assessment: HR in the 80s -100s afib and paced</span></div><div style=\"width: 20px; display: inline-block\"></div><div style=\"display: inline-block; width: calc(50% - 10px)\"><span style=\"background: #69E2FB;\">-Team is still trying to get in touch with son</span> for <span style=\"background: #69E2FB;\">a family meeting and discuss new development and</span> plan</div><div style=\"display: inline-block; width: calc(50% - 10px)\"><span style=\"background: #69E2FB;\"></span></div><div style=\"width: 20px; display: inline-block\"></div><div style=\"display: inline-block; width: calc(50% - 10px)\"><span style=\"background: #69E2FB;\">Plan: Awaiting families decision for pt s plan of care, Pt transfer to stepdown Atrial fibrillation (Afib) Assessment: HR in the 80s -100s afib and paced</span></div><div style=\"display: inline-block; width: calc(50% - 10px)\">Pt SBP within 140-180</div><div style=\"width: 20px; display: inline-block\"></div><div style=\"display: inline-block; width: calc(50% - 10px)\">Pt SBP within 140-180</div><div style=\"display: inline-block; width: calc(50% - 10px)\">Action: -Diltiazem gtt titrated for HR under 100 -metoprolol given q4hr for BP management -Coumadin in place Response: HR wnl and paced</div><div style=\"width: 20px; display: inline-block\"></div><div style=\"display: inline-block; width: calc(50% - 10px)\">Action: -Diltiazem gtt titrated for HR under 100 -metoprolol given q4hr for BP management -Coumadin in place Response: HR wnl and paced</div><div style=\"display: inline-block; width: calc(50% - 10px)\">SBP within goal Plan: Continue Diltiazem gtt and titrate for a HR 80-100 and keep SBP 140-180 with lopressor</div><div style=\"width: 20px; display: inline-block\"></div><div style=\"display: inline-block; width: calc(50% - 10px)\">SBP within goal Plan: Continue Diltiazem gtt and titrate for a HR 80-100 and keep SBP 140-180 with lopressor</div><div style=\"display: inline-block; width: calc(50% - 10px)\"></div><div style=\"width: 20px; display: inline-block\"></div><div style=\"display: inline-block; width: calc(50% - 10px)\"><span style=\"background: #69E2FB;\">Demographics Attending MD: [**Doctor Last Name 3055**] [**First Name8 (NamePattern2) **] [**Last Name (NamePattern1) **] Admit diagnosis: CONGESTIVE HEART FAILURE Code status: Full code Height: 61 Inch Admission weight: 55.5 kg Daily weight: 55.8 kg Allergies/Reactions: No Known Drug Allergies Precautions: PMH: CV-PMH: Additional history: diabetes, dyslipidemia, hypertension, hypothyroidism, hystorectomy, cholecystectomy Surgery / Procedure and date: Latest Vital Signs and I/O Non-invasive BP: S:157 D:76 Temperature: 96.9 Arterial BP: S: D: Respiratory rate: 17 insp/min Heart Rate: 84 bpm Heart rhythm: AF (Atrial Fibrillation) O2 delivery device: Nasal cannula O2 saturation: 99% % O2 flow: 3 L/min FiO2 set: 100% % 24h total in: 1,393 mL 24h total out: 785 mL Pertinent Lab Results: Sodium: 141 mEq/L [**2197-7-13**] 04:36 AM Potassium: 3.6 mEq/L [**2197-7-13**] 04:36 AM Chloride: 105 mEq/L [**2197-7-13**] 04:36 AM CO2: 24 mEq/L [**2197-7-13**] 04:36 AM BUN: 21 mg/dL [**2197-7-13**] 04:36 AM Creatinine: 1.2 mg/dL [**2197-7-13**] 04:36 AM Glucose: 140 mg/dL [**2197-7-13**] 04:36 AM Hematocrit: 38.3 % [**2197-7-13**] 04:36 AM Finger Stick Glucose: 130 [**2197-7-13**] 02:00 PM Valuables / Signature Patient valuables: None Other valuables: Clothes: Sent home with: Wallet / Money: No money / wallet Cash / Credit cards sent home with: Jewelry: Transferred from: [**Hospital 1359**] Transferred to: [**Hospital Ward Name 289**] 11 Date &amp; time of Transfer: [**2197-7-13**] 1630</span> </div></div>"
      ],
      "text/plain": [
       "<IPython.core.display.HTML object>"
      ]
     },
     "metadata": {},
     "output_type": "display_data"
    }
   ],
   "source": [
    "show_diffs(nut_notes.iloc[0], nut_notes.iloc[1])"
   ]
  }
 ],
 "metadata": {
  "kernelspec": {
   "display_name": "Python [conda env:distil_bert]",
   "language": "python",
   "name": "conda-env-distil_bert-py"
  },
  "language_info": {
   "codemirror_mode": {
    "name": "ipython",
    "version": 3
   },
   "file_extension": ".py",
   "mimetype": "text/x-python",
   "name": "python",
   "nbconvert_exporter": "python",
   "pygments_lexer": "ipython3",
   "version": "3.7.7"
  }
 },
 "nbformat": 4,
 "nbformat_minor": 4
}
