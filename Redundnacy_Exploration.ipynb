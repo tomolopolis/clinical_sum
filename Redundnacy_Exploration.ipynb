{
 "cells": [
  {
   "cell_type": "code",
   "execution_count": 50,
   "metadata": {},
   "outputs": [
    {
     "name": "stdout",
     "output_type": "stream",
     "text": [
      "The autoreload extension is already loaded. To reload it, use:\n",
      "  %reload_ext autoreload\n"
     ]
    }
   ],
   "source": [
    "%load_ext autoreload"
   ]
  },
  {
   "cell_type": "code",
   "execution_count": 51,
   "metadata": {},
   "outputs": [],
   "source": [
    "%autoreload 2"
   ]
  },
  {
   "cell_type": "code",
   "execution_count": 220,
   "metadata": {},
   "outputs": [],
   "source": [
    "from icd9cms import search\n",
    "import os\n",
    "import pandas as pd\n",
    "from collections import defaultdict\n",
    "import json\n",
    "from itertools import chain\n",
    "import ipywidgets as widgets\n",
    "from IPython.display import display\n",
    "import re\n",
    "from collections import Counter\n",
    "from collections import defaultdict\n",
    "import difflib\n",
    "from differ import html_diffs, align_seqs, sentencize, diff_ratio"
   ]
  },
  {
   "cell_type": "code",
   "execution_count": 6,
   "metadata": {},
   "outputs": [],
   "source": [
    "codes = pd.read_csv('/Users/tom/phd/summariser/primary_codes.csv')\n",
    "sorted_primary_codes_df =codes['icd9_code'].value_counts().rename_axis('code').reset_index()\n",
    "sorted_primary_codes_df['long_title'] = sorted_primary_codes_df['code'].apply(lambda c: search(c).long_desc or search(c).short_desc)\n",
    "sorted_primary_codes_df.columns = ['code', 'count', 'long_title']\n",
    "sorted_primary_codes_df = sorted_primary_codes_df[~sorted_primary_codes_df.code.str.startswith('V3')]"
   ]
  },
  {
   "cell_type": "code",
   "execution_count": 7,
   "metadata": {},
   "outputs": [
    {
     "data": {
      "text/html": [
       "<div>\n",
       "<style scoped>\n",
       "    .dataframe tbody tr th:only-of-type {\n",
       "        vertical-align: middle;\n",
       "    }\n",
       "\n",
       "    .dataframe tbody tr th {\n",
       "        vertical-align: top;\n",
       "    }\n",
       "\n",
       "    .dataframe thead th {\n",
       "        text-align: right;\n",
       "    }\n",
       "</style>\n",
       "<table border=\"1\" class=\"dataframe\">\n",
       "  <thead>\n",
       "    <tr style=\"text-align: right;\">\n",
       "      <th></th>\n",
       "      <th>code</th>\n",
       "      <th>count</th>\n",
       "      <th>long_title</th>\n",
       "    </tr>\n",
       "  </thead>\n",
       "  <tbody>\n",
       "    <tr>\n",
       "      <th>1</th>\n",
       "      <td>41401</td>\n",
       "      <td>3498</td>\n",
       "      <td>Coronary atherosclerosis of native coronary ar...</td>\n",
       "    </tr>\n",
       "  </tbody>\n",
       "</table>\n",
       "</div>"
      ],
      "text/plain": [
       "    code  count                                         long_title\n",
       "1  41401   3498  Coronary atherosclerosis of native coronary ar..."
      ]
     },
     "execution_count": 7,
     "metadata": {},
     "output_type": "execute_result"
    }
   ],
   "source": [
    "sorted_primary_codes_df[sorted_primary_codes_df.code.str.startswith('41401')]"
   ]
  },
  {
   "cell_type": "code",
   "execution_count": 8,
   "metadata": {},
   "outputs": [
    {
     "data": {
      "text/html": [
       "<div>\n",
       "<style scoped>\n",
       "    .dataframe tbody tr th:only-of-type {\n",
       "        vertical-align: middle;\n",
       "    }\n",
       "\n",
       "    .dataframe tbody tr th {\n",
       "        vertical-align: top;\n",
       "    }\n",
       "\n",
       "    .dataframe thead th {\n",
       "        text-align: right;\n",
       "    }\n",
       "</style>\n",
       "<table border=\"1\" class=\"dataframe\">\n",
       "  <thead>\n",
       "    <tr style=\"text-align: right;\">\n",
       "      <th></th>\n",
       "      <th>code</th>\n",
       "      <th>count</th>\n",
       "      <th>long_title</th>\n",
       "    </tr>\n",
       "  </thead>\n",
       "  <tbody>\n",
       "    <tr>\n",
       "      <th>1</th>\n",
       "      <td>41401</td>\n",
       "      <td>3498</td>\n",
       "      <td>Coronary atherosclerosis of native coronary ar...</td>\n",
       "    </tr>\n",
       "    <tr>\n",
       "      <th>4</th>\n",
       "      <td>41071</td>\n",
       "      <td>1751</td>\n",
       "      <td>Subendocardial infarction, initial episode of ...</td>\n",
       "    </tr>\n",
       "    <tr>\n",
       "      <th>15</th>\n",
       "      <td>41041</td>\n",
       "      <td>482</td>\n",
       "      <td>Acute myocardial infarction of other inferior ...</td>\n",
       "    </tr>\n",
       "    <tr>\n",
       "      <th>16</th>\n",
       "      <td>41011</td>\n",
       "      <td>482</td>\n",
       "      <td>Acute myocardial infarction of other anterior ...</td>\n",
       "    </tr>\n",
       "    <tr>\n",
       "      <th>20</th>\n",
       "      <td>41519</td>\n",
       "      <td>343</td>\n",
       "      <td>Other pulmonary embolism and infarction</td>\n",
       "    </tr>\n",
       "  </tbody>\n",
       "</table>\n",
       "</div>"
      ],
      "text/plain": [
       "     code  count                                         long_title\n",
       "1   41401   3498  Coronary atherosclerosis of native coronary ar...\n",
       "4   41071   1751  Subendocardial infarction, initial episode of ...\n",
       "15  41041    482  Acute myocardial infarction of other inferior ...\n",
       "16  41011    482  Acute myocardial infarction of other anterior ...\n",
       "20  41519    343            Other pulmonary embolism and infarction"
      ]
     },
     "execution_count": 8,
     "metadata": {},
     "output_type": "execute_result"
    }
   ],
   "source": [
    "sorted_primary_codes_df[sorted_primary_codes_df.code.str.startswith('41')].head(5)"
   ]
  },
  {
   "cell_type": "code",
   "execution_count": 424,
   "metadata": {},
   "outputs": [
    {
     "data": {
      "text/plain": [
       "['Cerebral embolism with cerebral infarction',\n",
       " 'Cerebral artery occlusion, unspecified with cerebral infarction',\n",
       " 'Cerebral thrombosis with cerebral infarction',\n",
       " 'Cerebral artery occlusion, unspecified without mention of cerebral infarction',\n",
       " 'Cerebral embolism without mention of cerebral infarction']"
      ]
     },
     "execution_count": 424,
     "metadata": {},
     "output_type": "execute_result"
    }
   ],
   "source": [
    "sorted_primary_codes_df[sorted_primary_codes_df.code.str.startswith('434')].long_title.tolist()"
   ]
  },
  {
   "cell_type": "markdown",
   "metadata": {},
   "source": [
    "### 41401 Notes"
   ]
  },
  {
   "cell_type": "code",
   "execution_count": 11,
   "metadata": {},
   "outputs": [],
   "source": [
    "notes = pd.read_csv('/Users/tom/phd/summariser/41401_notes.csv')"
   ]
  },
  {
   "cell_type": "code",
   "execution_count": 415,
   "metadata": {},
   "outputs": [],
   "source": [
    "discharge_notes = notes[(notes.category == 'Discharge summary') & (notes.description != 'Addendum')]"
   ]
  },
  {
   "cell_type": "code",
   "execution_count": 14,
   "metadata": {},
   "outputs": [],
   "source": [
    "splitter = '------\\n------\\n------\\n'\n",
    "def split_notes(notes):\n",
    "    care_notes = defaultdict(list)\n",
    "    discharge_notes = defaultdict(list)\n",
    "    for adm, df in notes.sort_values(['hadm_id', 'chartdate', 'charttime']).groupby('hadm_id'):\n",
    "        dis_notes = df[(df.category == 'Discharge summary') & (df.description != 'Addendum')].text.tolist()\n",
    "        care_df = df[df.category != 'Discharge summary']\n",
    "        if len(dis_notes) == 0 or care_df.shape[0] == 0:\n",
    "            continue\n",
    "\n",
    "        hadm_id = care_df.hadm_id.iloc[0]\n",
    "        # pick first as there are rarely 2 summaries??\n",
    "\n",
    "        discharge_notes['hadm_id'].append(hadm_id)\n",
    "        discharge_notes['text'].append(dis_notes[0])\n",
    "        # ignore addendums - as not sure what section they are in.\n",
    "\n",
    "        care_notes['hadm_id'].append(hadm_id)\n",
    "        care_notes['text'].append(care_df.text.str.cat(sep=splitter))\n",
    "        care_notes['first_time'].append(care_df.iloc[0].charttime or care_df.iloc[0].chartdate)\n",
    "        care_notes['last_time'].append(care_df.iloc[-1].charttime or care_df.iloc[-1].chartdate)\n",
    "        care_notes['categories'].append(care_df.category.tolist())\n",
    "        care_notes['descriptions'].append(care_df.description.tolist())\n",
    "        care_notes['icd_code'].append(care_df.icd9_code.iloc[0])\n",
    "    care_notes_df = pd.DataFrame(care_notes)\n",
    "    discharge_notes_df = pd.DataFrame(discharge_notes)\n",
    "    return care_notes_df, discharge_notes_df"
   ]
  },
  {
   "cell_type": "code",
   "execution_count": 18,
   "metadata": {},
   "outputs": [],
   "source": [
    "care_notes_df, discharge_notes_df = split_notes(notes)"
   ]
  },
  {
   "cell_type": "code",
   "execution_count": null,
   "metadata": {},
   "outputs": [],
   "source": [
    "## note types\n",
    "set(chain.from_iterable([set(c) for c in care_notes_df.categories if 'Physician ' not in c]))"
   ]
  },
  {
   "cell_type": "code",
   "execution_count": 34,
   "metadata": {},
   "outputs": [],
   "source": [
    "care_notes_df['cat_descs'] = care_notes_df.apply(lambda r: [(f'{c.strip()}:{d}') for c,d in zip(r.categories, r.descriptions)], axis=1)"
   ]
  },
  {
   "cell_type": "code",
   "execution_count": 416,
   "metadata": {},
   "outputs": [],
   "source": [
    "def compute_diff(notes: pd.DataFrame) -> pd.DataFrame:\n",
    "    internote_sort_cols = ['hadm_id', 'chartdate', 'charttime', 'category', 'description']\n",
    "    internote_group_keys = ['hadm_id', 'category', 'description']\n",
    "    groups_gen = notes.sort_values(internote_sort_cols).groupby(internote_group_keys)\n",
    "    results = defaultdict(list)\n",
    "    for k, g in groups_gen:\n",
    "        if g.shape[0] > 1:\n",
    "            ratios = [diff_ratio(g.text.iloc[i], g.text.iloc[i+1]) for i in range(len(g.text.tolist()) - 1)]\n",
    "            results['diff_ratios'].append(ratios)\n",
    "            results['avg_diff_ratio'].append(sum(ratios) / len(ratios))\n",
    "            txt_lens = g.text.apply(len)\n",
    "            results['avg_txt_len'].append(sum(txt_lens) / len(txt_lens))\n",
    "            results['hadm_id'].append(k[0])\n",
    "            results['category'].append(k[1])\n",
    "            results['description'].append(k[2])\n",
    "    return pd.DataFrame(results)"
   ]
  },
  {
   "cell_type": "code",
   "execution_count": 425,
   "metadata": {},
   "outputs": [],
   "source": [
    "def compute_avgs(results_df: pd.DataFrame) -> pd.DataFrame:\n",
    "    cat_desc_avg = defaultdict(list)\n",
    "    for k, df in results_df.groupby(['category', 'description']):\n",
    "        cat_desc_avg['cat_desc'].append(f'{k[0]}:{k[1]}')\n",
    "        cat_desc_avg['macro_avg'].append(sum(df.avg_diff_ratio) / df.avg_diff_ratio.shape[0])\n",
    "        d_r = list(chain.from_iterable(df.diff_ratios))\n",
    "        cat_desc_avg['micro_avg'].append(sum(d_r) / len(d_r))\n",
    "        cat_desc_avg['num_instances'].append(len(d_r))\n",
    "    group_avgs = pd.DataFrame(cat_desc_avg)\n",
    "    group_avgs['macro_avg'] = (1 - group_avgs['macro_avg'])\n",
    "    group_avgs['micro_avg'] = (1 - group_avgs['micro_avg'])\n",
    "    group_avgs = group_avgs[~group_avgs.cat_desc.str.contains('Discharge summary')]\n",
    "    group_avgs = group_avgs[group_avgs['num_instances'] > 5]\n",
    "    group_avgs = group_avgs.sort_values('num_instances', ascending=False).reset_index(drop=True).head(20)\n",
    "    return group_avgs"
   ]
  },
  {
   "cell_type": "code",
   "execution_count": 401,
   "metadata": {},
   "outputs": [
    {
     "name": "stdout",
     "output_type": "stream",
     "text": [
      "Token level / global note redundancy with concurrent notes:\n",
      "Overall Average Internote Redundnacy:0.918539924817974\n"
     ]
    }
   ],
   "source": [
    "print('Token level / global note redundancy with concurrent notes:')\n",
    "print(f'Overall Average Internote type redundnacy:{1 - (results_df.avg_diff_ratio.sum() / results_df.avg_diff_ratio.shape[0])}')"
   ]
  },
  {
   "cell_type": "code",
   "execution_count": 364,
   "metadata": {},
   "outputs": [],
   "source": [
    "def show_diffs(a, b):\n",
    "    display(HTML(html_diffs(a,b)))"
   ]
  },
  {
   "cell_type": "markdown",
   "metadata": {},
   "source": [
    "### 43411 Note Analysis"
   ]
  },
  {
   "cell_type": "code",
   "execution_count": 419,
   "metadata": {},
   "outputs": [],
   "source": [
    "stroke_notes = pd.read_csv('/Users/tom/phd/summariser/43411_notes.csv')"
   ]
  },
  {
   "cell_type": "code",
   "execution_count": 420,
   "metadata": {},
   "outputs": [
    {
     "name": "stdout",
     "output_type": "stream",
     "text": [
      "CPU times: user 44.2 s, sys: 197 ms, total: 44.4 s\n",
      "Wall time: 44.5 s\n"
     ]
    }
   ],
   "source": [
    "%%time\n",
    "results_df = compute_diff(stroke_notes)\n",
    "group_avgs = compute_avgs(results_df)"
   ]
  },
  {
   "cell_type": "code",
   "execution_count": 426,
   "metadata": {},
   "outputs": [
    {
     "data": {
      "text/html": [
       "<div>\n",
       "<style scoped>\n",
       "    .dataframe tbody tr th:only-of-type {\n",
       "        vertical-align: middle;\n",
       "    }\n",
       "\n",
       "    .dataframe tbody tr th {\n",
       "        vertical-align: top;\n",
       "    }\n",
       "\n",
       "    .dataframe thead th {\n",
       "        text-align: right;\n",
       "    }\n",
       "</style>\n",
       "<table border=\"1\" class=\"dataframe\">\n",
       "  <thead>\n",
       "    <tr style=\"text-align: right;\">\n",
       "      <th></th>\n",
       "      <th>cat_desc</th>\n",
       "      <th>macro_avg</th>\n",
       "      <th>micro_avg</th>\n",
       "      <th>num_instances</th>\n",
       "    </tr>\n",
       "  </thead>\n",
       "  <tbody>\n",
       "    <tr>\n",
       "      <th>0</th>\n",
       "      <td>Nursing/other:Report</td>\n",
       "      <td>0.982040</td>\n",
       "      <td>0.979950</td>\n",
       "      <td>1889</td>\n",
       "    </tr>\n",
       "    <tr>\n",
       "      <th>1</th>\n",
       "      <td>Radiology:CHEST (PORTABLE AP)</td>\n",
       "      <td>0.932936</td>\n",
       "      <td>0.932710</td>\n",
       "      <td>837</td>\n",
       "    </tr>\n",
       "    <tr>\n",
       "      <th>2</th>\n",
       "      <td>Nursing:Nursing Progress Note</td>\n",
       "      <td>0.897988</td>\n",
       "      <td>0.911357</td>\n",
       "      <td>620</td>\n",
       "    </tr>\n",
       "    <tr>\n",
       "      <th>3</th>\n",
       "      <td>ECG:Report</td>\n",
       "      <td>0.848381</td>\n",
       "      <td>0.844022</td>\n",
       "      <td>512</td>\n",
       "    </tr>\n",
       "    <tr>\n",
       "      <th>4</th>\n",
       "      <td>Radiology:CT HEAD W/O CONTRAST</td>\n",
       "      <td>0.944593</td>\n",
       "      <td>0.944366</td>\n",
       "      <td>373</td>\n",
       "    </tr>\n",
       "    <tr>\n",
       "      <th>5</th>\n",
       "      <td>Physician :Intensivist Note</td>\n",
       "      <td>0.943441</td>\n",
       "      <td>0.945627</td>\n",
       "      <td>211</td>\n",
       "    </tr>\n",
       "    <tr>\n",
       "      <th>6</th>\n",
       "      <td>Nursing:Nursing Transfer Note</td>\n",
       "      <td>0.934466</td>\n",
       "      <td>0.939193</td>\n",
       "      <td>159</td>\n",
       "    </tr>\n",
       "    <tr>\n",
       "      <th>7</th>\n",
       "      <td>Physician :Physician Resident Progress Note</td>\n",
       "      <td>0.946314</td>\n",
       "      <td>0.940744</td>\n",
       "      <td>94</td>\n",
       "    </tr>\n",
       "    <tr>\n",
       "      <th>8</th>\n",
       "      <td>Respiratory :Respiratory Care Shift Note</td>\n",
       "      <td>0.743390</td>\n",
       "      <td>0.710084</td>\n",
       "      <td>79</td>\n",
       "    </tr>\n",
       "    <tr>\n",
       "      <th>9</th>\n",
       "      <td>Echo:Report</td>\n",
       "      <td>0.978231</td>\n",
       "      <td>0.978041</td>\n",
       "      <td>77</td>\n",
       "    </tr>\n",
       "    <tr>\n",
       "      <th>10</th>\n",
       "      <td>Radiology:MR HEAD W/O CONTRAST</td>\n",
       "      <td>0.912743</td>\n",
       "      <td>0.913525</td>\n",
       "      <td>48</td>\n",
       "    </tr>\n",
       "    <tr>\n",
       "      <th>11</th>\n",
       "      <td>Radiology:CHEST PORT. LINE PLACEMENT</td>\n",
       "      <td>0.934731</td>\n",
       "      <td>0.928238</td>\n",
       "      <td>34</td>\n",
       "    </tr>\n",
       "    <tr>\n",
       "      <th>12</th>\n",
       "      <td>Physician :Physician Attending Progress Note</td>\n",
       "      <td>0.919500</td>\n",
       "      <td>0.928950</td>\n",
       "      <td>31</td>\n",
       "    </tr>\n",
       "    <tr>\n",
       "      <th>13</th>\n",
       "      <td>Nutrition:Clinical Nutrition Note</td>\n",
       "      <td>0.919276</td>\n",
       "      <td>0.914328</td>\n",
       "      <td>23</td>\n",
       "    </tr>\n",
       "    <tr>\n",
       "      <th>14</th>\n",
       "      <td>Radiology:PORTABLE ABDOMEN</td>\n",
       "      <td>0.893808</td>\n",
       "      <td>0.895993</td>\n",
       "      <td>23</td>\n",
       "    </tr>\n",
       "    <tr>\n",
       "      <th>15</th>\n",
       "      <td>Physician :Physician Resident Admission Note</td>\n",
       "      <td>0.978955</td>\n",
       "      <td>0.977032</td>\n",
       "      <td>19</td>\n",
       "    </tr>\n",
       "    <tr>\n",
       "      <th>16</th>\n",
       "      <td>Radiology:CHEST (PA &amp; LAT)</td>\n",
       "      <td>0.948021</td>\n",
       "      <td>0.948396</td>\n",
       "      <td>12</td>\n",
       "    </tr>\n",
       "    <tr>\n",
       "      <th>17</th>\n",
       "      <td>Radiology:BY DIFFERENT PHYSICIAN</td>\n",
       "      <td>0.939589</td>\n",
       "      <td>0.943331</td>\n",
       "      <td>9</td>\n",
       "    </tr>\n",
       "    <tr>\n",
       "      <th>18</th>\n",
       "      <td>Radiology:MR HEAD W &amp; W/O CONTRAST</td>\n",
       "      <td>0.928126</td>\n",
       "      <td>0.931059</td>\n",
       "      <td>7</td>\n",
       "    </tr>\n",
       "    <tr>\n",
       "      <th>19</th>\n",
       "      <td>Physician :Physician Surgical Progress Note</td>\n",
       "      <td>0.942047</td>\n",
       "      <td>0.938166</td>\n",
       "      <td>7</td>\n",
       "    </tr>\n",
       "  </tbody>\n",
       "</table>\n",
       "</div>"
      ],
      "text/plain": [
       "                                        cat_desc  macro_avg  micro_avg  \\\n",
       "0                           Nursing/other:Report   0.982040   0.979950   \n",
       "1                  Radiology:CHEST (PORTABLE AP)   0.932936   0.932710   \n",
       "2                  Nursing:Nursing Progress Note   0.897988   0.911357   \n",
       "3                                     ECG:Report   0.848381   0.844022   \n",
       "4                 Radiology:CT HEAD W/O CONTRAST   0.944593   0.944366   \n",
       "5                    Physician :Intensivist Note   0.943441   0.945627   \n",
       "6                  Nursing:Nursing Transfer Note   0.934466   0.939193   \n",
       "7    Physician :Physician Resident Progress Note   0.946314   0.940744   \n",
       "8       Respiratory :Respiratory Care Shift Note   0.743390   0.710084   \n",
       "9                                    Echo:Report   0.978231   0.978041   \n",
       "10                Radiology:MR HEAD W/O CONTRAST   0.912743   0.913525   \n",
       "11          Radiology:CHEST PORT. LINE PLACEMENT   0.934731   0.928238   \n",
       "12  Physician :Physician Attending Progress Note   0.919500   0.928950   \n",
       "13             Nutrition:Clinical Nutrition Note   0.919276   0.914328   \n",
       "14                    Radiology:PORTABLE ABDOMEN   0.893808   0.895993   \n",
       "15  Physician :Physician Resident Admission Note   0.978955   0.977032   \n",
       "16                    Radiology:CHEST (PA & LAT)   0.948021   0.948396   \n",
       "17              Radiology:BY DIFFERENT PHYSICIAN   0.939589   0.943331   \n",
       "18            Radiology:MR HEAD W & W/O CONTRAST   0.928126   0.931059   \n",
       "19   Physician :Physician Surgical Progress Note   0.942047   0.938166   \n",
       "\n",
       "    num_instances  \n",
       "0            1889  \n",
       "1             837  \n",
       "2             620  \n",
       "3             512  \n",
       "4             373  \n",
       "5             211  \n",
       "6             159  \n",
       "7              94  \n",
       "8              79  \n",
       "9              77  \n",
       "10             48  \n",
       "11             34  \n",
       "12             31  \n",
       "13             23  \n",
       "14             23  \n",
       "15             19  \n",
       "16             12  \n",
       "17              9  \n",
       "18              7  \n",
       "19              7  "
      ]
     },
     "execution_count": 426,
     "metadata": {},
     "output_type": "execute_result"
    }
   ],
   "source": [
    "group_avgs.sort_values('num_instances', ascending=False).reset_index(drop=True).head(20)"
   ]
  },
  {
   "cell_type": "code",
   "execution_count": null,
   "metadata": {},
   "outputs": [],
   "source": []
  },
  {
   "cell_type": "code",
   "execution_count": null,
   "metadata": {},
   "outputs": [],
   "source": [
    "ptn = re.compile(r'(?<=brief\\shospital\\scourse\\:)(?:.*\\n)+?(?=\\n\\n)', flags=re.I)\n",
    "m = re.search(ptn, discharge_notes_df.iloc[idx].text)\n",
    "hosp_course = re.split(r'(\\n\\n.*\\:\\n?)', discharge_notes_df.iloc[idx].text[m.start():m.end()])[0]\n",
    "print(hosp_course)"
   ]
  },
  {
   "cell_type": "code",
   "execution_count": null,
   "metadata": {},
   "outputs": [],
   "source": []
  }
 ],
 "metadata": {
  "kernelspec": {
   "display_name": "Python [conda env:mimc3_dd]",
   "language": "python",
   "name": "conda-env-mimc3_dd-py"
  },
  "language_info": {
   "codemirror_mode": {
    "name": "ipython",
    "version": 3
   },
   "file_extension": ".py",
   "mimetype": "text/x-python",
   "name": "python",
   "nbconvert_exporter": "python",
   "pygments_lexer": "ipython3",
   "version": "3.8.1"
  }
 },
 "nbformat": 4,
 "nbformat_minor": 4
}
